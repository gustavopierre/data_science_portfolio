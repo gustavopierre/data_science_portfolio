{
  "nbformat": 4,
  "nbformat_minor": 0,
  "metadata": {
    "colab": {
      "name": "HomeworkDataSciencePythonPro.ipynb",
      "provenance": [],
      "collapsed_sections": [],
      "authorship_tag": "ABX9TyPFV8OIfOE1dnLmWyft1bQ3",
      "include_colab_link": true
    },
    "kernelspec": {
      "name": "python3",
      "display_name": "Python 3"
    },
    "widgets": {
      "application/vnd.jupyter.widget-state+json": {
        "180512d9b9e041b4937afacbbe6db95f": {
          "model_module": "@jupyter-widgets/controls",
          "model_name": "ButtonModel",
          "state": {
            "_view_name": "ButtonView",
            "style": "IPY_MODEL_f6c1d409536d40f5987e9510488226c0",
            "_dom_classes": [],
            "description": "Calculate!",
            "_model_name": "ButtonModel",
            "button_style": "",
            "_view_module": "@jupyter-widgets/controls",
            "_model_module_version": "1.5.0",
            "tooltip": "",
            "_view_count": null,
            "disabled": false,
            "_view_module_version": "1.5.0",
            "layout": "IPY_MODEL_60098b9283db47818d23589deb68ce97",
            "_model_module": "@jupyter-widgets/controls",
            "icon": ""
          }
        },
        "f6c1d409536d40f5987e9510488226c0": {
          "model_module": "@jupyter-widgets/controls",
          "model_name": "ButtonStyleModel",
          "state": {
            "_view_name": "StyleView",
            "_model_name": "ButtonStyleModel",
            "_view_module": "@jupyter-widgets/base",
            "_model_module_version": "1.5.0",
            "_view_count": null,
            "button_color": null,
            "font_weight": "",
            "_view_module_version": "1.2.0",
            "_model_module": "@jupyter-widgets/controls"
          }
        },
        "60098b9283db47818d23589deb68ce97": {
          "model_module": "@jupyter-widgets/base",
          "model_name": "LayoutModel",
          "state": {
            "_view_name": "LayoutView",
            "grid_template_rows": null,
            "right": null,
            "justify_content": null,
            "_view_module": "@jupyter-widgets/base",
            "overflow": null,
            "_model_module_version": "1.2.0",
            "_view_count": null,
            "flex_flow": null,
            "width": null,
            "min_width": null,
            "border": null,
            "align_items": null,
            "bottom": null,
            "_model_module": "@jupyter-widgets/base",
            "top": null,
            "grid_column": null,
            "overflow_y": null,
            "overflow_x": null,
            "grid_auto_flow": null,
            "grid_area": null,
            "grid_template_columns": null,
            "flex": null,
            "_model_name": "LayoutModel",
            "justify_items": null,
            "grid_row": null,
            "max_height": null,
            "align_content": null,
            "visibility": null,
            "align_self": null,
            "height": null,
            "min_height": null,
            "padding": null,
            "grid_auto_rows": null,
            "grid_gap": null,
            "max_width": null,
            "order": null,
            "_view_module_version": "1.2.0",
            "grid_template_areas": null,
            "object_position": null,
            "object_fit": null,
            "grid_auto_columns": null,
            "margin": null,
            "display": null,
            "left": null
          }
        },
        "ffe922adf175476fa1d3c59b9dd2bee2": {
          "model_module": "@jupyter-widgets/output",
          "model_name": "OutputModel",
          "state": {
            "_view_name": "OutputView",
            "msg_id": "",
            "_dom_classes": [],
            "_model_name": "OutputModel",
            "outputs": [
              {
                "output_type": "stream",
                "metadata": {
                  "tags": []
                },
                "text": "[(-20.058720922101248, -44.01038904298729), (-20.062523867550127, -44.03801028449023), (-20.083709426141436, -44.03392295090681)]\n-20.068318071930936 -44.027440759461435\n",
                "stream": "stdout"
              }
            ],
            "_view_module": "@jupyter-widgets/output",
            "_model_module_version": "1.0.0",
            "_view_count": null,
            "_view_module_version": "1.0.0",
            "layout": "IPY_MODEL_2f55db34dda74d28bc40347a5408e86c",
            "_model_module": "@jupyter-widgets/output"
          }
        },
        "2f55db34dda74d28bc40347a5408e86c": {
          "model_module": "@jupyter-widgets/base",
          "model_name": "LayoutModel",
          "state": {
            "_view_name": "LayoutView",
            "grid_template_rows": null,
            "right": null,
            "justify_content": null,
            "_view_module": "@jupyter-widgets/base",
            "overflow": null,
            "_model_module_version": "1.2.0",
            "_view_count": null,
            "flex_flow": null,
            "width": null,
            "min_width": null,
            "border": null,
            "align_items": null,
            "bottom": null,
            "_model_module": "@jupyter-widgets/base",
            "top": null,
            "grid_column": null,
            "overflow_y": null,
            "overflow_x": null,
            "grid_auto_flow": null,
            "grid_area": null,
            "grid_template_columns": null,
            "flex": null,
            "_model_name": "LayoutModel",
            "justify_items": null,
            "grid_row": null,
            "max_height": null,
            "align_content": null,
            "visibility": null,
            "align_self": null,
            "height": null,
            "min_height": null,
            "padding": null,
            "grid_auto_rows": null,
            "grid_gap": null,
            "max_width": null,
            "order": null,
            "_view_module_version": "1.2.0",
            "grid_template_areas": null,
            "object_position": null,
            "object_fit": null,
            "grid_auto_columns": null,
            "margin": null,
            "display": null,
            "left": null
          }
        }
      }
    }
  },
  "cells": [
    {
      "cell_type": "markdown",
      "metadata": {
        "id": "view-in-github",
        "colab_type": "text"
      },
      "source": [
        "<a href=\"https://colab.research.google.com/github/gustavopierre/data_science_portfolio/blob/master/HomeworkDataSciencePythonPro.ipynb\" target=\"_parent\"><img src=\"https://colab.research.google.com/assets/colab-badge.svg\" alt=\"Open In Colab\"/></a>"
      ]
    },
    {
      "cell_type": "code",
      "metadata": {
        "id": "fV1dPbtL7bXS",
        "colab_type": "code",
        "colab": {
          "base_uri": "https://localhost:8080/",
          "height": 108
        },
        "outputId": "349a1216-6aea-4c41-e63b-41a287cdca28"
      },
      "source": [
        "!pip install pyproj"
      ],
      "execution_count": null,
      "outputs": [
        {
          "output_type": "stream",
          "text": [
            "Collecting pyproj\n",
            "\u001b[?25l  Downloading https://files.pythonhosted.org/packages/e5/c3/071e080230ac4b6c64f1a2e2f9161c9737a2bc7b683d2c90b024825000c0/pyproj-2.6.1.post1-cp36-cp36m-manylinux2010_x86_64.whl (10.9MB)\n",
            "\u001b[K     |████████████████████████████████| 10.9MB 2.6MB/s \n",
            "\u001b[?25hInstalling collected packages: pyproj\n",
            "Successfully installed pyproj-2.6.1.post1\n"
          ],
          "name": "stdout"
        }
      ]
    },
    {
      "cell_type": "code",
      "metadata": {
        "id": "-FQiqlWMt83v",
        "colab_type": "code",
        "colab": {}
      },
      "source": [
        "import pyproj\n",
        "\n",
        "\n",
        "_projections = {}\n",
        "\n",
        "\n",
        "def zone(coordinates):\n",
        "    if 56 <= coordinates[1] < 64 and 3 <= coordinates[0] < 12:\n",
        "        return 32\n",
        "    if 72 <= coordinates[1] < 84 and 0 <= coordinates[0] < 42:\n",
        "        if coordinates[0] < 9:\n",
        "            return 31\n",
        "        elif coordinates[0] < 21:\n",
        "            return 33\n",
        "        elif coordinates[0] < 33:\n",
        "            return 35\n",
        "        return 37\n",
        "    return int((coordinates[0] + 180) / 6) + 1\n",
        "\n",
        "\n",
        "def letter(coordinates):\n",
        "    return 'CDEFGHJKLMNPQRSTUVWXX'[int((coordinates[1] + 80) / 8)]\n",
        "\n",
        "\n",
        "def project(coordinates):\n",
        "    z = zone(coordinates)\n",
        "    l = letter(coordinates)\n",
        "    if z not in _projections:\n",
        "        _projections[z] = pyproj.Proj(proj='utm', zone=z, ellps='WGS84')\n",
        "    x, y = _projections[z](coordinates[0], coordinates[1])\n",
        "    if y < 0:\n",
        "        y += 10000000\n",
        "    return z, l, x, y\n",
        "\n",
        "\n",
        "def unproject(z, l, x, y):\n",
        "    if z not in _projections:\n",
        "        _projections[z] = pyproj.Proj(proj='utm', zone=z, ellps='WGS84')\n",
        "    if l < 'N':\n",
        "        y -= 10000000\n",
        "    lng, lat = _projections[z](x, y, inverse=True)\n",
        "    return (lng, lat)"
      ],
      "execution_count": null,
      "outputs": []
    },
    {
      "cell_type": "code",
      "metadata": {
        "id": "HI3Vuy_8uC2C",
        "colab_type": "code",
        "colab": {}
      },
      "source": [
        "lng, lat = unproject(23, 'Z', 603484, 7781714) "
      ],
      "execution_count": null,
      "outputs": []
    },
    {
      "cell_type": "code",
      "metadata": {
        "id": "mib3_Sj34QTy",
        "colab_type": "code",
        "colab": {
          "base_uri": "https://localhost:8080/",
          "height": 35
        },
        "outputId": "f927d432-37b0-426e-daac-347d7e486b52"
      },
      "source": [
        "print(lng, lat)"
      ],
      "execution_count": null,
      "outputs": [
        {
          "output_type": "stream",
          "text": [
            "-42.27231228117263 70.12127005184689\n"
          ],
          "name": "stdout"
        }
      ]
    },
    {
      "cell_type": "code",
      "metadata": {
        "id": "sO-p0tMh7tx2",
        "colab_type": "code",
        "colab": {}
      },
      "source": [
        "import math\n",
        "\n",
        "def utmToLatLng(zone, easting, northing, northernHemisphere=True):\n",
        "    if not northernHemisphere:\n",
        "        northing = 10000000 - northing\n",
        "\n",
        "    a = 6378137\n",
        "    e = 0.081819191\n",
        "    e1sq = 0.006739497\n",
        "    k0 = 0.9996\n",
        "\n",
        "    arc = northing / k0\n",
        "    mu = arc / (a * (1 - math.pow(e, 2) / 4.0 - 3 * math.pow(e, 4) / 64.0 - 5 * math.pow(e, 6) / 256.0))\n",
        "\n",
        "    ei = (1 - math.pow((1 - e * e), (1 / 2.0))) / (1 + math.pow((1 - e * e), (1 / 2.0)))\n",
        "\n",
        "    ca = 3 * ei / 2 - 27 * math.pow(ei, 3) / 32.0\n",
        "\n",
        "    cb = 21 * math.pow(ei, 2) / 16 - 55 * math.pow(ei, 4) / 32\n",
        "    cc = 151 * math.pow(ei, 3) / 96\n",
        "    cd = 1097 * math.pow(ei, 4) / 512\n",
        "    phi1 = mu + ca * math.sin(2 * mu) + cb * math.sin(4 * mu) + cc * math.sin(6 * mu) + cd * math.sin(8 * mu)\n",
        "\n",
        "    n0 = a / math.pow((1 - math.pow((e * math.sin(phi1)), 2)), (1 / 2.0))\n",
        "\n",
        "    r0 = a * (1 - e * e) / math.pow((1 - math.pow((e * math.sin(phi1)), 2)), (3 / 2.0))\n",
        "    fact1 = n0 * math.tan(phi1) / r0\n",
        "\n",
        "    _a1 = 500000 - easting\n",
        "    dd0 = _a1 / (n0 * k0)\n",
        "    fact2 = dd0 * dd0 / 2\n",
        "\n",
        "    t0 = math.pow(math.tan(phi1), 2)\n",
        "    Q0 = e1sq * math.pow(math.cos(phi1), 2)\n",
        "    fact3 = (5 + 3 * t0 + 10 * Q0 - 4 * Q0 * Q0 - 9 * e1sq) * math.pow(dd0, 4) / 24\n",
        "\n",
        "    fact4 = (61 + 90 * t0 + 298 * Q0 + 45 * t0 * t0 - 252 * e1sq - 3 * Q0 * Q0) * math.pow(dd0, 6) / 720\n",
        "\n",
        "    lof1 = _a1 / (n0 * k0)\n",
        "    lof2 = (1 + 2 * t0 + Q0) * math.pow(dd0, 3) / 6.0\n",
        "    lof3 = (5 - 2 * Q0 + 28 * t0 - 3 * math.pow(Q0, 2) + 8 * e1sq + 24 * math.pow(t0, 2)) * math.pow(dd0, 5) / 120\n",
        "    _a2 = (lof1 - lof2 + lof3) / math.cos(phi1)\n",
        "    _a3 = _a2 * 180 / math.pi\n",
        "\n",
        "    latitude = 180 * (phi1 - fact1 * (fact2 + fact3 + fact4)) / math.pi\n",
        "\n",
        "    if not northernHemisphere:\n",
        "        latitude = -latitude\n",
        "\n",
        "    longitude = ((zone > 0) and (6 * zone - 183.0) or 3.0) - _a3\n",
        "\n",
        "    return (latitude, longitude)"
      ],
      "execution_count": null,
      "outputs": []
    },
    {
      "cell_type": "code",
      "metadata": {
        "id": "AqSRKlPqAEry",
        "colab_type": "code",
        "colab": {}
      },
      "source": [
        "lat, long = utmToLatLng(23, 600593.00, 7781310.00, False)"
      ],
      "execution_count": null,
      "outputs": []
    },
    {
      "cell_type": "code",
      "metadata": {
        "id": "cIomMbtrAYTI",
        "colab_type": "code",
        "colab": {
          "base_uri": "https://localhost:8080/",
          "height": 35
        },
        "outputId": "7e39b57f-1fe4-44ab-9286-53b956e25996"
      },
      "source": [
        "print(f'{lat}, {long}')"
      ],
      "execution_count": null,
      "outputs": [
        {
          "output_type": "stream",
          "text": [
            "-20.062523867550127, -44.03801028449023\n"
          ],
          "name": "stdout"
        }
      ]
    },
    {
      "cell_type": "code",
      "metadata": {
        "id": "EddL-5ZzAkVg",
        "colab_type": "code",
        "colab": {
          "base_uri": "https://localhost:8080/",
          "height": 85,
          "referenced_widgets": [
            "180512d9b9e041b4937afacbbe6db95f",
            "f6c1d409536d40f5987e9510488226c0",
            "60098b9283db47818d23589deb68ce97",
            "ffe922adf175476fa1d3c59b9dd2bee2",
            "2f55db34dda74d28bc40347a5408e86c"
          ]
        },
        "outputId": "1f844a17-1a99-4bf6-c1be-d174dababe15"
      },
      "source": [
        "import ipywidgets as widgets\n",
        "from IPython.display import display\n",
        "from shapely.geometry import Point, LineString\n",
        "import numpy as np\n",
        "import matplotlib.pyplot as plt\n",
        "from matplotlib.pyplot import figure\n",
        "import math\n",
        "import folium\n",
        "\n",
        "#@title {run: 'auto'} ## Dados de Entrada\n",
        "#@markdown ---\n",
        " \n",
        "#@markdown #### A Tower\n",
        "nomeA = \"Ponto Ferruginoso\" #@param {type:\"string\"}\n",
        "xA = 603484.00 #@param {type:\"number\"}\n",
        "yA = 7781714.00 #@param {type:\"number\"}\n",
        "azA = 222.00 #@param {type:\"number\"}\n",
        "zoneA = 23 #@param {type:\"number\"}\n",
        " \n",
        "#@markdown #### B Tower \n",
        "nomeB = \"Posto 39\" #@param {type:\"string\"}\n",
        "xB = 600593.00 #@param {type:\"number\"}\n",
        "yB = 7781310.00 #@param {type:\"number\"}\n",
        "azB = 170.00 #@param {type:\"number\"}\n",
        "zoneB = 23 #@param {type:\"number\"}\n",
        "\n",
        "button = widgets.Button(description=\"Calculate!\")\n",
        "output = widgets.Output()\n",
        " \n",
        "# trigonometry\n",
        "def cosdir(azim):\n",
        "    az = np.radians(azim)\n",
        "    cosa = np.sin(az)\n",
        "    cosb = np.cos(az)\n",
        "    return cosa,cosb\n",
        " \n",
        "def calcIntersection(xA,yA,azA,xB,yB,azB): \n",
        "    pointA = Point(xA,yA)\n",
        "    cosaA, cosbA  = cosdir(azA)\n",
        "    pointB = Point(xB,yB)\n",
        "    cosaB, cosbB  = cosdir(azB)\n",
        "    length = 10000\n",
        "    endlineA = Point(pointA.x+(length*cosaA), pointA.y+(length*cosbA))\n",
        "    endlineB = Point(pointB.x+(length*cosaB), pointB.y+(length*cosbB))\n",
        "    line1 = LineString([pointA,endlineA])\n",
        "    line2 = LineString([pointB,endlineB])\n",
        "    intersection = LineString([pointB,endlineB]).intersection(LineString([pointA,endlineA]))\n",
        "    return  ((pointA.distance(pointB),\n",
        "             pointA.distance(intersection),\n",
        "             pointB.distance(intersection)),\n",
        "            intersection)\n",
        " \n",
        "def plotResult(p1,p2,p3,nomeA,NomeB,distances):\n",
        "     figure(num=None, figsize=(12, 9), dpi=80, facecolor='w', edgecolor='k')\n",
        "     x_values = [p1[0], p3[0]]\n",
        "     y_values = [p1[1], p3[1]]\n",
        "     plt.plot(x_values, y_values,label='Visada '+nomeA)\n",
        "     x_values = [p2[0], p3[0]]\n",
        "     y_values = [p2[1], p3[1]]\n",
        "     plt.plot(x_values, y_values,label='Visada '+nomeB)\n",
        "     title = 'Intersection coordinates (X: {:10.2f}, Y: {:10.2f})\\nDistance between towers: {:10.2f}m\\n'.format(\n",
        "             p3[0],p3[1],distances[0])+\\\n",
        "             'Distance {0} to intersection: {1:10.2f}m\\n'.format(nomeA,distances[1])+\\\n",
        "             'Distance {0} to intersection: {1:10.2f}m\\n'.format(nomeB,distances[2])\n",
        "     plt.title(title)\n",
        "     plt.legend()\n",
        "     plt.show()\n",
        "\n",
        "def plotMapFolium(z, p1, p2, p3, nomeA, nomeB, distances, northernHemisphere=False):\n",
        "    lat, lng = utmToLatLng(z, p1[0], p1[1], northernHemisphere=False)\n",
        "    g1 = (lat, lng)\n",
        "    lat, lng = utmToLatLng(z, p2[0], p2[1], northernHemisphere=False)\n",
        "    g2 = (lat, lng)\n",
        "    lat, lng = utmToLatLng(z, p3[0], p3[1], northernHemisphere=False)\n",
        "    g3 = (lat, lng)\n",
        "\n",
        "    points = [g1, g2, g3]\n",
        "    print(points)\n",
        "\n",
        "    # Load map centred on average coordinates\n",
        "    ave_lat = sum(p[0] for p in points)/len(points)\n",
        "    ave_lng = sum(p[1] for p in points)/len(points)\n",
        "    print(ave_lat, ave_lng)\n",
        "\n",
        "    title = 'Intersection coordinates (X: {:10.2f}, Y: {:10.2f})\\nDistance between towers: {:10.2f}m\\n'.format(\n",
        "             p3[0],p3[1],distances[0])+\\\n",
        "             'Distance {0} to intersection: {1:10.2f}m\\n'.format(nomeA,distances[1])+\\\n",
        "             'Distance {0} to intersection: {1:10.2f}m\\n'.format(nomeB,distances[2])\n",
        "    \n",
        "    mapa = folium.Map(\n",
        "        location=[ave_lat, ave_lng],\n",
        "        tiles='OpenStreetMap',\n",
        "        zoom_start=15\n",
        "    )\n",
        "    #print(title)\n",
        "    folium.Marker(\n",
        "        location=g1,\n",
        "        popup=\"<center>{}</center><br><center>{:.2f}-{:.2f}</center>\".format(nomeA, g1[0], g1[1]),\n",
        "        icon=folium.Icon(color='blue')\n",
        "    ).add_to(mapa)\n",
        "    folium.Marker(\n",
        "        location=g2,\n",
        "        popup=\"<center>{}</center><br><center>{:.2f}-{:.2f}</center>\".format(nomeB, g2[0], g2[1]),\n",
        "        icon=folium.Icon(color='blue')\n",
        "    ).add_to(mapa)\n",
        "    folium.Marker(\n",
        "        location=g3,\n",
        "        popup=\"<center>Interseção</center><br><center>{:.2f}-{:.2f}</center>\".format(g3[0], g3[1]),\n",
        "        icon=folium.Icon(color='red')\n",
        "    ).add_to(mapa)\n",
        "\n",
        "    folium.PolyLine([g1,g2], color=\"blue\", weight=2.5, opacity=1).add_to(mapa)\n",
        "    folium.PolyLine([g1,g3], color=\"green\", weight=2.5, opacity=1).add_to(mapa)\n",
        "    folium.PolyLine([g2,g3], color=\"green\", weight=2.5, opacity=1).add_to(mapa)\n",
        "    \n",
        "    mapa\n",
        "    mapa.save(\"/content/lines_withmarker.html\")\n",
        "\n",
        "\n",
        "\n",
        " \n",
        "def on_button_clicked(b):\n",
        "  with output:\n",
        "    distances, intersection = calcIntersection(xA,yA,azA,xB,yB,azB) \n",
        "    if not intersection.is_empty:\n",
        "      #plotResult([xA,yA],[xB,yB],[intersection.x,intersection.y],nomeA,nomeB,distances)\n",
        "      plotMapFolium(23, [xA,yA],[xB,yB],[intersection.x,intersection.y],nomeA,nomeB,distances, northernHemisphere=False)\n",
        "    else:\n",
        "      print(\"There's no crossing point!\")\n",
        "  \n",
        "def utmToLatLng(zone, easting, northing, northernHemisphere=True):\n",
        "    if not northernHemisphere:\n",
        "        northing = 10000000 - northing\n",
        "\n",
        "    a = 6378137\n",
        "    e = 0.081819191\n",
        "    e1sq = 0.006739497\n",
        "    k0 = 0.9996\n",
        "\n",
        "    arc = northing / k0\n",
        "    mu = arc / (a * (1 - math.pow(e, 2) / 4.0 - 3 * math.pow(e, 4) / 64.0 - 5 * math.pow(e, 6) / 256.0))\n",
        "\n",
        "    ei = (1 - math.pow((1 - e * e), (1 / 2.0))) / (1 + math.pow((1 - e * e), (1 / 2.0)))\n",
        "\n",
        "    ca = 3 * ei / 2 - 27 * math.pow(ei, 3) / 32.0\n",
        "\n",
        "    cb = 21 * math.pow(ei, 2) / 16 - 55 * math.pow(ei, 4) / 32\n",
        "    cc = 151 * math.pow(ei, 3) / 96\n",
        "    cd = 1097 * math.pow(ei, 4) / 512\n",
        "    phi1 = mu + ca * math.sin(2 * mu) + cb * math.sin(4 * mu) + cc * math.sin(6 * mu) + cd * math.sin(8 * mu)\n",
        "\n",
        "    n0 = a / math.pow((1 - math.pow((e * math.sin(phi1)), 2)), (1 / 2.0))\n",
        "\n",
        "    r0 = a * (1 - e * e) / math.pow((1 - math.pow((e * math.sin(phi1)), 2)), (3 / 2.0))\n",
        "    fact1 = n0 * math.tan(phi1) / r0\n",
        "\n",
        "    _a1 = 500000 - easting\n",
        "    dd0 = _a1 / (n0 * k0)\n",
        "    fact2 = dd0 * dd0 / 2\n",
        "\n",
        "    t0 = math.pow(math.tan(phi1), 2)\n",
        "    Q0 = e1sq * math.pow(math.cos(phi1), 2)\n",
        "    fact3 = (5 + 3 * t0 + 10 * Q0 - 4 * Q0 * Q0 - 9 * e1sq) * math.pow(dd0, 4) / 24\n",
        "\n",
        "    fact4 = (61 + 90 * t0 + 298 * Q0 + 45 * t0 * t0 - 252 * e1sq - 3 * Q0 * Q0) * math.pow(dd0, 6) / 720\n",
        "\n",
        "    lof1 = _a1 / (n0 * k0)\n",
        "    lof2 = (1 + 2 * t0 + Q0) * math.pow(dd0, 3) / 6.0\n",
        "    lof3 = (5 - 2 * Q0 + 28 * t0 - 3 * math.pow(Q0, 2) + 8 * e1sq + 24 * math.pow(t0, 2)) * math.pow(dd0, 5) / 120\n",
        "    _a2 = (lof1 - lof2 + lof3) / math.cos(phi1)\n",
        "    _a3 = _a2 * 180 / math.pi\n",
        "\n",
        "    latitude = 180 * (phi1 - fact1 * (fact2 + fact3 + fact4)) / math.pi\n",
        "\n",
        "    if not northernHemisphere:\n",
        "        latitude = -latitude\n",
        "\n",
        "    longitude = ((zone > 0) and (6 * zone - 183.0) or 3.0) - _a3\n",
        "\n",
        "    return (latitude, longitude)\n",
        "\n",
        "button.on_click(on_button_clicked)\n",
        "display(button, output)"
      ],
      "execution_count": 38,
      "outputs": [
        {
          "output_type": "display_data",
          "data": {
            "application/vnd.jupyter.widget-view+json": {
              "model_id": "180512d9b9e041b4937afacbbe6db95f",
              "version_minor": 0,
              "version_major": 2
            },
            "text/plain": [
              "Button(description='Calculate!', style=ButtonStyle())"
            ]
          },
          "metadata": {
            "tags": []
          }
        },
        {
          "output_type": "display_data",
          "data": {
            "application/vnd.jupyter.widget-view+json": {
              "model_id": "ffe922adf175476fa1d3c59b9dd2bee2",
              "version_minor": 0,
              "version_major": 2
            },
            "text/plain": [
              "Output()"
            ]
          },
          "metadata": {
            "tags": []
          }
        }
      ]
    },
    {
      "cell_type": "code",
      "metadata": {
        "id": "2qodIqx9efFu",
        "colab_type": "code",
        "colab": {}
      },
      "source": [
        ""
      ],
      "execution_count": null,
      "outputs": []
    }
  ]
}