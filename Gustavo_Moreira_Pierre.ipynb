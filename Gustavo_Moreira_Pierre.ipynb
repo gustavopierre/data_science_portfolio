{
  "nbformat": 4,
  "nbformat_minor": 0,
  "metadata": {
    "colab": {
      "name": "Gustavo_Moreira_Pierre.ipynb",
      "provenance": [],
      "collapsed_sections": [],
      "authorship_tag": "ABX9TyNMPe0e0d5/Q+EcIPa2yuDV",
      "include_colab_link": true
    },
    "kernelspec": {
      "name": "python3",
      "display_name": "Python 3"
    }
  },
  "cells": [
    {
      "cell_type": "markdown",
      "metadata": {
        "id": "view-in-github",
        "colab_type": "text"
      },
      "source": [
        "<a href=\"https://colab.research.google.com/github/gustavopierre/data_science_portfolio/blob/master/Gustavo_Moreira_Pierre.ipynb\" target=\"_parent\"><img src=\"https://colab.research.google.com/assets/colab-badge.svg\" alt=\"Open In Colab\"/></a>"
      ]
    },
    {
      "cell_type": "markdown",
      "metadata": {
        "id": "GXMNkKTjJlSy"
      },
      "source": [
        "\n",
        "[![author](https://github.com/gustavopierre/data_science_portfolio/blob/master/author-gustavopierre.png?raw=true)](https://www.linkedin.com/in/gustavo_pierre) [![](https://img.shields.io/badge/python-3.7+-blue.svg)](https://www.python.org/downloads/release/python-365/) [![contributions welcome](https://img.shields.io/badge/contributions-welcome-brightgreen.svg?style=flat)](https://github.com/gustavopierre/data_science_portfolio/issues)\n",
        "\n",
        "<p align=\"center\">\n",
        "  <img src=\"https://github.com/gustavopierre/data_science_portfolio/blob/master/covid_cover.jpg?raw=true\" alt=\"COVID-19\" >\n",
        "  <a href=\"https://www.pexels.com/pt-br/foto/biologia-brilhante-luminoso-iluminado-4031867/?utm_content=attributionCopyText&utm_medium=referral&utm_source=pexels\">Foto de Edward Jenner no Pexels</a>\n",
        "</p>"
      ]
    },
    {
      "cell_type": "markdown",
      "metadata": {
        "id": "1kb_9-V-X7p9"
      },
      "source": [
        "# **Análise dos Casos de COVID-19 no Brasil**\n",
        "----\n",
        "A COVID-19 é uma doença respiratória aguda causada pelo coronavirus SARS-CoV-2. Os coronavirus fazem parte de uma grande família de virus comuns em várias espécies de animais, tais como camelos, gado, gatos e morcegos. Em raros casos, podem infectar pessoas, como é o caso dos coronavirus MERS-CoV e SARS-CoV [[MinisteriodaSaude](https://coronavirus.saude.gov.br/sobre-a-doenca)].<br>\n",
        "O primeiro caso de COVID-19 foi identificado em Wuhan, na província de Hubei, na República Popular da China, no dia 01 de dezembro de 2019. O novo virus mapeado não possui sintomas mais graves do que os provocados pelo coronavirus responsável pelo surto de SARG, que ocorreu em 2003, e do qual é muito semelhante genéticamente. No entanto, a COVID-19 possui um contágio maior [[WikipediaCOVID-19](https://pt.wikipedia.org/wiki/Pandemia_de_COVID-19) e [WikipediaSARS-CoV](https://pt.wikipedia.org/wiki/SARS-CoV)].<br>\n",
        "\n",
        "A Organização Mundial de Saúde (OMS) caracterizou a COVID-19 como pandemia em 11 de março de 2020, quando já havia mais de 118 mil casos em 114 países e 4,2 mil pessoas tinham perdido a vida [[OPASBrasil](https://www.paho.org/bra/index.php?option=com_content&view=article&id=6120:oms-afirma-que-covid-19-e-agora-caracterizada-como-pandemia&Itemid=812)].<br> \n",
        "\n",
        "No dia 26 de fevereiro deste ano foi anunciado o primeiro caso confirmado no Brasil de um homem de 61 anos que havia viajado para a Itália e deu entrada no Hospital Albert Einstein, em São Paulo [[Sanar](https://www.sanarmed.com/linha-do-tempo-do-coronavirus-no-brasil)]. Este paciente, segundo o Governo de São Paulo, se recuperou [[BBCNewsBrasil](https://www.bbc.com/portuguese/brasil-52334034)].<br>\n",
        "\n",
        "No dia 06 de novembro de 2020 foram registrados no Brasil 5.633.747 casos, sendo que 5.104.195 se recuperaram e 162.038 perderam a vida [[SUSAnalitico](https://susanalitico.saude.gov.br/extensions/covid-19_html/covid-19_html.html)].<br>\n",
        "\n",
        "Neste primeiro projeto do [Bootcamp de Data Science Aplicada da Alura](https://www.alura.com.br/bootcamp/data-science-aplicada/matriculas-abertas), serão analisados os dados da COVID-19 no Brasil, passando pelas fases de obtenção dos dados, análise exploratória e exibição. O objetivo deste Projeto é fazer análises comparativas dos casos de COVID-19 por municípios, estados e regiões do Brasil, em números absolutos, em relação às populações, em relação ao Índice de Desenvolvimento Humano Municipal (IDHM) e à densidade demográfica (relação da população pela área). Serão exibidos também os números geograficamente distribuídos no mapa do Brasil. Ao final as conclusões das análises serão apresentadas bem como sugestões para trabalhos futuros.\n"
      ]
    },
    {
      "cell_type": "markdown",
      "metadata": {
        "id": "fXEM5-yUmoF9"
      },
      "source": [
        "## **Obtenção dos Dados**\n",
        "O primeiro passo para atingir os objetivos deste Projeto é buscar os dados necessários. Sendo que o Projeto se baseará nos dados sobre COVID-19 das Secretarias Estaduais de Saúde consolidados pelo site [Brasil.io](https://brasil.io/datasets/). Este é um site mantido por Álvaro Justen e contribuidores e criado para disponibilizar dados públicos do poder público de maneira consolidada, em formato aberto e que permita consulta e download.\n",
        "No entanto, para nossas análises serão necessários também dados do IDHM, população, das áreas físicas dos estados, das coordenadas geográfica dos municípios e as geometrias (dados geoespaciais) dos estados. Estes dois últimos para a exibição dos dados em um mapa.\n",
        "\n"
      ]
    },
    {
      "cell_type": "markdown",
      "metadata": {
        "id": "StS_AsKPTdQq"
      },
      "source": [
        "### **1) Obtenção dos IDH dos estados**\n",
        "A busca do IDH dos estados brasileiros foi feito na internet. O Programa das Nações Unidas para o Desenvolvimento ([PNUD Brasil](https://www.br.undp.org/content/brazil/pt/home.html)), o Instituto de Pesquisa Econômica Aplicada ([Ipea](https://www.ipea.gov.br/portal/)) e a [Fundação João Pinheiro](http://novosite.fjp.mg.gov.br/) divulgaram em 2019 o IDHM dos estados brasileiros de 2012 a 2017. No site do [Atlas do\n",
        "Desenvolvimento Humano\n",
        "no Brasil](https://atlasbrasil.org.br/ranking) foi possível obter arquivo referente à 2017 no formato do Microsoft Excel (XLSX), disponibilizado com nome [idhm2017.xlsx](https://github.com/gustavopierre/data_science_portfolio/blob/master/idhm2017.xlsx?raw=true) no github."
      ]
    },
    {
      "cell_type": "markdown",
      "metadata": {
        "id": "D6qhpn_Cdd7n"
      },
      "source": [
        "### **2) Obtenção dos dados de população e área de cada estado**\n",
        "Também na internet, mais precisamente no site do IBGE, foram obtidos os arquivos com os dados da [população](https://ftp.ibge.gov.br/Estimativas_de_Populacao/Estimativas_2020/) e das [áreas dos estados](https://www.ibge.gov.br/geociencias/organizacao-do-territorio/estrutura-territorial/15761-areas-dos-municipios.html?=&t=downloads). Estes arquivos foram salvos no github com os nomes [estimativa_pop_2020.xls](https://github.com/gustavopierre/data_science_portfolio/blob/master/estimativa_pop_2020.xls?raw=true) e [area_uf_2019.xls](https://github.com/gustavopierre/data_science_portfolio/blob/master/area_uf_2019.xls?raw=true), respectivamente."
      ]
    },
    {
      "cell_type": "markdown",
      "metadata": {
        "id": "Xlbq9Nd0dkIS"
      },
      "source": [
        "### **3) Obtenção das coordenadas geográficas dos municípios<del> e dados de geometria de cada estado</del>**\n",
        "As informações referentes às coordenadas geográficas dos municípios brasileiros foram encontradas no [forum do QGISBrasil](https://groups.google.com/g/qgisbrasil/c/0kJDo2KH0is) e salvo no github como [municipios_coord.csv](https://github.com/gustavopierre/data_science_portfolio/blob/master/municipios_coord.xls?raw=true). <del>O arquivo com a geometria dos estados foi obtido no [github do Gis Dataset Brasil](https://github.com/fititnt/gis-dataset-brasil/blob/master/uf/geojson/uf.json) e também foi disponibilizado no github como [uf.json](https://github.com/gustavopierre/data_science_portfolio/blob/master/uf.json?raw=true).</del>"
      ]
    },
    {
      "cell_type": "markdown",
      "metadata": {
        "id": "E99dMWXbv08R"
      },
      "source": [
        "## **Configuração do Ambiente**\n",
        "Para a carregamento, análise e exploração dos dados, usaremos Python. Para seu uso, serão necessárias as seguintes bibliotecas de funções que serão importadas para o ambiente:\n",
        "\n",
        "* Pandas - uma biblioteca de uso fácil, que permite ao usuário explorar, manipular e visualizar os dados de um modo bastante eficiente;\n",
        "* Numpy - uma biblioteca usada, principalmente, para realizar cálculos em vetores multidimensionais; e\n",
        "* Matplotlib - uma biblioteca para visualização de dados;\n",
        "* Seaborn - uma biblioteca de visualização baseada na Matplotlib.\n",
        "* Folium - uma biblioteca que permite vizualização de dados manipulados em Python em um mapa interativo.\n",
        "* <del>Geopandas - é um projeto open source que foi criado para tornar a manipulação das geometrias (dados geoespaciais) no Python uma tarefa mais simples; e</del>\n",
        "* <del>Descartes - é uma biblioteca necessária para plotar polígonos em geopandas.</del><br>\n",
        "Iniciamos o código instalando o Folium <del>Geopandas e Descartes</del> que, por padrão, não <del>vêm</del> vem instalado<del>s</del> no Google Colab.\n"
      ]
    },
    {
      "cell_type": "code",
      "metadata": {
        "id": "mvW-Y6UZx8k2",
        "outputId": "57f0ac98-9b3a-446d-ebd4-a7bae4db63ea",
        "colab": {
          "base_uri": "https://localhost:8080/"
        }
      },
      "source": [
        "print(\"Installing folium...\")\n",
        "!pip -q install folium\n",
        "print('OK')\n",
        "#print(\"Installing geopandas...\")\n",
        "#!pip -q install --upgrade geopandas\n",
        "#print('OK')\n",
        "#print(\"Installing descartes...\")\n",
        "#!pip -q install descartes\n",
        "#print('OK')"
      ],
      "execution_count": 26,
      "outputs": [
        {
          "output_type": "stream",
          "text": [
            "Installing folium...\n",
            "OK\n"
          ],
          "name": "stdout"
        }
      ]
    },
    {
      "cell_type": "code",
      "metadata": {
        "id": "lDkY1dORld1U"
      },
      "source": [
        "import pandas as pd\n",
        "import numpy as np\n",
        "import matplotlib.pyplot as plt\n",
        "import seaborn as sns\n",
        "import folium\n",
        "#import geopandas as gpd\n",
        "sns.set() # notebook\n",
        "pd.options.mode.chained_assignment = None;\n",
        "pd.options.display.float_format = \"{:.2f}\".format"
      ],
      "execution_count": 122,
      "outputs": []
    },
    {
      "cell_type": "markdown",
      "metadata": {
        "id": "IbbjsOVq2ZtX"
      },
      "source": [
        "## **Análise Exploratória dos Dados**\n",
        "Os dados, como dito antes, têm origem em cinco arquivos que possuem, respectivamente: \n",
        "* <del>a geometria dos estados;</del>\n",
        "* as coordenadas geográficas dos municípios; \n",
        "* o IDHM dos estados; \n",
        "* a população das regiões, estados e municípios; e  \n",
        "* os dados da COVID-19.\n",
        "\n",
        "Vamos analisá-los separadamente."
      ]
    },
    {
      "cell_type": "markdown",
      "metadata": {
        "id": "6LzUZblAuujW"
      },
      "source": [
        "### **Dados com as Coordenadas Geográfica dos Municípios**\n",
        "As coordenadas geográficas dos municípios estão em um arquivo no formato Microsoft Excel, com uma única pasta. Vamos carregar os dados para um dataframe, visualizar os dados (início e fim). "
      ]
    },
    {
      "cell_type": "code",
      "metadata": {
        "id": "cTkcP6iNxHdW",
        "outputId": "a7d76722-069e-4e60-ff55-126973284584",
        "colab": {
          "base_uri": "https://localhost:8080/",
          "height": 195
        }
      },
      "source": [
        "# criando o dataframe coord_geo\n",
        "coord_geog = pd.read_csv('https://github.com/gustavopierre/data_science_portfolio/raw/master/municipios_coord.csv', sep=';')\n",
        "# exibindo os 5 primeiros registros\n",
        "coord_geog.head()"
      ],
      "execution_count": 123,
      "outputs": [
        {
          "output_type": "execute_result",
          "data": {
            "text/html": [
              "<div>\n",
              "<style scoped>\n",
              "    .dataframe tbody tr th:only-of-type {\n",
              "        vertical-align: middle;\n",
              "    }\n",
              "\n",
              "    .dataframe tbody tr th {\n",
              "        vertical-align: top;\n",
              "    }\n",
              "\n",
              "    .dataframe thead th {\n",
              "        text-align: right;\n",
              "    }\n",
              "</style>\n",
              "<table border=\"1\" class=\"dataframe\">\n",
              "  <thead>\n",
              "    <tr style=\"text-align: right;\">\n",
              "      <th></th>\n",
              "      <th>GEOCODIGO_MUNICIPIO</th>\n",
              "      <th>NOME_MUNICIPIO</th>\n",
              "      <th>LONGITUDE</th>\n",
              "      <th>LATITUDE</th>\n",
              "    </tr>\n",
              "  </thead>\n",
              "  <tbody>\n",
              "    <tr>\n",
              "      <th>0</th>\n",
              "      <td>1100015</td>\n",
              "      <td>ALTA FLORESTA D'OESTE</td>\n",
              "      <td>-62.00</td>\n",
              "      <td>-11.94</td>\n",
              "    </tr>\n",
              "    <tr>\n",
              "      <th>1</th>\n",
              "      <td>1100023</td>\n",
              "      <td>ARIQUEMES</td>\n",
              "      <td>-63.03</td>\n",
              "      <td>-9.91</td>\n",
              "    </tr>\n",
              "    <tr>\n",
              "      <th>2</th>\n",
              "      <td>1100031</td>\n",
              "      <td>CABIXI</td>\n",
              "      <td>-60.54</td>\n",
              "      <td>-13.50</td>\n",
              "    </tr>\n",
              "    <tr>\n",
              "      <th>3</th>\n",
              "      <td>1100049</td>\n",
              "      <td>CACOAL</td>\n",
              "      <td>-61.44</td>\n",
              "      <td>-11.43</td>\n",
              "    </tr>\n",
              "    <tr>\n",
              "      <th>4</th>\n",
              "      <td>1100056</td>\n",
              "      <td>CEREJEIRAS</td>\n",
              "      <td>-60.82</td>\n",
              "      <td>-13.20</td>\n",
              "    </tr>\n",
              "  </tbody>\n",
              "</table>\n",
              "</div>"
            ],
            "text/plain": [
              "  GEOCODIGO_MUNICIPIO         NOME_MUNICIPIO  LONGITUDE  LATITUDE\n",
              "0             1100015  ALTA FLORESTA D'OESTE     -62.00    -11.94\n",
              "1             1100023              ARIQUEMES     -63.03     -9.91\n",
              "2             1100031                 CABIXI     -60.54    -13.50\n",
              "3             1100049                 CACOAL     -61.44    -11.43\n",
              "4             1100056             CEREJEIRAS     -60.82    -13.20"
            ]
          },
          "metadata": {
            "tags": []
          },
          "execution_count": 123
        }
      ]
    },
    {
      "cell_type": "code",
      "metadata": {
        "id": "-8NH89w5x2wE",
        "outputId": "2c765ab0-72fc-4765-c7d1-49142f06ce99",
        "colab": {
          "base_uri": "https://localhost:8080/",
          "height": 195
        }
      },
      "source": [
        "# exibindo os 5 últimos registros\n",
        "coord_geog.tail()"
      ],
      "execution_count": 124,
      "outputs": [
        {
          "output_type": "execute_result",
          "data": {
            "text/html": [
              "<div>\n",
              "<style scoped>\n",
              "    .dataframe tbody tr th:only-of-type {\n",
              "        vertical-align: middle;\n",
              "    }\n",
              "\n",
              "    .dataframe tbody tr th {\n",
              "        vertical-align: top;\n",
              "    }\n",
              "\n",
              "    .dataframe thead th {\n",
              "        text-align: right;\n",
              "    }\n",
              "</style>\n",
              "<table border=\"1\" class=\"dataframe\">\n",
              "  <thead>\n",
              "    <tr style=\"text-align: right;\">\n",
              "      <th></th>\n",
              "      <th>GEOCODIGO_MUNICIPIO</th>\n",
              "      <th>NOME_MUNICIPIO</th>\n",
              "      <th>LONGITUDE</th>\n",
              "      <th>LATITUDE</th>\n",
              "    </tr>\n",
              "  </thead>\n",
              "  <tbody>\n",
              "    <tr>\n",
              "      <th>5561</th>\n",
              "      <td>5222054</td>\n",
              "      <td>VICENTINÓPOLIS</td>\n",
              "      <td>-49.81</td>\n",
              "      <td>-17.73</td>\n",
              "    </tr>\n",
              "    <tr>\n",
              "      <th>5562</th>\n",
              "      <td>5222203</td>\n",
              "      <td>VILA BOA</td>\n",
              "      <td>-47.06</td>\n",
              "      <td>-15.03</td>\n",
              "    </tr>\n",
              "    <tr>\n",
              "      <th>5563</th>\n",
              "      <td>5222302</td>\n",
              "      <td>VILA PROPÍCIO</td>\n",
              "      <td>-48.88</td>\n",
              "      <td>-15.45</td>\n",
              "    </tr>\n",
              "    <tr>\n",
              "      <th>5564</th>\n",
              "      <td>5300108</td>\n",
              "      <td>BRASÍLIA</td>\n",
              "      <td>-47.89</td>\n",
              "      <td>-15.79</td>\n",
              "    </tr>\n",
              "    <tr>\n",
              "      <th>5565</th>\n",
              "      <td></td>\n",
              "      <td>NaN</td>\n",
              "      <td>nan</td>\n",
              "      <td>nan</td>\n",
              "    </tr>\n",
              "  </tbody>\n",
              "</table>\n",
              "</div>"
            ],
            "text/plain": [
              "     GEOCODIGO_MUNICIPIO  NOME_MUNICIPIO  LONGITUDE  LATITUDE\n",
              "5561             5222054  VICENTINÓPOLIS     -49.81    -17.73\n",
              "5562             5222203        VILA BOA     -47.06    -15.03\n",
              "5563             5222302   VILA PROPÍCIO     -48.88    -15.45\n",
              "5564             5300108        BRASÍLIA     -47.89    -15.79\n",
              "5565                   \n",
              "             NaN        nan       nan"
            ]
          },
          "metadata": {
            "tags": []
          },
          "execution_count": 124
        }
      ]
    },
    {
      "cell_type": "markdown",
      "metadata": {
        "id": "6nPtX0Xu1M1y"
      },
      "source": [
        "Vamos ver a quantidade de registros existentes."
      ]
    },
    {
      "cell_type": "code",
      "metadata": {
        "id": "N4dGfB3n1SaC",
        "outputId": "9a3e158c-466e-494f-aaef-72ae28fbf877",
        "colab": {
          "base_uri": "https://localhost:8080/"
        }
      },
      "source": [
        "# quantidade de colunas e linhas no dataframe\n",
        "print(f'Registros: {coord_geog.shape[0]}\\nColunas: {coord_geog.shape[1]}')"
      ],
      "execution_count": 125,
      "outputs": [
        {
          "output_type": "stream",
          "text": [
            "Registros: 5566\n",
            "Colunas: 4\n"
          ],
          "name": "stdout"
        }
      ]
    },
    {
      "cell_type": "markdown",
      "metadata": {
        "id": "1hFjHupX1gyN"
      },
      "source": [
        "Vamos ver se existem dados faltantes e os tipos dos dados nos registros."
      ]
    },
    {
      "cell_type": "code",
      "metadata": {
        "id": "HZS2f8jH2AVU",
        "outputId": "b526f27a-44df-4cbe-b089-b4c2f0b8b332",
        "colab": {
          "base_uri": "https://localhost:8080/"
        }
      },
      "source": [
        "coord_geog.info()"
      ],
      "execution_count": 126,
      "outputs": [
        {
          "output_type": "stream",
          "text": [
            "<class 'pandas.core.frame.DataFrame'>\n",
            "RangeIndex: 5566 entries, 0 to 5565\n",
            "Data columns (total 4 columns):\n",
            " #   Column               Non-Null Count  Dtype  \n",
            "---  ------               --------------  -----  \n",
            " 0   GEOCODIGO_MUNICIPIO  5566 non-null   object \n",
            " 1   NOME_MUNICIPIO       5565 non-null   object \n",
            " 2   LONGITUDE            5565 non-null   float64\n",
            " 3   LATITUDE             5565 non-null   float64\n",
            "dtypes: float64(2), object(2)\n",
            "memory usage: 174.1+ KB\n"
          ],
          "name": "stdout"
        }
      ]
    },
    {
      "cell_type": "markdown",
      "metadata": {
        "id": "aHr-QP7Z2qsa"
      },
      "source": [
        "Podemos observar que apenas os campos NOME_MUNICIPIO, LONGITUDE e LATITUDE possuem um valor nulo e, na visualização, podemos observar que é o último registro. Vamos apagar o último registro."
      ]
    },
    {
      "cell_type": "code",
      "metadata": {
        "id": "_4y7iWfeEfaI",
        "outputId": "5a40f9c5-41e3-4783-c1ae-ebb129773a16",
        "colab": {
          "base_uri": "https://localhost:8080/",
          "height": 402
        }
      },
      "source": [
        "coord_geog.dropna()"
      ],
      "execution_count": 127,
      "outputs": [
        {
          "output_type": "execute_result",
          "data": {
            "text/html": [
              "<div>\n",
              "<style scoped>\n",
              "    .dataframe tbody tr th:only-of-type {\n",
              "        vertical-align: middle;\n",
              "    }\n",
              "\n",
              "    .dataframe tbody tr th {\n",
              "        vertical-align: top;\n",
              "    }\n",
              "\n",
              "    .dataframe thead th {\n",
              "        text-align: right;\n",
              "    }\n",
              "</style>\n",
              "<table border=\"1\" class=\"dataframe\">\n",
              "  <thead>\n",
              "    <tr style=\"text-align: right;\">\n",
              "      <th></th>\n",
              "      <th>GEOCODIGO_MUNICIPIO</th>\n",
              "      <th>NOME_MUNICIPIO</th>\n",
              "      <th>LONGITUDE</th>\n",
              "      <th>LATITUDE</th>\n",
              "    </tr>\n",
              "  </thead>\n",
              "  <tbody>\n",
              "    <tr>\n",
              "      <th>0</th>\n",
              "      <td>1100015</td>\n",
              "      <td>ALTA FLORESTA D'OESTE</td>\n",
              "      <td>-62.00</td>\n",
              "      <td>-11.94</td>\n",
              "    </tr>\n",
              "    <tr>\n",
              "      <th>1</th>\n",
              "      <td>1100023</td>\n",
              "      <td>ARIQUEMES</td>\n",
              "      <td>-63.03</td>\n",
              "      <td>-9.91</td>\n",
              "    </tr>\n",
              "    <tr>\n",
              "      <th>2</th>\n",
              "      <td>1100031</td>\n",
              "      <td>CABIXI</td>\n",
              "      <td>-60.54</td>\n",
              "      <td>-13.50</td>\n",
              "    </tr>\n",
              "    <tr>\n",
              "      <th>3</th>\n",
              "      <td>1100049</td>\n",
              "      <td>CACOAL</td>\n",
              "      <td>-61.44</td>\n",
              "      <td>-11.43</td>\n",
              "    </tr>\n",
              "    <tr>\n",
              "      <th>4</th>\n",
              "      <td>1100056</td>\n",
              "      <td>CEREJEIRAS</td>\n",
              "      <td>-60.82</td>\n",
              "      <td>-13.20</td>\n",
              "    </tr>\n",
              "    <tr>\n",
              "      <th>...</th>\n",
              "      <td>...</td>\n",
              "      <td>...</td>\n",
              "      <td>...</td>\n",
              "      <td>...</td>\n",
              "    </tr>\n",
              "    <tr>\n",
              "      <th>5560</th>\n",
              "      <td>5222005</td>\n",
              "      <td>VIANÓPOLIS</td>\n",
              "      <td>-48.51</td>\n",
              "      <td>-16.74</td>\n",
              "    </tr>\n",
              "    <tr>\n",
              "      <th>5561</th>\n",
              "      <td>5222054</td>\n",
              "      <td>VICENTINÓPOLIS</td>\n",
              "      <td>-49.81</td>\n",
              "      <td>-17.73</td>\n",
              "    </tr>\n",
              "    <tr>\n",
              "      <th>5562</th>\n",
              "      <td>5222203</td>\n",
              "      <td>VILA BOA</td>\n",
              "      <td>-47.06</td>\n",
              "      <td>-15.03</td>\n",
              "    </tr>\n",
              "    <tr>\n",
              "      <th>5563</th>\n",
              "      <td>5222302</td>\n",
              "      <td>VILA PROPÍCIO</td>\n",
              "      <td>-48.88</td>\n",
              "      <td>-15.45</td>\n",
              "    </tr>\n",
              "    <tr>\n",
              "      <th>5564</th>\n",
              "      <td>5300108</td>\n",
              "      <td>BRASÍLIA</td>\n",
              "      <td>-47.89</td>\n",
              "      <td>-15.79</td>\n",
              "    </tr>\n",
              "  </tbody>\n",
              "</table>\n",
              "<p>5565 rows × 4 columns</p>\n",
              "</div>"
            ],
            "text/plain": [
              "     GEOCODIGO_MUNICIPIO         NOME_MUNICIPIO  LONGITUDE  LATITUDE\n",
              "0                1100015  ALTA FLORESTA D'OESTE     -62.00    -11.94\n",
              "1                1100023              ARIQUEMES     -63.03     -9.91\n",
              "2                1100031                 CABIXI     -60.54    -13.50\n",
              "3                1100049                 CACOAL     -61.44    -11.43\n",
              "4                1100056             CEREJEIRAS     -60.82    -13.20\n",
              "...                  ...                    ...        ...       ...\n",
              "5560             5222005             VIANÓPOLIS     -48.51    -16.74\n",
              "5561             5222054         VICENTINÓPOLIS     -49.81    -17.73\n",
              "5562             5222203               VILA BOA     -47.06    -15.03\n",
              "5563             5222302          VILA PROPÍCIO     -48.88    -15.45\n",
              "5564             5300108               BRASÍLIA     -47.89    -15.79\n",
              "\n",
              "[5565 rows x 4 columns]"
            ]
          },
          "metadata": {
            "tags": []
          },
          "execution_count": 127
        }
      ]
    },
    {
      "cell_type": "markdown",
      "metadata": {
        "id": "c2WOlRmB3OdD"
      },
      "source": [
        "### **Dados de IDHM dos Estados**"
      ]
    },
    {
      "cell_type": "code",
      "metadata": {
        "id": "gdyEZ6-GsCYj",
        "outputId": "dd17916a-5dc2-4dde-cc89-f0ae7198ec72",
        "colab": {
          "base_uri": "https://localhost:8080/",
          "height": 195
        }
      },
      "source": [
        "# criando o dataframe com idhm dos estados\n",
        "idhm = pd.read_excel('https://github.com/gustavopierre/data_science_portfolio/blob/master/idhm2017.xlsx?raw=true')\n",
        "# visualizando os 5 primeiros registros\n",
        "idhm.head()"
      ],
      "execution_count": 128,
      "outputs": [
        {
          "output_type": "execute_result",
          "data": {
            "text/html": [
              "<div>\n",
              "<style scoped>\n",
              "    .dataframe tbody tr th:only-of-type {\n",
              "        vertical-align: middle;\n",
              "    }\n",
              "\n",
              "    .dataframe tbody tr th {\n",
              "        vertical-align: top;\n",
              "    }\n",
              "\n",
              "    .dataframe thead th {\n",
              "        text-align: right;\n",
              "    }\n",
              "</style>\n",
              "<table border=\"1\" class=\"dataframe\">\n",
              "  <thead>\n",
              "    <tr style=\"text-align: right;\">\n",
              "      <th></th>\n",
              "      <th>Territorialidade</th>\n",
              "      <th>Posição IDHM</th>\n",
              "      <th>IDHM</th>\n",
              "      <th>Posição IDHM Renda</th>\n",
              "      <th>IDHM Renda</th>\n",
              "      <th>Posição IDHM Educação</th>\n",
              "      <th>IDHM Educação</th>\n",
              "      <th>Posição IDHM Longevidade</th>\n",
              "      <th>IDHM Longevidade</th>\n",
              "    </tr>\n",
              "  </thead>\n",
              "  <tbody>\n",
              "    <tr>\n",
              "      <th>0</th>\n",
              "      <td>Distrito Federal</td>\n",
              "      <td>1</td>\n",
              "      <td>0.85</td>\n",
              "      <td>1</td>\n",
              "      <td>0.89</td>\n",
              "      <td>2</td>\n",
              "      <td>0.80</td>\n",
              "      <td>1</td>\n",
              "      <td>0.86</td>\n",
              "    </tr>\n",
              "    <tr>\n",
              "      <th>1</th>\n",
              "      <td>São Paulo</td>\n",
              "      <td>2</td>\n",
              "      <td>0.83</td>\n",
              "      <td>5</td>\n",
              "      <td>0.85</td>\n",
              "      <td>1</td>\n",
              "      <td>0.83</td>\n",
              "      <td>2</td>\n",
              "      <td>0.80</td>\n",
              "    </tr>\n",
              "    <tr>\n",
              "      <th>2</th>\n",
              "      <td>Santa Catarina</td>\n",
              "      <td>3</td>\n",
              "      <td>0.81</td>\n",
              "      <td>3</td>\n",
              "      <td>0.87</td>\n",
              "      <td>3</td>\n",
              "      <td>0.78</td>\n",
              "      <td>4</td>\n",
              "      <td>0.78</td>\n",
              "    </tr>\n",
              "    <tr>\n",
              "      <th>3</th>\n",
              "      <td>Rio de Janeiro</td>\n",
              "      <td>4</td>\n",
              "      <td>0.80</td>\n",
              "      <td>4</td>\n",
              "      <td>0.86</td>\n",
              "      <td>6</td>\n",
              "      <td>0.76</td>\n",
              "      <td>6</td>\n",
              "      <td>0.77</td>\n",
              "    </tr>\n",
              "    <tr>\n",
              "      <th>4</th>\n",
              "      <td>Paraná</td>\n",
              "      <td>5</td>\n",
              "      <td>0.79</td>\n",
              "      <td>9</td>\n",
              "      <td>0.84</td>\n",
              "      <td>5</td>\n",
              "      <td>0.76</td>\n",
              "      <td>5</td>\n",
              "      <td>0.77</td>\n",
              "    </tr>\n",
              "  </tbody>\n",
              "</table>\n",
              "</div>"
            ],
            "text/plain": [
              "   Territorialidade  Posição IDHM  ...  Posição IDHM Longevidade  IDHM Longevidade\n",
              "0  Distrito Federal             1  ...                         1              0.86\n",
              "1         São Paulo             2  ...                         2              0.80\n",
              "2    Santa Catarina             3  ...                         4              0.78\n",
              "3    Rio de Janeiro             4  ...                         6              0.77\n",
              "4            Paraná             5  ...                         5              0.77\n",
              "\n",
              "[5 rows x 9 columns]"
            ]
          },
          "metadata": {
            "tags": []
          },
          "execution_count": 128
        }
      ]
    },
    {
      "cell_type": "code",
      "metadata": {
        "id": "Y4cLhjPxsXLQ",
        "outputId": "bb9fbdf4-267d-4b02-fbaa-bea8f7fd1448",
        "colab": {
          "base_uri": "https://localhost:8080/",
          "height": 195
        }
      },
      "source": [
        "# visualizando os últimos 5 registros\n",
        "idhm.tail()"
      ],
      "execution_count": 129,
      "outputs": [
        {
          "output_type": "execute_result",
          "data": {
            "text/html": [
              "<div>\n",
              "<style scoped>\n",
              "    .dataframe tbody tr th:only-of-type {\n",
              "        vertical-align: middle;\n",
              "    }\n",
              "\n",
              "    .dataframe tbody tr th {\n",
              "        vertical-align: top;\n",
              "    }\n",
              "\n",
              "    .dataframe thead th {\n",
              "        text-align: right;\n",
              "    }\n",
              "</style>\n",
              "<table border=\"1\" class=\"dataframe\">\n",
              "  <thead>\n",
              "    <tr style=\"text-align: right;\">\n",
              "      <th></th>\n",
              "      <th>Territorialidade</th>\n",
              "      <th>Posição IDHM</th>\n",
              "      <th>IDHM</th>\n",
              "      <th>Posição IDHM Renda</th>\n",
              "      <th>IDHM Renda</th>\n",
              "      <th>Posição IDHM Educação</th>\n",
              "      <th>IDHM Educação</th>\n",
              "      <th>Posição IDHM Longevidade</th>\n",
              "      <th>IDHM Longevidade</th>\n",
              "    </tr>\n",
              "  </thead>\n",
              "  <tbody>\n",
              "    <tr>\n",
              "      <th>22</th>\n",
              "      <td>Sergipe</td>\n",
              "      <td>22</td>\n",
              "      <td>0.70</td>\n",
              "      <td>18</td>\n",
              "      <td>0.80</td>\n",
              "      <td>24</td>\n",
              "      <td>0.64</td>\n",
              "      <td>20</td>\n",
              "      <td>0.68</td>\n",
              "    </tr>\n",
              "    <tr>\n",
              "      <th>23</th>\n",
              "      <td>Pará</td>\n",
              "      <td>23</td>\n",
              "      <td>0.70</td>\n",
              "      <td>19</td>\n",
              "      <td>0.79</td>\n",
              "      <td>22</td>\n",
              "      <td>0.66</td>\n",
              "      <td>24</td>\n",
              "      <td>0.65</td>\n",
              "    </tr>\n",
              "    <tr>\n",
              "      <th>24</th>\n",
              "      <td>Piauí</td>\n",
              "      <td>24</td>\n",
              "      <td>0.70</td>\n",
              "      <td>24</td>\n",
              "      <td>0.77</td>\n",
              "      <td>21</td>\n",
              "      <td>0.67</td>\n",
              "      <td>23</td>\n",
              "      <td>0.66</td>\n",
              "    </tr>\n",
              "    <tr>\n",
              "      <th>25</th>\n",
              "      <td>Maranhão</td>\n",
              "      <td>25</td>\n",
              "      <td>0.69</td>\n",
              "      <td>25</td>\n",
              "      <td>0.76</td>\n",
              "      <td>18</td>\n",
              "      <td>0.68</td>\n",
              "      <td>26</td>\n",
              "      <td>0.62</td>\n",
              "    </tr>\n",
              "    <tr>\n",
              "      <th>26</th>\n",
              "      <td>Alagoas</td>\n",
              "      <td>26</td>\n",
              "      <td>0.68</td>\n",
              "      <td>21</td>\n",
              "      <td>0.78</td>\n",
              "      <td>25</td>\n",
              "      <td>0.64</td>\n",
              "      <td>25</td>\n",
              "      <td>0.64</td>\n",
              "    </tr>\n",
              "  </tbody>\n",
              "</table>\n",
              "</div>"
            ],
            "text/plain": [
              "   Territorialidade  Posição IDHM  ...  Posição IDHM Longevidade  IDHM Longevidade\n",
              "22          Sergipe            22  ...                        20              0.68\n",
              "23             Pará            23  ...                        24              0.65\n",
              "24            Piauí            24  ...                        23              0.66\n",
              "25         Maranhão            25  ...                        26              0.62\n",
              "26          Alagoas            26  ...                        25              0.64\n",
              "\n",
              "[5 rows x 9 columns]"
            ]
          },
          "metadata": {
            "tags": []
          },
          "execution_count": 129
        }
      ]
    },
    {
      "cell_type": "code",
      "metadata": {
        "id": "JpwzrAG3GtdE",
        "outputId": "553e1263-5419-4378-e9d9-0d75dfac4856",
        "colab": {
          "base_uri": "https://localhost:8080/"
        }
      },
      "source": [
        "# quantidade de registros e colunas\n",
        "idhm.shape"
      ],
      "execution_count": 130,
      "outputs": [
        {
          "output_type": "execute_result",
          "data": {
            "text/plain": [
              "(27, 9)"
            ]
          },
          "metadata": {
            "tags": []
          },
          "execution_count": 130
        }
      ]
    },
    {
      "cell_type": "code",
      "metadata": {
        "id": "swK_rC7qG2MI",
        "outputId": "84c83a1b-1269-46a0-b947-75c901cee3cb",
        "colab": {
          "base_uri": "https://localhost:8080/",
          "height": 195
        }
      },
      "source": [
        "# apagando as colunas desnecessárias\n",
        "idhm = idhm[['Territorialidade','IDHM']]\n",
        "idhm.head()"
      ],
      "execution_count": 131,
      "outputs": [
        {
          "output_type": "execute_result",
          "data": {
            "text/html": [
              "<div>\n",
              "<style scoped>\n",
              "    .dataframe tbody tr th:only-of-type {\n",
              "        vertical-align: middle;\n",
              "    }\n",
              "\n",
              "    .dataframe tbody tr th {\n",
              "        vertical-align: top;\n",
              "    }\n",
              "\n",
              "    .dataframe thead th {\n",
              "        text-align: right;\n",
              "    }\n",
              "</style>\n",
              "<table border=\"1\" class=\"dataframe\">\n",
              "  <thead>\n",
              "    <tr style=\"text-align: right;\">\n",
              "      <th></th>\n",
              "      <th>Territorialidade</th>\n",
              "      <th>IDHM</th>\n",
              "    </tr>\n",
              "  </thead>\n",
              "  <tbody>\n",
              "    <tr>\n",
              "      <th>0</th>\n",
              "      <td>Distrito Federal</td>\n",
              "      <td>0.85</td>\n",
              "    </tr>\n",
              "    <tr>\n",
              "      <th>1</th>\n",
              "      <td>São Paulo</td>\n",
              "      <td>0.83</td>\n",
              "    </tr>\n",
              "    <tr>\n",
              "      <th>2</th>\n",
              "      <td>Santa Catarina</td>\n",
              "      <td>0.81</td>\n",
              "    </tr>\n",
              "    <tr>\n",
              "      <th>3</th>\n",
              "      <td>Rio de Janeiro</td>\n",
              "      <td>0.80</td>\n",
              "    </tr>\n",
              "    <tr>\n",
              "      <th>4</th>\n",
              "      <td>Paraná</td>\n",
              "      <td>0.79</td>\n",
              "    </tr>\n",
              "  </tbody>\n",
              "</table>\n",
              "</div>"
            ],
            "text/plain": [
              "   Territorialidade  IDHM\n",
              "0  Distrito Federal  0.85\n",
              "1         São Paulo  0.83\n",
              "2    Santa Catarina  0.81\n",
              "3    Rio de Janeiro  0.80\n",
              "4            Paraná  0.79"
            ]
          },
          "metadata": {
            "tags": []
          },
          "execution_count": 131
        }
      ]
    },
    {
      "cell_type": "markdown",
      "metadata": {
        "id": "KTPVeGyC3kq8"
      },
      "source": [
        "### **Dados de População dos Estados e Municípios**"
      ]
    },
    {
      "cell_type": "code",
      "metadata": {
        "id": "O2frgaOzHX1P",
        "outputId": "002d28b1-25f8-4733-c1df-79437e5e285f",
        "colab": {
          "base_uri": "https://localhost:8080/",
          "height": 1000
        }
      },
      "source": [
        "estados_pop = pd.read_excel(\n",
        "    'https://github.com/gustavopierre/data_science_portfolio/blob/master/estimativa_pop_2020.xls?raw=true', \n",
        "    sheet_name='BRASIL E UFs', \n",
        "    skiprows=1, \n",
        "    skipfooter=7\n",
        ")\n",
        "estados_pop"
      ],
      "execution_count": 132,
      "outputs": [
        {
          "output_type": "execute_result",
          "data": {
            "text/html": [
              "<div>\n",
              "<style scoped>\n",
              "    .dataframe tbody tr th:only-of-type {\n",
              "        vertical-align: middle;\n",
              "    }\n",
              "\n",
              "    .dataframe tbody tr th {\n",
              "        vertical-align: top;\n",
              "    }\n",
              "\n",
              "    .dataframe thead th {\n",
              "        text-align: right;\n",
              "    }\n",
              "</style>\n",
              "<table border=\"1\" class=\"dataframe\">\n",
              "  <thead>\n",
              "    <tr style=\"text-align: right;\">\n",
              "      <th></th>\n",
              "      <th>BRASIL E UNIDADES DA FEDERAÇÃO</th>\n",
              "      <th>Unnamed: 1</th>\n",
              "      <th>POPULAÇÃO ESTIMADA</th>\n",
              "    </tr>\n",
              "  </thead>\n",
              "  <tbody>\n",
              "    <tr>\n",
              "      <th>0</th>\n",
              "      <td>Brasil</td>\n",
              "      <td>nan</td>\n",
              "      <td>211755692</td>\n",
              "    </tr>\n",
              "    <tr>\n",
              "      <th>1</th>\n",
              "      <td>Região Norte</td>\n",
              "      <td>nan</td>\n",
              "      <td>18672591</td>\n",
              "    </tr>\n",
              "    <tr>\n",
              "      <th>2</th>\n",
              "      <td>Rondônia</td>\n",
              "      <td>nan</td>\n",
              "      <td>1796460</td>\n",
              "    </tr>\n",
              "    <tr>\n",
              "      <th>3</th>\n",
              "      <td>Acre</td>\n",
              "      <td>nan</td>\n",
              "      <td>894470</td>\n",
              "    </tr>\n",
              "    <tr>\n",
              "      <th>4</th>\n",
              "      <td>Amazonas</td>\n",
              "      <td>nan</td>\n",
              "      <td>4207714</td>\n",
              "    </tr>\n",
              "    <tr>\n",
              "      <th>5</th>\n",
              "      <td>Roraima</td>\n",
              "      <td>nan</td>\n",
              "      <td>631181</td>\n",
              "    </tr>\n",
              "    <tr>\n",
              "      <th>6</th>\n",
              "      <td>Pará</td>\n",
              "      <td>nan</td>\n",
              "      <td>8690745</td>\n",
              "    </tr>\n",
              "    <tr>\n",
              "      <th>7</th>\n",
              "      <td>Amapá</td>\n",
              "      <td>nan</td>\n",
              "      <td>861773</td>\n",
              "    </tr>\n",
              "    <tr>\n",
              "      <th>8</th>\n",
              "      <td>Tocantins</td>\n",
              "      <td>nan</td>\n",
              "      <td>1590248</td>\n",
              "    </tr>\n",
              "    <tr>\n",
              "      <th>9</th>\n",
              "      <td>Região Nordeste</td>\n",
              "      <td>nan</td>\n",
              "      <td>57374243</td>\n",
              "    </tr>\n",
              "    <tr>\n",
              "      <th>10</th>\n",
              "      <td>Maranhão</td>\n",
              "      <td>nan</td>\n",
              "      <td>7114598</td>\n",
              "    </tr>\n",
              "    <tr>\n",
              "      <th>11</th>\n",
              "      <td>Piauí</td>\n",
              "      <td>nan</td>\n",
              "      <td>3.281.480(1)</td>\n",
              "    </tr>\n",
              "    <tr>\n",
              "      <th>12</th>\n",
              "      <td>Ceará</td>\n",
              "      <td>nan</td>\n",
              "      <td>9.187.103(1)</td>\n",
              "    </tr>\n",
              "    <tr>\n",
              "      <th>13</th>\n",
              "      <td>Rio Grande do Norte</td>\n",
              "      <td>nan</td>\n",
              "      <td>3534165</td>\n",
              "    </tr>\n",
              "    <tr>\n",
              "      <th>14</th>\n",
              "      <td>Paraíba</td>\n",
              "      <td>nan</td>\n",
              "      <td>4039277</td>\n",
              "    </tr>\n",
              "    <tr>\n",
              "      <th>15</th>\n",
              "      <td>Pernambuco</td>\n",
              "      <td>nan</td>\n",
              "      <td>9.616.621(2)</td>\n",
              "    </tr>\n",
              "    <tr>\n",
              "      <th>16</th>\n",
              "      <td>Alagoas</td>\n",
              "      <td>nan</td>\n",
              "      <td>3.351.543(2)</td>\n",
              "    </tr>\n",
              "    <tr>\n",
              "      <th>17</th>\n",
              "      <td>Sergipe</td>\n",
              "      <td>nan</td>\n",
              "      <td>2.318.822(3)</td>\n",
              "    </tr>\n",
              "    <tr>\n",
              "      <th>18</th>\n",
              "      <td>Bahia</td>\n",
              "      <td>nan</td>\n",
              "      <td>14.930.634(3)</td>\n",
              "    </tr>\n",
              "    <tr>\n",
              "      <th>19</th>\n",
              "      <td>Região Sudeste</td>\n",
              "      <td>nan</td>\n",
              "      <td>89012240</td>\n",
              "    </tr>\n",
              "    <tr>\n",
              "      <th>20</th>\n",
              "      <td>Minas Gerais</td>\n",
              "      <td>nan</td>\n",
              "      <td>21292666</td>\n",
              "    </tr>\n",
              "    <tr>\n",
              "      <th>21</th>\n",
              "      <td>Espírito Santo</td>\n",
              "      <td>nan</td>\n",
              "      <td>4064052</td>\n",
              "    </tr>\n",
              "    <tr>\n",
              "      <th>22</th>\n",
              "      <td>Rio de Janeiro</td>\n",
              "      <td>nan</td>\n",
              "      <td>17366189</td>\n",
              "    </tr>\n",
              "    <tr>\n",
              "      <th>23</th>\n",
              "      <td>São Paulo</td>\n",
              "      <td>nan</td>\n",
              "      <td>46289333</td>\n",
              "    </tr>\n",
              "    <tr>\n",
              "      <th>24</th>\n",
              "      <td>Região Sul</td>\n",
              "      <td>nan</td>\n",
              "      <td>30192315</td>\n",
              "    </tr>\n",
              "    <tr>\n",
              "      <th>25</th>\n",
              "      <td>Paraná</td>\n",
              "      <td>nan</td>\n",
              "      <td>11516840</td>\n",
              "    </tr>\n",
              "    <tr>\n",
              "      <th>26</th>\n",
              "      <td>Santa Catarina</td>\n",
              "      <td>nan</td>\n",
              "      <td>7252502</td>\n",
              "    </tr>\n",
              "    <tr>\n",
              "      <th>27</th>\n",
              "      <td>Rio Grande do Sul</td>\n",
              "      <td>nan</td>\n",
              "      <td>11422973</td>\n",
              "    </tr>\n",
              "    <tr>\n",
              "      <th>28</th>\n",
              "      <td>Região Centro-Oeste</td>\n",
              "      <td>nan</td>\n",
              "      <td>16504303</td>\n",
              "    </tr>\n",
              "    <tr>\n",
              "      <th>29</th>\n",
              "      <td>Mato Grosso do Sul</td>\n",
              "      <td>nan</td>\n",
              "      <td>2809394</td>\n",
              "    </tr>\n",
              "    <tr>\n",
              "      <th>30</th>\n",
              "      <td>Mato Grosso</td>\n",
              "      <td>nan</td>\n",
              "      <td>3526220</td>\n",
              "    </tr>\n",
              "    <tr>\n",
              "      <th>31</th>\n",
              "      <td>Goiás</td>\n",
              "      <td>nan</td>\n",
              "      <td>7.113.540(4)</td>\n",
              "    </tr>\n",
              "    <tr>\n",
              "      <th>32</th>\n",
              "      <td>Distrito Federal</td>\n",
              "      <td>nan</td>\n",
              "      <td>3.055.149(4)</td>\n",
              "    </tr>\n",
              "  </tbody>\n",
              "</table>\n",
              "</div>"
            ],
            "text/plain": [
              "   BRASIL E UNIDADES DA FEDERAÇÃO  Unnamed: 1 POPULAÇÃO ESTIMADA\n",
              "0                          Brasil         nan          211755692\n",
              "1                    Região Norte         nan           18672591\n",
              "2                        Rondônia         nan            1796460\n",
              "3                            Acre         nan             894470\n",
              "4                        Amazonas         nan            4207714\n",
              "5                         Roraima         nan             631181\n",
              "6                            Pará         nan            8690745\n",
              "7                           Amapá         nan             861773\n",
              "8                       Tocantins         nan            1590248\n",
              "9                 Região Nordeste         nan           57374243\n",
              "10                       Maranhão         nan            7114598\n",
              "11                          Piauí         nan       3.281.480(1)\n",
              "12                          Ceará         nan       9.187.103(1)\n",
              "13            Rio Grande do Norte         nan            3534165\n",
              "14                        Paraíba         nan            4039277\n",
              "15                     Pernambuco         nan       9.616.621(2)\n",
              "16                        Alagoas         nan       3.351.543(2)\n",
              "17                        Sergipe         nan       2.318.822(3)\n",
              "18                          Bahia         nan      14.930.634(3)\n",
              "19                 Região Sudeste         nan           89012240\n",
              "20                   Minas Gerais         nan           21292666\n",
              "21                 Espírito Santo         nan            4064052\n",
              "22                 Rio de Janeiro         nan           17366189\n",
              "23                      São Paulo         nan           46289333\n",
              "24                     Região Sul         nan           30192315\n",
              "25                         Paraná         nan           11516840\n",
              "26                 Santa Catarina         nan            7252502\n",
              "27              Rio Grande do Sul         nan           11422973\n",
              "28            Região Centro-Oeste         nan           16504303\n",
              "29             Mato Grosso do Sul         nan            2809394\n",
              "30                    Mato Grosso         nan            3526220\n",
              "31                          Goiás         nan       7.113.540(4)\n",
              "32               Distrito Federal         nan       3.055.149(4)"
            ]
          },
          "metadata": {
            "tags": []
          },
          "execution_count": 132
        }
      ]
    },
    {
      "cell_type": "code",
      "metadata": {
        "id": "MLkMjJGaLD-q",
        "outputId": "b3f001b4-3126-484f-c0f0-afdee6face11",
        "colab": {
          "base_uri": "https://localhost:8080/",
          "height": 195
        }
      },
      "source": [
        "estados_pop.dropna(axis=1, inplace=True)\n",
        "estados_pop.columns=['estado','populacao']\n",
        "estados_pop.head()"
      ],
      "execution_count": 133,
      "outputs": [
        {
          "output_type": "execute_result",
          "data": {
            "text/html": [
              "<div>\n",
              "<style scoped>\n",
              "    .dataframe tbody tr th:only-of-type {\n",
              "        vertical-align: middle;\n",
              "    }\n",
              "\n",
              "    .dataframe tbody tr th {\n",
              "        vertical-align: top;\n",
              "    }\n",
              "\n",
              "    .dataframe thead th {\n",
              "        text-align: right;\n",
              "    }\n",
              "</style>\n",
              "<table border=\"1\" class=\"dataframe\">\n",
              "  <thead>\n",
              "    <tr style=\"text-align: right;\">\n",
              "      <th></th>\n",
              "      <th>estado</th>\n",
              "      <th>populacao</th>\n",
              "    </tr>\n",
              "  </thead>\n",
              "  <tbody>\n",
              "    <tr>\n",
              "      <th>0</th>\n",
              "      <td>Brasil</td>\n",
              "      <td>211755692</td>\n",
              "    </tr>\n",
              "    <tr>\n",
              "      <th>1</th>\n",
              "      <td>Região Norte</td>\n",
              "      <td>18672591</td>\n",
              "    </tr>\n",
              "    <tr>\n",
              "      <th>2</th>\n",
              "      <td>Rondônia</td>\n",
              "      <td>1796460</td>\n",
              "    </tr>\n",
              "    <tr>\n",
              "      <th>3</th>\n",
              "      <td>Acre</td>\n",
              "      <td>894470</td>\n",
              "    </tr>\n",
              "    <tr>\n",
              "      <th>4</th>\n",
              "      <td>Amazonas</td>\n",
              "      <td>4207714</td>\n",
              "    </tr>\n",
              "  </tbody>\n",
              "</table>\n",
              "</div>"
            ],
            "text/plain": [
              "         estado  populacao\n",
              "0        Brasil  211755692\n",
              "1  Região Norte   18672591\n",
              "2      Rondônia    1796460\n",
              "3          Acre     894470\n",
              "4      Amazonas    4207714"
            ]
          },
          "metadata": {
            "tags": []
          },
          "execution_count": 133
        }
      ]
    },
    {
      "cell_type": "code",
      "metadata": {
        "id": "GdVQEmW6QR2v",
        "outputId": "a9472e95-d47b-4f7b-fa26-1e43cbecec31",
        "colab": {
          "base_uri": "https://localhost:8080/"
        }
      },
      "source": [
        "estados_pop.info()"
      ],
      "execution_count": 134,
      "outputs": [
        {
          "output_type": "stream",
          "text": [
            "<class 'pandas.core.frame.DataFrame'>\n",
            "RangeIndex: 33 entries, 0 to 32\n",
            "Data columns (total 2 columns):\n",
            " #   Column     Non-Null Count  Dtype \n",
            "---  ------     --------------  ----- \n",
            " 0   estado     33 non-null     object\n",
            " 1   populacao  33 non-null     object\n",
            "dtypes: object(2)\n",
            "memory usage: 656.0+ bytes\n"
          ],
          "name": "stdout"
        }
      ]
    },
    {
      "cell_type": "code",
      "metadata": {
        "id": "XYBgQTAFQZZH",
        "outputId": "198cd44a-84d9-4e1e-eb23-86860fc2bcac",
        "colab": {
          "base_uri": "https://localhost:8080/",
          "height": 846
        }
      },
      "source": [
        "remove = estados_pop.loc[(estados_pop['estado'].isin(['Brasil','Região Norte','Região Sul', 'Região Centro-Oeste', 'Região Nordeste', 'Região Sudeste']))]\n",
        "\n",
        "estados_pop = estados_pop.drop(remove.index)\n",
        "estados_pop = estados_pop.reset_index()\n",
        "estados_pop"
      ],
      "execution_count": 135,
      "outputs": [
        {
          "output_type": "execute_result",
          "data": {
            "text/html": [
              "<div>\n",
              "<style scoped>\n",
              "    .dataframe tbody tr th:only-of-type {\n",
              "        vertical-align: middle;\n",
              "    }\n",
              "\n",
              "    .dataframe tbody tr th {\n",
              "        vertical-align: top;\n",
              "    }\n",
              "\n",
              "    .dataframe thead th {\n",
              "        text-align: right;\n",
              "    }\n",
              "</style>\n",
              "<table border=\"1\" class=\"dataframe\">\n",
              "  <thead>\n",
              "    <tr style=\"text-align: right;\">\n",
              "      <th></th>\n",
              "      <th>index</th>\n",
              "      <th>estado</th>\n",
              "      <th>populacao</th>\n",
              "    </tr>\n",
              "  </thead>\n",
              "  <tbody>\n",
              "    <tr>\n",
              "      <th>0</th>\n",
              "      <td>2</td>\n",
              "      <td>Rondônia</td>\n",
              "      <td>1796460</td>\n",
              "    </tr>\n",
              "    <tr>\n",
              "      <th>1</th>\n",
              "      <td>3</td>\n",
              "      <td>Acre</td>\n",
              "      <td>894470</td>\n",
              "    </tr>\n",
              "    <tr>\n",
              "      <th>2</th>\n",
              "      <td>4</td>\n",
              "      <td>Amazonas</td>\n",
              "      <td>4207714</td>\n",
              "    </tr>\n",
              "    <tr>\n",
              "      <th>3</th>\n",
              "      <td>5</td>\n",
              "      <td>Roraima</td>\n",
              "      <td>631181</td>\n",
              "    </tr>\n",
              "    <tr>\n",
              "      <th>4</th>\n",
              "      <td>6</td>\n",
              "      <td>Pará</td>\n",
              "      <td>8690745</td>\n",
              "    </tr>\n",
              "    <tr>\n",
              "      <th>5</th>\n",
              "      <td>7</td>\n",
              "      <td>Amapá</td>\n",
              "      <td>861773</td>\n",
              "    </tr>\n",
              "    <tr>\n",
              "      <th>6</th>\n",
              "      <td>8</td>\n",
              "      <td>Tocantins</td>\n",
              "      <td>1590248</td>\n",
              "    </tr>\n",
              "    <tr>\n",
              "      <th>7</th>\n",
              "      <td>10</td>\n",
              "      <td>Maranhão</td>\n",
              "      <td>7114598</td>\n",
              "    </tr>\n",
              "    <tr>\n",
              "      <th>8</th>\n",
              "      <td>11</td>\n",
              "      <td>Piauí</td>\n",
              "      <td>3.281.480(1)</td>\n",
              "    </tr>\n",
              "    <tr>\n",
              "      <th>9</th>\n",
              "      <td>12</td>\n",
              "      <td>Ceará</td>\n",
              "      <td>9.187.103(1)</td>\n",
              "    </tr>\n",
              "    <tr>\n",
              "      <th>10</th>\n",
              "      <td>13</td>\n",
              "      <td>Rio Grande do Norte</td>\n",
              "      <td>3534165</td>\n",
              "    </tr>\n",
              "    <tr>\n",
              "      <th>11</th>\n",
              "      <td>14</td>\n",
              "      <td>Paraíba</td>\n",
              "      <td>4039277</td>\n",
              "    </tr>\n",
              "    <tr>\n",
              "      <th>12</th>\n",
              "      <td>15</td>\n",
              "      <td>Pernambuco</td>\n",
              "      <td>9.616.621(2)</td>\n",
              "    </tr>\n",
              "    <tr>\n",
              "      <th>13</th>\n",
              "      <td>16</td>\n",
              "      <td>Alagoas</td>\n",
              "      <td>3.351.543(2)</td>\n",
              "    </tr>\n",
              "    <tr>\n",
              "      <th>14</th>\n",
              "      <td>17</td>\n",
              "      <td>Sergipe</td>\n",
              "      <td>2.318.822(3)</td>\n",
              "    </tr>\n",
              "    <tr>\n",
              "      <th>15</th>\n",
              "      <td>18</td>\n",
              "      <td>Bahia</td>\n",
              "      <td>14.930.634(3)</td>\n",
              "    </tr>\n",
              "    <tr>\n",
              "      <th>16</th>\n",
              "      <td>20</td>\n",
              "      <td>Minas Gerais</td>\n",
              "      <td>21292666</td>\n",
              "    </tr>\n",
              "    <tr>\n",
              "      <th>17</th>\n",
              "      <td>21</td>\n",
              "      <td>Espírito Santo</td>\n",
              "      <td>4064052</td>\n",
              "    </tr>\n",
              "    <tr>\n",
              "      <th>18</th>\n",
              "      <td>22</td>\n",
              "      <td>Rio de Janeiro</td>\n",
              "      <td>17366189</td>\n",
              "    </tr>\n",
              "    <tr>\n",
              "      <th>19</th>\n",
              "      <td>23</td>\n",
              "      <td>São Paulo</td>\n",
              "      <td>46289333</td>\n",
              "    </tr>\n",
              "    <tr>\n",
              "      <th>20</th>\n",
              "      <td>25</td>\n",
              "      <td>Paraná</td>\n",
              "      <td>11516840</td>\n",
              "    </tr>\n",
              "    <tr>\n",
              "      <th>21</th>\n",
              "      <td>26</td>\n",
              "      <td>Santa Catarina</td>\n",
              "      <td>7252502</td>\n",
              "    </tr>\n",
              "    <tr>\n",
              "      <th>22</th>\n",
              "      <td>27</td>\n",
              "      <td>Rio Grande do Sul</td>\n",
              "      <td>11422973</td>\n",
              "    </tr>\n",
              "    <tr>\n",
              "      <th>23</th>\n",
              "      <td>29</td>\n",
              "      <td>Mato Grosso do Sul</td>\n",
              "      <td>2809394</td>\n",
              "    </tr>\n",
              "    <tr>\n",
              "      <th>24</th>\n",
              "      <td>30</td>\n",
              "      <td>Mato Grosso</td>\n",
              "      <td>3526220</td>\n",
              "    </tr>\n",
              "    <tr>\n",
              "      <th>25</th>\n",
              "      <td>31</td>\n",
              "      <td>Goiás</td>\n",
              "      <td>7.113.540(4)</td>\n",
              "    </tr>\n",
              "    <tr>\n",
              "      <th>26</th>\n",
              "      <td>32</td>\n",
              "      <td>Distrito Federal</td>\n",
              "      <td>3.055.149(4)</td>\n",
              "    </tr>\n",
              "  </tbody>\n",
              "</table>\n",
              "</div>"
            ],
            "text/plain": [
              "    index               estado      populacao\n",
              "0       2             Rondônia        1796460\n",
              "1       3                 Acre         894470\n",
              "2       4             Amazonas        4207714\n",
              "3       5              Roraima         631181\n",
              "4       6                 Pará        8690745\n",
              "5       7                Amapá         861773\n",
              "6       8            Tocantins        1590248\n",
              "7      10             Maranhão        7114598\n",
              "8      11                Piauí   3.281.480(1)\n",
              "9      12                Ceará   9.187.103(1)\n",
              "10     13  Rio Grande do Norte        3534165\n",
              "11     14              Paraíba        4039277\n",
              "12     15           Pernambuco   9.616.621(2)\n",
              "13     16              Alagoas   3.351.543(2)\n",
              "14     17              Sergipe   2.318.822(3)\n",
              "15     18                Bahia  14.930.634(3)\n",
              "16     20         Minas Gerais       21292666\n",
              "17     21       Espírito Santo        4064052\n",
              "18     22       Rio de Janeiro       17366189\n",
              "19     23            São Paulo       46289333\n",
              "20     25               Paraná       11516840\n",
              "21     26       Santa Catarina        7252502\n",
              "22     27    Rio Grande do Sul       11422973\n",
              "23     29   Mato Grosso do Sul        2809394\n",
              "24     30          Mato Grosso        3526220\n",
              "25     31                Goiás   7.113.540(4)\n",
              "26     32     Distrito Federal   3.055.149(4)"
            ]
          },
          "metadata": {
            "tags": []
          },
          "execution_count": 135
        }
      ]
    },
    {
      "cell_type": "code",
      "metadata": {
        "id": "nMZOCxAla-oq"
      },
      "source": [
        "for index, row in estados_pop.iterrows():\n",
        "    if '(' in str(row['populacao']):\n",
        "        estados_pop.loc[index,'populacao'] = ''.join(row['populacao'].split('(')[0].split('.'))"
      ],
      "execution_count": 136,
      "outputs": []
    },
    {
      "cell_type": "code",
      "metadata": {
        "id": "BW9tVP_OfaCR",
        "outputId": "092be791-5a01-4bbc-f465-801b299ecff1",
        "colab": {
          "base_uri": "https://localhost:8080/",
          "height": 846
        }
      },
      "source": [
        "estados_pop"
      ],
      "execution_count": 137,
      "outputs": [
        {
          "output_type": "execute_result",
          "data": {
            "text/html": [
              "<div>\n",
              "<style scoped>\n",
              "    .dataframe tbody tr th:only-of-type {\n",
              "        vertical-align: middle;\n",
              "    }\n",
              "\n",
              "    .dataframe tbody tr th {\n",
              "        vertical-align: top;\n",
              "    }\n",
              "\n",
              "    .dataframe thead th {\n",
              "        text-align: right;\n",
              "    }\n",
              "</style>\n",
              "<table border=\"1\" class=\"dataframe\">\n",
              "  <thead>\n",
              "    <tr style=\"text-align: right;\">\n",
              "      <th></th>\n",
              "      <th>index</th>\n",
              "      <th>estado</th>\n",
              "      <th>populacao</th>\n",
              "    </tr>\n",
              "  </thead>\n",
              "  <tbody>\n",
              "    <tr>\n",
              "      <th>0</th>\n",
              "      <td>2</td>\n",
              "      <td>Rondônia</td>\n",
              "      <td>1796460</td>\n",
              "    </tr>\n",
              "    <tr>\n",
              "      <th>1</th>\n",
              "      <td>3</td>\n",
              "      <td>Acre</td>\n",
              "      <td>894470</td>\n",
              "    </tr>\n",
              "    <tr>\n",
              "      <th>2</th>\n",
              "      <td>4</td>\n",
              "      <td>Amazonas</td>\n",
              "      <td>4207714</td>\n",
              "    </tr>\n",
              "    <tr>\n",
              "      <th>3</th>\n",
              "      <td>5</td>\n",
              "      <td>Roraima</td>\n",
              "      <td>631181</td>\n",
              "    </tr>\n",
              "    <tr>\n",
              "      <th>4</th>\n",
              "      <td>6</td>\n",
              "      <td>Pará</td>\n",
              "      <td>8690745</td>\n",
              "    </tr>\n",
              "    <tr>\n",
              "      <th>5</th>\n",
              "      <td>7</td>\n",
              "      <td>Amapá</td>\n",
              "      <td>861773</td>\n",
              "    </tr>\n",
              "    <tr>\n",
              "      <th>6</th>\n",
              "      <td>8</td>\n",
              "      <td>Tocantins</td>\n",
              "      <td>1590248</td>\n",
              "    </tr>\n",
              "    <tr>\n",
              "      <th>7</th>\n",
              "      <td>10</td>\n",
              "      <td>Maranhão</td>\n",
              "      <td>7114598</td>\n",
              "    </tr>\n",
              "    <tr>\n",
              "      <th>8</th>\n",
              "      <td>11</td>\n",
              "      <td>Piauí</td>\n",
              "      <td>3281480</td>\n",
              "    </tr>\n",
              "    <tr>\n",
              "      <th>9</th>\n",
              "      <td>12</td>\n",
              "      <td>Ceará</td>\n",
              "      <td>9187103</td>\n",
              "    </tr>\n",
              "    <tr>\n",
              "      <th>10</th>\n",
              "      <td>13</td>\n",
              "      <td>Rio Grande do Norte</td>\n",
              "      <td>3534165</td>\n",
              "    </tr>\n",
              "    <tr>\n",
              "      <th>11</th>\n",
              "      <td>14</td>\n",
              "      <td>Paraíba</td>\n",
              "      <td>4039277</td>\n",
              "    </tr>\n",
              "    <tr>\n",
              "      <th>12</th>\n",
              "      <td>15</td>\n",
              "      <td>Pernambuco</td>\n",
              "      <td>9616621</td>\n",
              "    </tr>\n",
              "    <tr>\n",
              "      <th>13</th>\n",
              "      <td>16</td>\n",
              "      <td>Alagoas</td>\n",
              "      <td>3351543</td>\n",
              "    </tr>\n",
              "    <tr>\n",
              "      <th>14</th>\n",
              "      <td>17</td>\n",
              "      <td>Sergipe</td>\n",
              "      <td>2318822</td>\n",
              "    </tr>\n",
              "    <tr>\n",
              "      <th>15</th>\n",
              "      <td>18</td>\n",
              "      <td>Bahia</td>\n",
              "      <td>14930634</td>\n",
              "    </tr>\n",
              "    <tr>\n",
              "      <th>16</th>\n",
              "      <td>20</td>\n",
              "      <td>Minas Gerais</td>\n",
              "      <td>21292666</td>\n",
              "    </tr>\n",
              "    <tr>\n",
              "      <th>17</th>\n",
              "      <td>21</td>\n",
              "      <td>Espírito Santo</td>\n",
              "      <td>4064052</td>\n",
              "    </tr>\n",
              "    <tr>\n",
              "      <th>18</th>\n",
              "      <td>22</td>\n",
              "      <td>Rio de Janeiro</td>\n",
              "      <td>17366189</td>\n",
              "    </tr>\n",
              "    <tr>\n",
              "      <th>19</th>\n",
              "      <td>23</td>\n",
              "      <td>São Paulo</td>\n",
              "      <td>46289333</td>\n",
              "    </tr>\n",
              "    <tr>\n",
              "      <th>20</th>\n",
              "      <td>25</td>\n",
              "      <td>Paraná</td>\n",
              "      <td>11516840</td>\n",
              "    </tr>\n",
              "    <tr>\n",
              "      <th>21</th>\n",
              "      <td>26</td>\n",
              "      <td>Santa Catarina</td>\n",
              "      <td>7252502</td>\n",
              "    </tr>\n",
              "    <tr>\n",
              "      <th>22</th>\n",
              "      <td>27</td>\n",
              "      <td>Rio Grande do Sul</td>\n",
              "      <td>11422973</td>\n",
              "    </tr>\n",
              "    <tr>\n",
              "      <th>23</th>\n",
              "      <td>29</td>\n",
              "      <td>Mato Grosso do Sul</td>\n",
              "      <td>2809394</td>\n",
              "    </tr>\n",
              "    <tr>\n",
              "      <th>24</th>\n",
              "      <td>30</td>\n",
              "      <td>Mato Grosso</td>\n",
              "      <td>3526220</td>\n",
              "    </tr>\n",
              "    <tr>\n",
              "      <th>25</th>\n",
              "      <td>31</td>\n",
              "      <td>Goiás</td>\n",
              "      <td>7113540</td>\n",
              "    </tr>\n",
              "    <tr>\n",
              "      <th>26</th>\n",
              "      <td>32</td>\n",
              "      <td>Distrito Federal</td>\n",
              "      <td>3055149</td>\n",
              "    </tr>\n",
              "  </tbody>\n",
              "</table>\n",
              "</div>"
            ],
            "text/plain": [
              "    index               estado populacao\n",
              "0       2             Rondônia   1796460\n",
              "1       3                 Acre    894470\n",
              "2       4             Amazonas   4207714\n",
              "3       5              Roraima    631181\n",
              "4       6                 Pará   8690745\n",
              "5       7                Amapá    861773\n",
              "6       8            Tocantins   1590248\n",
              "7      10             Maranhão   7114598\n",
              "8      11                Piauí   3281480\n",
              "9      12                Ceará   9187103\n",
              "10     13  Rio Grande do Norte   3534165\n",
              "11     14              Paraíba   4039277\n",
              "12     15           Pernambuco   9616621\n",
              "13     16              Alagoas   3351543\n",
              "14     17              Sergipe   2318822\n",
              "15     18                Bahia  14930634\n",
              "16     20         Minas Gerais  21292666\n",
              "17     21       Espírito Santo   4064052\n",
              "18     22       Rio de Janeiro  17366189\n",
              "19     23            São Paulo  46289333\n",
              "20     25               Paraná  11516840\n",
              "21     26       Santa Catarina   7252502\n",
              "22     27    Rio Grande do Sul  11422973\n",
              "23     29   Mato Grosso do Sul   2809394\n",
              "24     30          Mato Grosso   3526220\n",
              "25     31                Goiás   7113540\n",
              "26     32     Distrito Federal   3055149"
            ]
          },
          "metadata": {
            "tags": []
          },
          "execution_count": 137
        }
      ]
    },
    {
      "cell_type": "code",
      "metadata": {
        "id": "UpfA1FeZgRmI",
        "outputId": "34dfc149-c171-406f-b89b-581d9ab8dbaf",
        "colab": {
          "base_uri": "https://localhost:8080/"
        }
      },
      "source": [
        "\n",
        "estados_pop['populacao'].astype('int64')"
      ],
      "execution_count": 138,
      "outputs": [
        {
          "output_type": "execute_result",
          "data": {
            "text/plain": [
              "0      1796460\n",
              "1       894470\n",
              "2      4207714\n",
              "3       631181\n",
              "4      8690745\n",
              "5       861773\n",
              "6      1590248\n",
              "7      7114598\n",
              "8      3281480\n",
              "9      9187103\n",
              "10     3534165\n",
              "11     4039277\n",
              "12     9616621\n",
              "13     3351543\n",
              "14     2318822\n",
              "15    14930634\n",
              "16    21292666\n",
              "17     4064052\n",
              "18    17366189\n",
              "19    46289333\n",
              "20    11516840\n",
              "21     7252502\n",
              "22    11422973\n",
              "23     2809394\n",
              "24     3526220\n",
              "25     7113540\n",
              "26     3055149\n",
              "Name: populacao, dtype: int64"
            ]
          },
          "metadata": {
            "tags": []
          },
          "execution_count": 138
        }
      ]
    },
    {
      "cell_type": "code",
      "metadata": {
        "id": "iPcoJviRY3dc",
        "outputId": "d07e3a88-5199-4b06-8dec-8b18bbd3b6b8",
        "colab": {
          "base_uri": "https://localhost:8080/",
          "height": 402
        }
      },
      "source": [
        "municipios_pop = pd.read_excel(\n",
        "    'https://github.com/gustavopierre/data_science_portfolio/blob/master/estimativa_pop_2020.xls?raw=true', \n",
        "    sheet_name='Municípios', \n",
        "    skiprows=1, \n",
        "    skipfooter=16\n",
        ")\n",
        "municipios_pop"
      ],
      "execution_count": 139,
      "outputs": [
        {
          "output_type": "execute_result",
          "data": {
            "text/html": [
              "<div>\n",
              "<style scoped>\n",
              "    .dataframe tbody tr th:only-of-type {\n",
              "        vertical-align: middle;\n",
              "    }\n",
              "\n",
              "    .dataframe tbody tr th {\n",
              "        vertical-align: top;\n",
              "    }\n",
              "\n",
              "    .dataframe thead th {\n",
              "        text-align: right;\n",
              "    }\n",
              "</style>\n",
              "<table border=\"1\" class=\"dataframe\">\n",
              "  <thead>\n",
              "    <tr style=\"text-align: right;\">\n",
              "      <th></th>\n",
              "      <th>UF</th>\n",
              "      <th>COD. UF</th>\n",
              "      <th>COD. MUNIC</th>\n",
              "      <th>NOME DO MUNICÍPIO</th>\n",
              "      <th>POPULAÇÃO ESTIMADA</th>\n",
              "    </tr>\n",
              "  </thead>\n",
              "  <tbody>\n",
              "    <tr>\n",
              "      <th>0</th>\n",
              "      <td>RO</td>\n",
              "      <td>11</td>\n",
              "      <td>15</td>\n",
              "      <td>Alta Floresta D'Oeste</td>\n",
              "      <td>22728</td>\n",
              "    </tr>\n",
              "    <tr>\n",
              "      <th>1</th>\n",
              "      <td>RO</td>\n",
              "      <td>11</td>\n",
              "      <td>23</td>\n",
              "      <td>Ariquemes</td>\n",
              "      <td>109523</td>\n",
              "    </tr>\n",
              "    <tr>\n",
              "      <th>2</th>\n",
              "      <td>RO</td>\n",
              "      <td>11</td>\n",
              "      <td>31</td>\n",
              "      <td>Cabixi</td>\n",
              "      <td>5188</td>\n",
              "    </tr>\n",
              "    <tr>\n",
              "      <th>3</th>\n",
              "      <td>RO</td>\n",
              "      <td>11</td>\n",
              "      <td>49</td>\n",
              "      <td>Cacoal</td>\n",
              "      <td>85893</td>\n",
              "    </tr>\n",
              "    <tr>\n",
              "      <th>4</th>\n",
              "      <td>RO</td>\n",
              "      <td>11</td>\n",
              "      <td>56</td>\n",
              "      <td>Cerejeiras</td>\n",
              "      <td>16204</td>\n",
              "    </tr>\n",
              "    <tr>\n",
              "      <th>...</th>\n",
              "      <td>...</td>\n",
              "      <td>...</td>\n",
              "      <td>...</td>\n",
              "      <td>...</td>\n",
              "      <td>...</td>\n",
              "    </tr>\n",
              "    <tr>\n",
              "      <th>5565</th>\n",
              "      <td>GO</td>\n",
              "      <td>52</td>\n",
              "      <td>22005</td>\n",
              "      <td>Vianópolis</td>\n",
              "      <td>13977</td>\n",
              "    </tr>\n",
              "    <tr>\n",
              "      <th>5566</th>\n",
              "      <td>GO</td>\n",
              "      <td>52</td>\n",
              "      <td>22054</td>\n",
              "      <td>Vicentinópolis</td>\n",
              "      <td>8873</td>\n",
              "    </tr>\n",
              "    <tr>\n",
              "      <th>5567</th>\n",
              "      <td>GO</td>\n",
              "      <td>52</td>\n",
              "      <td>22203</td>\n",
              "      <td>Vila Boa</td>\n",
              "      <td>6312</td>\n",
              "    </tr>\n",
              "    <tr>\n",
              "      <th>5568</th>\n",
              "      <td>GO</td>\n",
              "      <td>52</td>\n",
              "      <td>22302</td>\n",
              "      <td>Vila Propício</td>\n",
              "      <td>5882</td>\n",
              "    </tr>\n",
              "    <tr>\n",
              "      <th>5569</th>\n",
              "      <td>DF</td>\n",
              "      <td>53</td>\n",
              "      <td>108</td>\n",
              "      <td>Brasília</td>\n",
              "      <td>3055149</td>\n",
              "    </tr>\n",
              "  </tbody>\n",
              "</table>\n",
              "<p>5570 rows × 5 columns</p>\n",
              "</div>"
            ],
            "text/plain": [
              "      UF  COD. UF  COD. MUNIC      NOME DO MUNICÍPIO POPULAÇÃO ESTIMADA\n",
              "0     RO       11          15  Alta Floresta D'Oeste              22728\n",
              "1     RO       11          23              Ariquemes             109523\n",
              "2     RO       11          31                 Cabixi               5188\n",
              "3     RO       11          49                 Cacoal              85893\n",
              "4     RO       11          56             Cerejeiras              16204\n",
              "...   ..      ...         ...                    ...                ...\n",
              "5565  GO       52       22005             Vianópolis              13977\n",
              "5566  GO       52       22054         Vicentinópolis               8873\n",
              "5567  GO       52       22203               Vila Boa               6312\n",
              "5568  GO       52       22302          Vila Propício               5882\n",
              "5569  DF       53         108               Brasília            3055149\n",
              "\n",
              "[5570 rows x 5 columns]"
            ]
          },
          "metadata": {
            "tags": []
          },
          "execution_count": 139
        }
      ]
    },
    {
      "cell_type": "code",
      "metadata": {
        "id": "b57wcv7EaAdt"
      },
      "source": [
        "municipios_pop.columns=['uf','cod_uf', 'cod_munic', 'municipio','populacao']"
      ],
      "execution_count": 140,
      "outputs": []
    },
    {
      "cell_type": "code",
      "metadata": {
        "id": "0oIA3p_Bas3u",
        "outputId": "074810b6-b6bf-4758-9657-7418bbccba89",
        "colab": {
          "base_uri": "https://localhost:8080/"
        }
      },
      "source": [
        "municipios_pop.info()"
      ],
      "execution_count": 141,
      "outputs": [
        {
          "output_type": "stream",
          "text": [
            "<class 'pandas.core.frame.DataFrame'>\n",
            "RangeIndex: 5570 entries, 0 to 5569\n",
            "Data columns (total 5 columns):\n",
            " #   Column     Non-Null Count  Dtype \n",
            "---  ------     --------------  ----- \n",
            " 0   uf         5570 non-null   object\n",
            " 1   cod_uf     5570 non-null   int64 \n",
            " 2   cod_munic  5570 non-null   int64 \n",
            " 3   municipio  5570 non-null   object\n",
            " 4   populacao  5570 non-null   object\n",
            "dtypes: int64(2), object(3)\n",
            "memory usage: 217.7+ KB\n"
          ],
          "name": "stdout"
        }
      ]
    },
    {
      "cell_type": "code",
      "metadata": {
        "id": "5eG3eaURa3eM"
      },
      "source": [
        "for index, row in municipios_pop.iterrows():\n",
        "    if '(' in str(row['populacao']):\n",
        "        municipios_pop.loc[index,'populacao'] = ''.join(row['populacao'].split('(')[0].split('.'))"
      ],
      "execution_count": 142,
      "outputs": []
    },
    {
      "cell_type": "code",
      "metadata": {
        "id": "Ea9RbtI1if85",
        "outputId": "fed59287-d2cf-49ed-e9ac-8ae9d5c9c880",
        "colab": {
          "base_uri": "https://localhost:8080/",
          "height": 402
        }
      },
      "source": [
        "municipios_pop"
      ],
      "execution_count": 144,
      "outputs": [
        {
          "output_type": "execute_result",
          "data": {
            "text/html": [
              "<div>\n",
              "<style scoped>\n",
              "    .dataframe tbody tr th:only-of-type {\n",
              "        vertical-align: middle;\n",
              "    }\n",
              "\n",
              "    .dataframe tbody tr th {\n",
              "        vertical-align: top;\n",
              "    }\n",
              "\n",
              "    .dataframe thead th {\n",
              "        text-align: right;\n",
              "    }\n",
              "</style>\n",
              "<table border=\"1\" class=\"dataframe\">\n",
              "  <thead>\n",
              "    <tr style=\"text-align: right;\">\n",
              "      <th></th>\n",
              "      <th>uf</th>\n",
              "      <th>cod_uf</th>\n",
              "      <th>cod_munic</th>\n",
              "      <th>municipio</th>\n",
              "      <th>populacao</th>\n",
              "    </tr>\n",
              "  </thead>\n",
              "  <tbody>\n",
              "    <tr>\n",
              "      <th>0</th>\n",
              "      <td>RO</td>\n",
              "      <td>11</td>\n",
              "      <td>15</td>\n",
              "      <td>Alta Floresta D'Oeste</td>\n",
              "      <td>22728</td>\n",
              "    </tr>\n",
              "    <tr>\n",
              "      <th>1</th>\n",
              "      <td>RO</td>\n",
              "      <td>11</td>\n",
              "      <td>23</td>\n",
              "      <td>Ariquemes</td>\n",
              "      <td>109523</td>\n",
              "    </tr>\n",
              "    <tr>\n",
              "      <th>2</th>\n",
              "      <td>RO</td>\n",
              "      <td>11</td>\n",
              "      <td>31</td>\n",
              "      <td>Cabixi</td>\n",
              "      <td>5188</td>\n",
              "    </tr>\n",
              "    <tr>\n",
              "      <th>3</th>\n",
              "      <td>RO</td>\n",
              "      <td>11</td>\n",
              "      <td>49</td>\n",
              "      <td>Cacoal</td>\n",
              "      <td>85893</td>\n",
              "    </tr>\n",
              "    <tr>\n",
              "      <th>4</th>\n",
              "      <td>RO</td>\n",
              "      <td>11</td>\n",
              "      <td>56</td>\n",
              "      <td>Cerejeiras</td>\n",
              "      <td>16204</td>\n",
              "    </tr>\n",
              "    <tr>\n",
              "      <th>...</th>\n",
              "      <td>...</td>\n",
              "      <td>...</td>\n",
              "      <td>...</td>\n",
              "      <td>...</td>\n",
              "      <td>...</td>\n",
              "    </tr>\n",
              "    <tr>\n",
              "      <th>5565</th>\n",
              "      <td>GO</td>\n",
              "      <td>52</td>\n",
              "      <td>22005</td>\n",
              "      <td>Vianópolis</td>\n",
              "      <td>13977</td>\n",
              "    </tr>\n",
              "    <tr>\n",
              "      <th>5566</th>\n",
              "      <td>GO</td>\n",
              "      <td>52</td>\n",
              "      <td>22054</td>\n",
              "      <td>Vicentinópolis</td>\n",
              "      <td>8873</td>\n",
              "    </tr>\n",
              "    <tr>\n",
              "      <th>5567</th>\n",
              "      <td>GO</td>\n",
              "      <td>52</td>\n",
              "      <td>22203</td>\n",
              "      <td>Vila Boa</td>\n",
              "      <td>6312</td>\n",
              "    </tr>\n",
              "    <tr>\n",
              "      <th>5568</th>\n",
              "      <td>GO</td>\n",
              "      <td>52</td>\n",
              "      <td>22302</td>\n",
              "      <td>Vila Propício</td>\n",
              "      <td>5882</td>\n",
              "    </tr>\n",
              "    <tr>\n",
              "      <th>5569</th>\n",
              "      <td>DF</td>\n",
              "      <td>53</td>\n",
              "      <td>108</td>\n",
              "      <td>Brasília</td>\n",
              "      <td>3055149</td>\n",
              "    </tr>\n",
              "  </tbody>\n",
              "</table>\n",
              "<p>5570 rows × 5 columns</p>\n",
              "</div>"
            ],
            "text/plain": [
              "      uf  cod_uf  cod_munic              municipio populacao\n",
              "0     RO      11         15  Alta Floresta D'Oeste     22728\n",
              "1     RO      11         23              Ariquemes    109523\n",
              "2     RO      11         31                 Cabixi      5188\n",
              "3     RO      11         49                 Cacoal     85893\n",
              "4     RO      11         56             Cerejeiras     16204\n",
              "...   ..     ...        ...                    ...       ...\n",
              "5565  GO      52      22005             Vianópolis     13977\n",
              "5566  GO      52      22054         Vicentinópolis      8873\n",
              "5567  GO      52      22203               Vila Boa      6312\n",
              "5568  GO      52      22302          Vila Propício      5882\n",
              "5569  DF      53        108               Brasília   3055149\n",
              "\n",
              "[5570 rows x 5 columns]"
            ]
          },
          "metadata": {
            "tags": []
          },
          "execution_count": 144
        }
      ]
    },
    {
      "cell_type": "code",
      "metadata": {
        "id": "nYpFFai1iobo",
        "outputId": "c9517bd3-754c-4a4b-a697-3f8178e427d5",
        "colab": {
          "base_uri": "https://localhost:8080/"
        }
      },
      "source": [
        "municipios_pop['populacao'].astype('int64')"
      ],
      "execution_count": 145,
      "outputs": [
        {
          "output_type": "execute_result",
          "data": {
            "text/plain": [
              "0         22728\n",
              "1        109523\n",
              "2          5188\n",
              "3         85893\n",
              "4         16204\n",
              "         ...   \n",
              "5565      13977\n",
              "5566       8873\n",
              "5567       6312\n",
              "5568       5882\n",
              "5569    3055149\n",
              "Name: populacao, Length: 5570, dtype: int64"
            ]
          },
          "metadata": {
            "tags": []
          },
          "execution_count": 145
        }
      ]
    },
    {
      "cell_type": "markdown",
      "metadata": {
        "id": "PkHoHb1U3q1o"
      },
      "source": [
        "### **Dados da COVID-19**"
      ]
    },
    {
      "cell_type": "code",
      "metadata": {
        "id": "F8EPXWeyHfjQ",
        "outputId": "056cbdd6-32df-4d22-cd74-2a74ced06bc2",
        "colab": {
          "base_uri": "https://localhost:8080/",
          "height": 299
        }
      },
      "source": [
        "df = pd.read_csv('/content/caso.csv')\n",
        "df.head()"
      ],
      "execution_count": null,
      "outputs": [
        {
          "output_type": "execute_result",
          "data": {
            "text/html": [
              "<div>\n",
              "<style scoped>\n",
              "    .dataframe tbody tr th:only-of-type {\n",
              "        vertical-align: middle;\n",
              "    }\n",
              "\n",
              "    .dataframe tbody tr th {\n",
              "        vertical-align: top;\n",
              "    }\n",
              "\n",
              "    .dataframe thead th {\n",
              "        text-align: right;\n",
              "    }\n",
              "</style>\n",
              "<table border=\"1\" class=\"dataframe\">\n",
              "  <thead>\n",
              "    <tr style=\"text-align: right;\">\n",
              "      <th></th>\n",
              "      <th>date</th>\n",
              "      <th>state</th>\n",
              "      <th>city</th>\n",
              "      <th>place_type</th>\n",
              "      <th>confirmed</th>\n",
              "      <th>deaths</th>\n",
              "      <th>order_for_place</th>\n",
              "      <th>is_last</th>\n",
              "      <th>estimated_population_2019</th>\n",
              "      <th>estimated_population</th>\n",
              "      <th>city_ibge_code</th>\n",
              "      <th>confirmed_per_100k_inhabitants</th>\n",
              "      <th>death_rate</th>\n",
              "    </tr>\n",
              "  </thead>\n",
              "  <tbody>\n",
              "    <tr>\n",
              "      <th>0</th>\n",
              "      <td>2020-11-11</td>\n",
              "      <td>AP</td>\n",
              "      <td>NaN</td>\n",
              "      <td>state</td>\n",
              "      <td>53790</td>\n",
              "      <td>770</td>\n",
              "      <td>232</td>\n",
              "      <td>True</td>\n",
              "      <td>845731.0</td>\n",
              "      <td>861773.0</td>\n",
              "      <td>16.0</td>\n",
              "      <td>6241.78293</td>\n",
              "      <td>0.0143</td>\n",
              "    </tr>\n",
              "    <tr>\n",
              "      <th>1</th>\n",
              "      <td>2020-11-10</td>\n",
              "      <td>AP</td>\n",
              "      <td>NaN</td>\n",
              "      <td>state</td>\n",
              "      <td>53574</td>\n",
              "      <td>766</td>\n",
              "      <td>231</td>\n",
              "      <td>False</td>\n",
              "      <td>845731.0</td>\n",
              "      <td>861773.0</td>\n",
              "      <td>16.0</td>\n",
              "      <td>6216.71832</td>\n",
              "      <td>0.0143</td>\n",
              "    </tr>\n",
              "    <tr>\n",
              "      <th>2</th>\n",
              "      <td>2020-11-09</td>\n",
              "      <td>AP</td>\n",
              "      <td>NaN</td>\n",
              "      <td>state</td>\n",
              "      <td>53330</td>\n",
              "      <td>764</td>\n",
              "      <td>230</td>\n",
              "      <td>False</td>\n",
              "      <td>845731.0</td>\n",
              "      <td>861773.0</td>\n",
              "      <td>16.0</td>\n",
              "      <td>6188.40460</td>\n",
              "      <td>0.0143</td>\n",
              "    </tr>\n",
              "    <tr>\n",
              "      <th>3</th>\n",
              "      <td>2020-11-08</td>\n",
              "      <td>AP</td>\n",
              "      <td>NaN</td>\n",
              "      <td>state</td>\n",
              "      <td>53010</td>\n",
              "      <td>751</td>\n",
              "      <td>229</td>\n",
              "      <td>False</td>\n",
              "      <td>845731.0</td>\n",
              "      <td>861773.0</td>\n",
              "      <td>16.0</td>\n",
              "      <td>6151.27185</td>\n",
              "      <td>0.0142</td>\n",
              "    </tr>\n",
              "    <tr>\n",
              "      <th>4</th>\n",
              "      <td>2020-11-03</td>\n",
              "      <td>AP</td>\n",
              "      <td>NaN</td>\n",
              "      <td>state</td>\n",
              "      <td>52832</td>\n",
              "      <td>751</td>\n",
              "      <td>228</td>\n",
              "      <td>False</td>\n",
              "      <td>845731.0</td>\n",
              "      <td>861773.0</td>\n",
              "      <td>16.0</td>\n",
              "      <td>6130.61676</td>\n",
              "      <td>0.0142</td>\n",
              "    </tr>\n",
              "  </tbody>\n",
              "</table>\n",
              "</div>"
            ],
            "text/plain": [
              "         date state  ... confirmed_per_100k_inhabitants death_rate\n",
              "0  2020-11-11    AP  ...                     6241.78293     0.0143\n",
              "1  2020-11-10    AP  ...                     6216.71832     0.0143\n",
              "2  2020-11-09    AP  ...                     6188.40460     0.0143\n",
              "3  2020-11-08    AP  ...                     6151.27185     0.0142\n",
              "4  2020-11-03    AP  ...                     6130.61676     0.0142\n",
              "\n",
              "[5 rows x 13 columns]"
            ]
          },
          "metadata": {
            "tags": []
          },
          "execution_count": 15
        }
      ]
    },
    {
      "cell_type": "code",
      "metadata": {
        "id": "ZOLtgvGeTTVl",
        "outputId": "6ae37338-b989-4bf9-d92e-85d841dcc8d0",
        "colab": {
          "base_uri": "https://localhost:8080/",
          "height": 299
        }
      },
      "source": [
        "df.tail()"
      ],
      "execution_count": null,
      "outputs": [
        {
          "output_type": "execute_result",
          "data": {
            "text/html": [
              "<div>\n",
              "<style scoped>\n",
              "    .dataframe tbody tr th:only-of-type {\n",
              "        vertical-align: middle;\n",
              "    }\n",
              "\n",
              "    .dataframe tbody tr th {\n",
              "        vertical-align: top;\n",
              "    }\n",
              "\n",
              "    .dataframe thead th {\n",
              "        text-align: right;\n",
              "    }\n",
              "</style>\n",
              "<table border=\"1\" class=\"dataframe\">\n",
              "  <thead>\n",
              "    <tr style=\"text-align: right;\">\n",
              "      <th></th>\n",
              "      <th>date</th>\n",
              "      <th>state</th>\n",
              "      <th>city</th>\n",
              "      <th>place_type</th>\n",
              "      <th>confirmed</th>\n",
              "      <th>deaths</th>\n",
              "      <th>order_for_place</th>\n",
              "      <th>is_last</th>\n",
              "      <th>estimated_population_2019</th>\n",
              "      <th>estimated_population</th>\n",
              "      <th>city_ibge_code</th>\n",
              "      <th>confirmed_per_100k_inhabitants</th>\n",
              "      <th>death_rate</th>\n",
              "    </tr>\n",
              "  </thead>\n",
              "  <tbody>\n",
              "    <tr>\n",
              "      <th>922718</th>\n",
              "      <td>2020-09-15</td>\n",
              "      <td>SP</td>\n",
              "      <td>Praia Grande</td>\n",
              "      <td>city</td>\n",
              "      <td>7330</td>\n",
              "      <td>189</td>\n",
              "      <td>166</td>\n",
              "      <td>False</td>\n",
              "      <td>325073.0</td>\n",
              "      <td>330845.0</td>\n",
              "      <td>3541000.0</td>\n",
              "      <td>2215.53900</td>\n",
              "      <td>0.0258</td>\n",
              "    </tr>\n",
              "    <tr>\n",
              "      <th>922719</th>\n",
              "      <td>2020-09-14</td>\n",
              "      <td>SP</td>\n",
              "      <td>Praia Grande</td>\n",
              "      <td>city</td>\n",
              "      <td>7269</td>\n",
              "      <td>189</td>\n",
              "      <td>165</td>\n",
              "      <td>False</td>\n",
              "      <td>325073.0</td>\n",
              "      <td>330845.0</td>\n",
              "      <td>3541000.0</td>\n",
              "      <td>2197.10136</td>\n",
              "      <td>0.0260</td>\n",
              "    </tr>\n",
              "    <tr>\n",
              "      <th>922720</th>\n",
              "      <td>2020-09-13</td>\n",
              "      <td>SP</td>\n",
              "      <td>Praia Grande</td>\n",
              "      <td>city</td>\n",
              "      <td>7266</td>\n",
              "      <td>189</td>\n",
              "      <td>164</td>\n",
              "      <td>False</td>\n",
              "      <td>325073.0</td>\n",
              "      <td>330845.0</td>\n",
              "      <td>3541000.0</td>\n",
              "      <td>2196.19459</td>\n",
              "      <td>0.0260</td>\n",
              "    </tr>\n",
              "    <tr>\n",
              "      <th>922721</th>\n",
              "      <td>2020-09-12</td>\n",
              "      <td>SP</td>\n",
              "      <td>Praia Grande</td>\n",
              "      <td>city</td>\n",
              "      <td>7263</td>\n",
              "      <td>189</td>\n",
              "      <td>163</td>\n",
              "      <td>False</td>\n",
              "      <td>325073.0</td>\n",
              "      <td>330845.0</td>\n",
              "      <td>3541000.0</td>\n",
              "      <td>2195.28782</td>\n",
              "      <td>0.0260</td>\n",
              "    </tr>\n",
              "    <tr>\n",
              "      <th>922722</th>\n",
              "      <td>2020-09-11</td>\n",
              "      <td>SP</td>\n",
              "      <td>Praia Grande</td>\n",
              "      <td>city</td>\n",
              "      <td>7189</td>\n",
              "      <td>188</td>\n",
              "      <td>162</td>\n",
              "      <td>False</td>\n",
              "      <td>325073.0</td>\n",
              "      <td>330845.0</td>\n",
              "      <td>35410.0</td>\n",
              "      <td>NaN</td>\n",
              "      <td>NaN</td>\n",
              "    </tr>\n",
              "  </tbody>\n",
              "</table>\n",
              "</div>"
            ],
            "text/plain": [
              "              date state  ... confirmed_per_100k_inhabitants death_rate\n",
              "922718  2020-09-15    SP  ...                     2215.53900     0.0258\n",
              "922719  2020-09-14    SP  ...                     2197.10136     0.0260\n",
              "922720  2020-09-13    SP  ...                     2196.19459     0.0260\n",
              "922721  2020-09-12    SP  ...                     2195.28782     0.0260\n",
              "922722  2020-09-11    SP  ...                            NaN        NaN\n",
              "\n",
              "[5 rows x 13 columns]"
            ]
          },
          "metadata": {
            "tags": []
          },
          "execution_count": 16
        }
      ]
    },
    {
      "cell_type": "code",
      "metadata": {
        "id": "bpcPvN9kH6eK",
        "outputId": "be41feec-a6d4-4285-fab5-e04c10790e5d",
        "colab": {
          "base_uri": "https://localhost:8080/"
        }
      },
      "source": [
        "df.isnull().sum()"
      ],
      "execution_count": null,
      "outputs": [
        {
          "output_type": "execute_result",
          "data": {
            "text/plain": [
              "date                                  0\n",
              "state                                 0\n",
              "city                               6488\n",
              "place_type                            0\n",
              "confirmed                             0\n",
              "deaths                                0\n",
              "order_for_place                       0\n",
              "is_last                               0\n",
              "estimated_population_2019          3725\n",
              "estimated_population               3725\n",
              "city_ibge_code                     3725\n",
              "confirmed_per_100k_inhabitants    16985\n",
              "death_rate                            1\n",
              "dtype: int64"
            ]
          },
          "metadata": {
            "tags": []
          },
          "execution_count": 17
        }
      ]
    },
    {
      "cell_type": "code",
      "metadata": {
        "id": "H1cyVKLCIazt",
        "outputId": "9f4931f1-e3f0-4a7a-9021-85030708c3c8",
        "colab": {
          "base_uri": "https://localhost:8080/"
        }
      },
      "source": [
        "df.shape"
      ],
      "execution_count": null,
      "outputs": [
        {
          "output_type": "execute_result",
          "data": {
            "text/plain": [
              "(922723, 13)"
            ]
          },
          "metadata": {
            "tags": []
          },
          "execution_count": 18
        }
      ]
    },
    {
      "cell_type": "code",
      "metadata": {
        "id": "ndXPB2y7KwNQ",
        "outputId": "8e36e318-4dbc-4dbc-93bf-c324df29a24a",
        "colab": {
          "base_uri": "https://localhost:8080/"
        }
      },
      "source": [
        "df.state.unique()"
      ],
      "execution_count": null,
      "outputs": [
        {
          "output_type": "execute_result",
          "data": {
            "text/plain": [
              "array(['AP', 'AC', 'DF', 'CE', 'ES', 'BA', 'MS', 'MA', 'GO', 'MT', 'PA',\n",
              "       'PB', 'MG', 'AL', 'PE', 'PI', 'PR', 'RO', 'AM', 'RJ', 'RN', 'RR',\n",
              "       'SE', 'SC', 'TO', 'RS', 'SP'], dtype=object)"
            ]
          },
          "metadata": {
            "tags": []
          },
          "execution_count": 19
        }
      ]
    },
    {
      "cell_type": "markdown",
      "metadata": {
        "id": "vqrjjDqI39Ps"
      },
      "source": [
        "### **Obtendo as Informações a partir dos Dados**"
      ]
    },
    {
      "cell_type": "markdown",
      "metadata": {
        "id": "ryL5KQPi4JmS"
      },
      "source": [
        "## **Conclusão**"
      ]
    },
    {
      "cell_type": "markdown",
      "metadata": {
        "id": "voPvWfbG7XMd"
      },
      "source": [
        "## **Referências**\n",
        "* **[MinisteriodaSaude]** Sobre a Doença. Ministério da Saúde. Disponível em: <https://coronavirus.saude.gov.br/sobre-a-doenca>. Acesso em: 12 nov. 2020.\n",
        "* **[WikipediaCOVID-19]** Pandemia de COVID-19. Wikipedia. Disponível em: <https://pt.wikipedia.org/wiki/Pandemia_de_COVID-19>. Acesso em: 13 nov. 2020.\n",
        "* **[WikipediaSARS-CoV]** SARS-CoV. Wikipedia. Disponível em: <https://pt.wikipedia.org/wiki/SARS-CoV>. Acesso em: 13 nov. 2020.\n",
        "* **[Sanar]** Linha do tempo do Coronavírus no Brasil. Sanar. Disponível em: <https://www.sanarmed.com/linha-do-tempo-do-coronavirus-no-brasil>. Acesso em: 13 nov. 2020.\n",
        "* **[Lemos2020]** Vinícius Lemos. Coronavírus: por que primeira pessoa infectada no Brasil pode nunca ser descoberta. BBC News Brasil. Disponível em: <https://www.bbc.com/portuguese/brasil-52334034>. Acesso em: 13 nov. 2020.\n",
        "* **[SUSAnalitico]** COVID-19 no Brasil. SUSAnalítico. Ministério da Saúde. Disponível em: <https://susanalitico.saude.gov.br/extensions/covid-19_html/covid-19_html.html>. Acesso em: 13 nov. 2020.\n",
        "* **[OPASBrasil]** OMS afirma que COVID-19 é agora caracterizada como pandemia. Organização Pan-Americana de Saúde (OPAS Brasil). Disponível em: <https://www.paho.org/bra/index.php?option=com_content&view=article&id=6120:oms-afirma-que-covid-19-e-agora-caracterizada-como-pandemia&Itemid=812>. Acesso em: 13 nov. 2020.\n",
        "* Bootcamp Data Science Aplicada. Bootcamps Alura. Disponível em: <https://www.alura.com.br/bootcamp/data-science-aplicada/matriculas-abertas>. Acesso em: 01 nov. 2020.\n",
        "* GeoJSON vs JSON. Stackshare. Digital Ocean. Disponível em: <https://stackshare.io/stackups/geojson-vs-json>. Acesso em: 14 nov. 2020.\n",
        "* JSON vs GJSON. Github do EarthCube CHORDS. Disponível em: <https://github.com/earthcubeprojects-chords/chords/wiki/JSON-vs-GeoJSON>. Acesso em: 14 nov. 2020.\n"
      ]
    },
    {
      "cell_type": "code",
      "metadata": {
        "id": "pnGHJCA74lgj"
      },
      "source": [
        ""
      ],
      "execution_count": null,
      "outputs": []
    }
  ]
}