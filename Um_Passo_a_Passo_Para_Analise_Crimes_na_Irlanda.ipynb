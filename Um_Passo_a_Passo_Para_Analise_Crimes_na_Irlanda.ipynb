{
  "nbformat": 4,
  "nbformat_minor": 0,
  "metadata": {
    "colab": {
      "name": "Um_Passo_a_Passo_Para_Analise_Crimes_na_Irlanda.ipynb",
      "provenance": [],
      "collapsed_sections": [],
      "toc_visible": true,
      "authorship_tag": "ABX9TyO0Ssb+OQ0BAf+/LTQjw+50",
      "include_colab_link": true
    },
    "kernelspec": {
      "name": "python3",
      "display_name": "Python 3"
    }
  },
  "cells": [
    {
      "cell_type": "markdown",
      "metadata": {
        "id": "view-in-github",
        "colab_type": "text"
      },
      "source": [
        "<a href=\"https://colab.research.google.com/github/gustavopierre/data_science_portfolio/blob/master/Um_Passo_a_Passo_Para_Analise_Crimes_na_Irlanda.ipynb\" target=\"_parent\"><img src=\"https://colab.research.google.com/assets/colab-badge.svg\" alt=\"Open In Colab\"/></a>"
      ]
    },
    {
      "cell_type": "markdown",
      "metadata": {
        "id": "DKvZ0xgYQRfw",
        "colab_type": "text"
      },
      "source": [
        "![Garda Síochána](https://github.com/gustavopierre/data_science_portfolio/blob/master/garda_hq.jpg?raw=true)"
      ]
    },
    {
      "cell_type": "markdown",
      "metadata": {
        "id": "pPoFfWLeehc-",
        "colab_type": "text"
      },
      "source": [
        "# Um Passo a Passo para Análise dos Crimes na Irlanda\n",
        "-----\n",
        "## Introdução\n",
        "A República da Irlanda é um estado soberano da Europa, cuja capital é Dublin. Considerado um país desenvolvido, tem o terceiro Índice de Desenvolvimento Humano (IDH) do mundo e ótimas classificações em índices que medem o grau de democracia e liberdades como a de imprensa, econômica e política. <br>\n",
        "No entanto, a Irlanda já foi um dos países mais pobres da Europa. Apresentou uma rápida expansão da economia a partir do final da década de 80, principalmente de 1995 a 2007. A partir de 2008 sofreu uma crise financeira sem precedentes. No entanto, a economia irlandesa voltou a crescer a partir de 2012 e, em 2017, cresceu três vezes mais que qualquer outro país europeu.<br>\n",
        "Este projeto tem como tema apresentar um passo a passo bara a busca de informações relativas aos crimes ocorridos na Irlanda com base em dados obtidos na internet. <br>\n",
        "O policiamento na Irlanda é provido pela *Garda Síochána* (Guarda da Paz), que é a força policial civil da República da Irlanda, com atribuições de polícia judiciária e polícia preventiva uniformizada. Tem a sua Central de Polícia localizada em Dublin, em Phoenix Park. Sua atuação operacional divide o país em quatro regiões policiais, estas divididas em 28 Divisões. Estas divisões estão em fase de redução para 19 com a fusão de algumas regiões.<br>\n",
        "Como segundo trabalho do Curso de Ciência de Dados, vamos seguir um passo a passo para obter informações sobre os crimes na Irlanda abrangendo as etapas de obtenção dos dados, análise exploratória dos mesmos e exibição das informações relativas à eles."
      ]
    },
    {
      "cell_type": "markdown",
      "metadata": {
        "id": "ldTs7sXLFVha",
        "colab_type": "text"
      },
      "source": [
        "## Obtenção dos Dados\n",
        "### A Busca\n",
        "Tendo a tarefa definida de analisar os crimes na Irlanda, iniciamos a busca pelos dados.Esta é uma parte importante neste processo. Os primeiros sites procurados foram os [Escritório Central de Estatísticas (Central Statistics Office - CSO)](https://www.cso.ie/en/index.html) e [Portal de Dados Abertos da Irlanda](https://data.gov.ie/), ambos possuem uma séries de conjunto de dados sobre diversos temas referentes à Irlanda, inclusive dados de geometria de áreas. Apesar da ênfase nas buscas ter sido nesses dois sites, a busca por outros sites na internet foi realizada, mas nada relevante foi encontrado ou terminava em subdomínios do site do CSO. <br>\n",
        "### Que Dados Escolher?\n",
        "Em virtude da existência de diversos conjuntos de dados de crimes fornecidos pela CSO, foi decidido utilizar o conjunto de dados que fornecesse a melhor combinação de três fatores: detalhamento do tipo de crime, área de atuação da *Garda* e a divisão dos dados no tempo. Desejávamos os dados em que os tipos de crimes estivessem mais especificados. A *Garda* começou a dividir os crimes por tipos na década de 20 e vem evoluindo esta classificação ao longo do tempo. O Sistema Irlandês de Classificação de Crimes (ICCS - Irish Crime Classification System) divide os crimes em 16 tipos mais genéricos e, dentro destes, tipos mais específicos, cada um com seu código específico. Quanto ao fator distribuição geográfica, buscamos a informação que pudesse nos fornecer um dado referente às cidades. Este fator geográfico implicaria também na escolha dos dados geométricos das áreas analisadas para uma possível visualização em um mapa. O terceiro e último fator, era a divisão dos dados no tempo. Quanto mais específico, melhor seria para uma boa análise. <br> \n",
        "Decidimos por usar os dados da *Garda Síochána* dos tipos de crimes mais especificados, divididos por divisões operacionais e por quadrimestre de 2003 até o primeiro quadrimestre de 2020. Para possibilitar a visualização espacial e geograficamente distribuída dos dados, buscamos dados que delimitam estas divisões, que foram encontradas no site do [Censo de 2011](https://www.cso.ie/en/census/census2011boundaryfiles/). \n",
        "Foi obtido um [arquivo de dados de crimes](https://drive.google.com/file/d/1OfEWYZNKKjzNq5gm4V8Z_EUGKDLxd_VQ/view?usp=sharing), no formato de valores separados por vírgula (csv), e um [arquivo compactado com os arquivos necessários para os limites geográficos das referidas divisões operacionais](https://github.com/gustavopierre/data_science_portfolio/blob/master/Census2011_Garda_Divisions_Nov2013.zip?raw=true).\n"
      ]
    },
    {
      "cell_type": "markdown",
      "metadata": {
        "id": "2bTA7fYsqqF8",
        "colab_type": "text"
      },
      "source": [
        "## Configuração do Ambiente\n",
        "Para a carregamento, análise e exploração dos dados, usaremos Python. Para seu uso, serão necessárias as seguintes bibliotecas de funções que serão importadas para o ambiente:\n",
        "\n",
        "* Pandas - uma biblioteca de uso fácil, que permite ao usuário explorar, manipular e visualizar os dados de um modo bastante eficiente.\n",
        "* Numpy - uma biblioteca usada, principalmente, para realizar cálculos em vetores multidimensionais.\n",
        "* Matplotlib - uma biblioteca para visualização de dados.\n",
        "* Seaborn - uma biblioteca de visualização baseada na Matplotlib.\n",
        "* Folium - uma biblioteca que permite vizualização de dados manipulados em Python em um mapa interativo.\n",
        "* Geopandas - é um projeto open source que foi criado para tornar a manipulação de dados geoespaciais no Python uma tarefa mais simples<br>\n",
        "Iniciamos o código instalando o Geopandas que, por padrão, não vem instalado no ambiente Jupyter."
      ]
    },
    {
      "cell_type": "code",
      "metadata": {
        "id": "b_UWSPtrgW0u",
        "colab_type": "code",
        "colab": {
          "base_uri": "https://localhost:8080/",
          "height": 510
        },
        "outputId": "c9e4b09c-d016-44df-eac4-555db7f91fbe"
      },
      "source": [
        "print(\"Installing geopandas...\")\n",
        "\n",
        "# We need to install geopandas and descartes using PIP because they are \n",
        "# not installed on Jupyter by default. \n",
        "\n",
        "!pip install --upgrade geopandas;\n",
        "#!pip install descartes"
      ],
      "execution_count": 1,
      "outputs": [
        {
          "output_type": "stream",
          "text": [
            "Installing geopandas...\n",
            "Collecting geopandas\n",
            "\u001b[?25l  Downloading https://files.pythonhosted.org/packages/f8/dd/c0a6429cc7692efd5c99420c9df525c40f472b50705871a770449027e244/geopandas-0.8.0-py2.py3-none-any.whl (962kB)\n",
            "\u001b[K     |████████████████████████████████| 962kB 3.2MB/s \n",
            "\u001b[?25hCollecting fiona\n",
            "\u001b[?25l  Downloading https://files.pythonhosted.org/packages/ec/20/4e63bc5c6e62df889297b382c3ccd4a7a488b00946aaaf81a118158c6f09/Fiona-1.8.13.post1-cp36-cp36m-manylinux1_x86_64.whl (14.7MB)\n",
            "\u001b[K     |████████████████████████████████| 14.7MB 294kB/s \n",
            "\u001b[?25hCollecting pyproj>=2.2.0\n",
            "\u001b[?25l  Downloading https://files.pythonhosted.org/packages/e5/c3/071e080230ac4b6c64f1a2e2f9161c9737a2bc7b683d2c90b024825000c0/pyproj-2.6.1.post1-cp36-cp36m-manylinux2010_x86_64.whl (10.9MB)\n",
            "\u001b[K     |████████████████████████████████| 10.9MB 21.0MB/s \n",
            "\u001b[?25hRequirement already satisfied, skipping upgrade: shapely in /usr/local/lib/python3.6/dist-packages (from geopandas) (1.7.0)\n",
            "Requirement already satisfied, skipping upgrade: pandas>=0.23.0 in /usr/local/lib/python3.6/dist-packages (from geopandas) (1.0.5)\n",
            "Collecting click-plugins>=1.0\n",
            "  Downloading https://files.pythonhosted.org/packages/e9/da/824b92d9942f4e472702488857914bdd50f73021efea15b4cad9aca8ecef/click_plugins-1.1.1-py2.py3-none-any.whl\n",
            "Collecting cligj>=0.5\n",
            "  Downloading https://files.pythonhosted.org/packages/e4/be/30a58b4b0733850280d01f8bd132591b4668ed5c7046761098d665ac2174/cligj-0.5.0-py3-none-any.whl\n",
            "Requirement already satisfied, skipping upgrade: six>=1.7 in /usr/local/lib/python3.6/dist-packages (from fiona->geopandas) (1.12.0)\n",
            "Requirement already satisfied, skipping upgrade: attrs>=17 in /usr/local/lib/python3.6/dist-packages (from fiona->geopandas) (19.3.0)\n",
            "Collecting munch\n",
            "  Downloading https://files.pythonhosted.org/packages/cc/ab/85d8da5c9a45e072301beb37ad7f833cd344e04c817d97e0cc75681d248f/munch-2.5.0-py2.py3-none-any.whl\n",
            "Requirement already satisfied, skipping upgrade: click<8,>=4.0 in /usr/local/lib/python3.6/dist-packages (from fiona->geopandas) (7.1.2)\n",
            "Requirement already satisfied, skipping upgrade: python-dateutil>=2.6.1 in /usr/local/lib/python3.6/dist-packages (from pandas>=0.23.0->geopandas) (2.8.1)\n",
            "Requirement already satisfied, skipping upgrade: numpy>=1.13.3 in /usr/local/lib/python3.6/dist-packages (from pandas>=0.23.0->geopandas) (1.18.5)\n",
            "Requirement already satisfied, skipping upgrade: pytz>=2017.2 in /usr/local/lib/python3.6/dist-packages (from pandas>=0.23.0->geopandas) (2018.9)\n",
            "Installing collected packages: click-plugins, cligj, munch, fiona, pyproj, geopandas\n",
            "Successfully installed click-plugins-1.1.1 cligj-0.5.0 fiona-1.8.13.post1 geopandas-0.8.0 munch-2.5.0 pyproj-2.6.1.post1\n"
          ],
          "name": "stdout"
        }
      ]
    },
    {
      "cell_type": "code",
      "metadata": {
        "id": "CYmq4-FEV3f7",
        "colab_type": "code",
        "colab": {}
      },
      "source": [
        "import pandas as pd\n",
        "import numpy as np\n",
        "import geopandas as gpd"
      ],
      "execution_count": 2,
      "outputs": []
    },
    {
      "cell_type": "markdown",
      "metadata": {
        "id": "l3qDwbiGWQcM",
        "colab_type": "text"
      },
      "source": [
        "##Explorando os Dados\n",
        "### Arquivo com a Geometria das Divisões\n",
        "Vamos observar o arquivo shapefile, seus campos e fazer um teste de visualização.\n"
      ]
    },
    {
      "cell_type": "code",
      "metadata": {
        "id": "CTDYt4xvYpqs",
        "colab_type": "code",
        "colab": {
          "base_uri": "https://localhost:8080/",
          "height": 365
        },
        "outputId": "df55c0d4-0669-4b65-bbf7-efafa7d67095"
      },
      "source": [
        "shapefile = gpd.read_file('/content/Census2011_Garda_Divisions_Nov2013.shp')\n",
        "shapefile.head(3)"
      ],
      "execution_count": 8,
      "outputs": [
        {
          "output_type": "execute_result",
          "data": {
            "text/html": [
              "<div>\n",
              "<style scoped>\n",
              "    .dataframe tbody tr th:only-of-type {\n",
              "        vertical-align: middle;\n",
              "    }\n",
              "\n",
              "    .dataframe tbody tr th {\n",
              "        vertical-align: top;\n",
              "    }\n",
              "\n",
              "    .dataframe thead th {\n",
              "        text-align: right;\n",
              "    }\n",
              "</style>\n",
              "<table border=\"1\" class=\"dataframe\">\n",
              "  <thead>\n",
              "    <tr style=\"text-align: right;\">\n",
              "      <th></th>\n",
              "      <th>REGION</th>\n",
              "      <th>REG_CODE</th>\n",
              "      <th>DIVISION</th>\n",
              "      <th>DIV_CODE</th>\n",
              "      <th>GEOGID</th>\n",
              "      <th>Male2011</th>\n",
              "      <th>Female2011</th>\n",
              "      <th>Total2011</th>\n",
              "      <th>PPOcc2011</th>\n",
              "      <th>Unocc2011</th>\n",
              "      <th>Vacant2011</th>\n",
              "      <th>HS2011</th>\n",
              "      <th>PCVac2011</th>\n",
              "      <th>CREATEDBY</th>\n",
              "      <th>CREATEDATE</th>\n",
              "      <th>geometry</th>\n",
              "    </tr>\n",
              "  </thead>\n",
              "  <tbody>\n",
              "    <tr>\n",
              "      <th>0</th>\n",
              "      <td>Western Region</td>\n",
              "      <td>02</td>\n",
              "      <td>Galway</td>\n",
              "      <td>0223</td>\n",
              "      <td>K0223</td>\n",
              "      <td>124859.0</td>\n",
              "      <td>125986.0</td>\n",
              "      <td>250845.0</td>\n",
              "      <td>89385.0</td>\n",
              "      <td>21911.0</td>\n",
              "      <td>18823.0</td>\n",
              "      <td>111296.0</td>\n",
              "      <td>16.9</td>\n",
              "      <td>Paul Creaner</td>\n",
              "      <td>30-11-2013</td>\n",
              "      <td>POLYGON ((202234.404 219542.771, 202195.208 21...</td>\n",
              "    </tr>\n",
              "    <tr>\n",
              "      <th>1</th>\n",
              "      <td>Dublin Metropolitan Region</td>\n",
              "      <td>06</td>\n",
              "      <td>DMR East</td>\n",
              "      <td>0605</td>\n",
              "      <td>K0605</td>\n",
              "      <td>91205.0</td>\n",
              "      <td>99513.0</td>\n",
              "      <td>190718.0</td>\n",
              "      <td>70764.0</td>\n",
              "      <td>8933.0</td>\n",
              "      <td>6229.0</td>\n",
              "      <td>79697.0</td>\n",
              "      <td>7.8</td>\n",
              "      <td>Paul Creaner</td>\n",
              "      <td>30-11-2013</td>\n",
              "      <td>POLYGON ((320587.313 230164.757, 320666.241 23...</td>\n",
              "    </tr>\n",
              "    <tr>\n",
              "      <th>2</th>\n",
              "      <td>Dublin Metropolitan Region</td>\n",
              "      <td>06</td>\n",
              "      <td>DMR North</td>\n",
              "      <td>0607</td>\n",
              "      <td>K0607</td>\n",
              "      <td>160449.0</td>\n",
              "      <td>171156.0</td>\n",
              "      <td>331605.0</td>\n",
              "      <td>119210.0</td>\n",
              "      <td>12896.0</td>\n",
              "      <td>9651.0</td>\n",
              "      <td>132106.0</td>\n",
              "      <td>7.3</td>\n",
              "      <td>Paul Creaner</td>\n",
              "      <td>30-11-2013</td>\n",
              "      <td>POLYGON ((316466.866 266374.324, 316474.719 26...</td>\n",
              "    </tr>\n",
              "  </tbody>\n",
              "</table>\n",
              "</div>"
            ],
            "text/plain": [
              "                       REGION  ...                                           geometry\n",
              "0              Western Region  ...  POLYGON ((202234.404 219542.771, 202195.208 21...\n",
              "1  Dublin Metropolitan Region  ...  POLYGON ((320587.313 230164.757, 320666.241 23...\n",
              "2  Dublin Metropolitan Region  ...  POLYGON ((316466.866 266374.324, 316474.719 26...\n",
              "\n",
              "[3 rows x 16 columns]"
            ]
          },
          "metadata": {
            "tags": []
          },
          "execution_count": 8
        }
      ]
    },
    {
      "cell_type": "code",
      "metadata": {
        "id": "jitvl18CEaF_",
        "colab_type": "code",
        "colab": {
          "base_uri": "https://localhost:8080/",
          "height": 483
        },
        "outputId": "c3314260-5e57-4b81-aaf2-b24bdf71a0cf"
      },
      "source": [
        "shapefile.plot(column='Male2011', figsize=(16,8));"
      ],
      "execution_count": 9,
      "outputs": [
        {
          "output_type": "display_data",
          "data": {
            "image/png": "[encoded data removed]",
            "text/plain": [
              "<Figure size 1152x576 with 1 Axes>"
            ]
          },
          "metadata": {
            "tags": [],
            "needs_background": "light"
          }
        }
      ]
    },
    {
      "cell_type": "code",
      "metadata": {
        "id": "t_Y8onxRQQMi",
        "colab_type": "code",
        "colab": {
          "base_uri": "https://localhost:8080/",
          "height": 435
        },
        "outputId": "2390cb75-5a83-4997-a0fd-10bcc71c2f61"
      },
      "source": [
        "shapefile.info()"
      ],
      "execution_count": 10,
      "outputs": [
        {
          "output_type": "stream",
          "text": [
            "<class 'geopandas.geodataframe.GeoDataFrame'>\n",
            "RangeIndex: 28 entries, 0 to 27\n",
            "Data columns (total 16 columns):\n",
            " #   Column      Non-Null Count  Dtype   \n",
            "---  ------      --------------  -----   \n",
            " 0   REGION      28 non-null     object  \n",
            " 1   REG_CODE    28 non-null     object  \n",
            " 2   DIVISION    28 non-null     object  \n",
            " 3   DIV_CODE    28 non-null     object  \n",
            " 4   GEOGID      28 non-null     object  \n",
            " 5   Male2011    28 non-null     float64 \n",
            " 6   Female2011  28 non-null     float64 \n",
            " 7   Total2011   28 non-null     float64 \n",
            " 8   PPOcc2011   28 non-null     float64 \n",
            " 9   Unocc2011   28 non-null     float64 \n",
            " 10  Vacant2011  28 non-null     float64 \n",
            " 11  HS2011      28 non-null     float64 \n",
            " 12  PCVac2011   28 non-null     float64 \n",
            " 13  CREATEDBY   28 non-null     object  \n",
            " 14  CREATEDATE  28 non-null     object  \n",
            " 15  geometry    28 non-null     geometry\n",
            "dtypes: float64(8), geometry(1), object(7)\n",
            "memory usage: 3.6+ KB\n"
          ],
          "name": "stdout"
        }
      ]
    },
    {
      "cell_type": "markdown",
      "metadata": {
        "id": "fU8omn-7QMgp",
        "colab_type": "text"
      },
      "source": [
        "Podemos observar que existem 28 registros, um para cada divisão. Não existem valores nulos e temos 16 colunas. Cada coluna refere-se à:\n",
        "* REGION - nome da região operativa da *Garda* a que pertence aquela divisão;\n",
        "* REG_COD - código da Região;\n",
        "* DIVISION - nome da divisão da *Garda*;\n",
        "* DIV_CODE - código da divisão;\n",
        "* GEOGID - identificador da geografia;\n",
        "* Male2011, Female2011, Total2011 - respectivamente as quantidades de homens, mulheres e população de cada área da divisão;\n",
        "* PPOcc2011 - domicílios particulares permanentes;\n",
        "* Unocc2011 - o total de habitações desocupadas no Censo;\n",
        "* Vacant2011 - total de habitações vagas;\n",
        "* HS2011 - total de habitações;\n",
        "* PCVac2011 - taxa de desocupação.\n",
        "* geometry - a geometria da divisão.<br>\n",
        "Os dados oriundos do censo de 2011 não serão usados neste projeto. Portanto, nós apagaremos essas colunas."
      ]
    },
    {
      "cell_type": "code",
      "metadata": {
        "id": "QxllvCj_9HyR",
        "colab_type": "code",
        "colab": {
          "base_uri": "https://localhost:8080/",
          "height": 138
        },
        "outputId": "afc7eb40-b03a-4706-801b-0bf04c52601d"
      },
      "source": [
        "shapefile = shapefile.drop(columns=['Male2011','Female2011','Female2011', 'Total2011','PPOcc2011', 'Unocc2011', 'Vacant2011', 'HS2011','PCVac2011'])\n",
        "shapefile.head(3)"
      ],
      "execution_count": 11,
      "outputs": [
        {
          "output_type": "execute_result",
          "data": {
            "text/html": [
              "<div>\n",
              "<style scoped>\n",
              "    .dataframe tbody tr th:only-of-type {\n",
              "        vertical-align: middle;\n",
              "    }\n",
              "\n",
              "    .dataframe tbody tr th {\n",
              "        vertical-align: top;\n",
              "    }\n",
              "\n",
              "    .dataframe thead th {\n",
              "        text-align: right;\n",
              "    }\n",
              "</style>\n",
              "<table border=\"1\" class=\"dataframe\">\n",
              "  <thead>\n",
              "    <tr style=\"text-align: right;\">\n",
              "      <th></th>\n",
              "      <th>REGION</th>\n",
              "      <th>REG_CODE</th>\n",
              "      <th>DIVISION</th>\n",
              "      <th>DIV_CODE</th>\n",
              "      <th>GEOGID</th>\n",
              "      <th>CREATEDBY</th>\n",
              "      <th>CREATEDATE</th>\n",
              "      <th>geometry</th>\n",
              "    </tr>\n",
              "  </thead>\n",
              "  <tbody>\n",
              "    <tr>\n",
              "      <th>0</th>\n",
              "      <td>Western Region</td>\n",
              "      <td>02</td>\n",
              "      <td>Galway</td>\n",
              "      <td>0223</td>\n",
              "      <td>K0223</td>\n",
              "      <td>Paul Creaner</td>\n",
              "      <td>30-11-2013</td>\n",
              "      <td>POLYGON ((202234.404 219542.771, 202195.208 21...</td>\n",
              "    </tr>\n",
              "    <tr>\n",
              "      <th>1</th>\n",
              "      <td>Dublin Metropolitan Region</td>\n",
              "      <td>06</td>\n",
              "      <td>DMR East</td>\n",
              "      <td>0605</td>\n",
              "      <td>K0605</td>\n",
              "      <td>Paul Creaner</td>\n",
              "      <td>30-11-2013</td>\n",
              "      <td>POLYGON ((320587.313 230164.757, 320666.241 23...</td>\n",
              "    </tr>\n",
              "    <tr>\n",
              "      <th>2</th>\n",
              "      <td>Dublin Metropolitan Region</td>\n",
              "      <td>06</td>\n",
              "      <td>DMR North</td>\n",
              "      <td>0607</td>\n",
              "      <td>K0607</td>\n",
              "      <td>Paul Creaner</td>\n",
              "      <td>30-11-2013</td>\n",
              "      <td>POLYGON ((316466.866 266374.324, 316474.719 26...</td>\n",
              "    </tr>\n",
              "  </tbody>\n",
              "</table>\n",
              "</div>"
            ],
            "text/plain": [
              "                       REGION  ...                                           geometry\n",
              "0              Western Region  ...  POLYGON ((202234.404 219542.771, 202195.208 21...\n",
              "1  Dublin Metropolitan Region  ...  POLYGON ((320587.313 230164.757, 320666.241 23...\n",
              "2  Dublin Metropolitan Region  ...  POLYGON ((316466.866 266374.324, 316474.719 26...\n",
              "\n",
              "[3 rows x 8 columns]"
            ]
          },
          "metadata": {
            "tags": []
          },
          "execution_count": 11
        }
      ]
    },
    {
      "cell_type": "markdown",
      "metadata": {
        "id": "p1Lau3sDYnyy",
        "colab_type": "text"
      },
      "source": [
        "### Arquivo dos Dados de Crimes\n",
        "Abrindo o arquivo em uma planilha ou editor de texto, podemos observar que as três primeira linhas são desnecessárias, então as descartaremos na leitura do arquivo."
      ]
    },
    {
      "cell_type": "markdown",
      "metadata": {
        "colab_type": "text",
        "id": "74ea6nzLbVhs"
      },
      "source": [
        "![texto alternativo](https://github.com/gustavopierre/data_science_portfolio/blob/master/crimes_ireland_csv.gif?raw=true)"
      ]
    },
    {
      "cell_type": "code",
      "metadata": {
        "id": "bvI3u-5uZdFp",
        "colab_type": "code",
        "colab": {
          "base_uri": "https://localhost:8080/",
          "height": 443
        },
        "outputId": "86f6d6f4-192f-4f65-a9da-a00284d836cb"
      },
      "source": [
        "# lendo o arquivo de crimes a partir da quarta linha\n",
        "df = pd.read_csv('/content/crimes_irlanda.csv', skiprows=3)\n",
        "# exibindo os valores das primeiras cinco linhas do DataFrame\n",
        "df.head()"
      ],
      "execution_count": 12,
      "outputs": [
        {
          "output_type": "execute_result",
          "data": {
            "text/html": [
              "<div>\n",
              "<style scoped>\n",
              "    .dataframe tbody tr th:only-of-type {\n",
              "        vertical-align: middle;\n",
              "    }\n",
              "\n",
              "    .dataframe tbody tr th {\n",
              "        vertical-align: top;\n",
              "    }\n",
              "\n",
              "    .dataframe thead th {\n",
              "        text-align: right;\n",
              "    }\n",
              "</style>\n",
              "<table border=\"1\" class=\"dataframe\">\n",
              "  <thead>\n",
              "    <tr style=\"text-align: right;\">\n",
              "      <th></th>\n",
              "      <th></th>\n",
              "      <th>.1</th>\n",
              "      <th>01 ,Homicide offences</th>\n",
              "      <th>0111 ,Murder</th>\n",
              "      <th>0112 ,Manslaughter</th>\n",
              "      <th>0113 ,Infanticide</th>\n",
              "      <th>012 ,Dangerous driving leading to death</th>\n",
              "      <th>02 ,Sexual offences</th>\n",
              "      <th>021 ,Rape and sexual assault</th>\n",
              "      <th>022 ,Other sexual offences</th>\n",
              "      <th>03 ,Attempts/threats to murder, assaults, harassments and related offences</th>\n",
              "      <th>0311 ,Murder-attempt</th>\n",
              "      <th>0312 ,Murder-threat</th>\n",
              "      <th>033 ,Harassment and related offences</th>\n",
              "      <th>034 ,Assault causing harm, poisoning</th>\n",
              "      <th>035 ,Other assault</th>\n",
              "      <th>04 ,Dangerous or negligent acts</th>\n",
              "      <th>0411 ,Dangerous driving causing serious bodily harm</th>\n",
              "      <th>0412 ,Driving/in charge of a vehicle while over legal alcohol limit</th>\n",
              "      <th>0413 ,Driving/in charge of a vehicle under the influence of drugs</th>\n",
              "      <th>0421 ,Endangerment with potential for serious harm/death</th>\n",
              "      <th>0422 ,Abandoning a child, child neglect and cruelty</th>\n",
              "      <th>0423 ,Unseaworthy/dangerous use of boat or ship</th>\n",
              "      <th>0424 ,False alarm/interference with aircraft or air transport facilities</th>\n",
              "      <th>0425 ,Endangering traffic offences</th>\n",
              "      <th>05 ,Kidnapping and related offences</th>\n",
              "      <th>0511 ,False imprisonment</th>\n",
              "      <th>0512 ,Abduction of person under 16 years of age</th>\n",
              "      <th>0513 ,Human trafficking offences</th>\n",
              "      <th>06 ,Robbery, extortion and hijacking offences</th>\n",
              "      <th>0611 ,Robbery of an establishment or institution</th>\n",
              "      <th>0612 ,Robbery of cash or goods in transit</th>\n",
              "      <th>0613 ,Robbery from the person</th>\n",
              "      <th>0621 ,Blackmail or extortion</th>\n",
              "      <th>0631 ,Carjacking, hijacking/unlawful seizure of aircraft/vessel</th>\n",
              "      <th>07 ,Burglary and related offences</th>\n",
              "      <th>0711 ,Aggravated burglary</th>\n",
              "      <th>0712 ,Burglary (not aggravated)</th>\n",
              "      <th>0713 ,Possession of an article (with intent to burgle, steal, demand)</th>\n",
              "      <th>08 ,Theft and related offences</th>\n",
              "      <th>081 ,Theft/taking of vehicle and related offences</th>\n",
              "      <th>0821 ,Theft from person</th>\n",
              "      <th>0822 ,Theft from shop</th>\n",
              "      <th>084 ,Other thefts, handling stolen property</th>\n",
              "      <th>09 ,Fraud, deception and related offences</th>\n",
              "      <th>10 ,Controlled drug offences</th>\n",
              "      <th>1011 ,Importation of drugs</th>\n",
              "      <th>1012 ,Cultivation or manufacture of drugs</th>\n",
              "      <th>1021 ,Possession of drugs for sale or supply</th>\n",
              "      <th>1022 ,Possession of drugs for personal use</th>\n",
              "      <th>103 ,Other drug offences</th>\n",
              "      <th>11 ,Weapons and Explosives Offences</th>\n",
              "      <th>111 ,Explosives, chemical weapons offences</th>\n",
              "      <th>1121 ,Discharging a firearm</th>\n",
              "      <th>1122 ,Possession of a firearm</th>\n",
              "      <th>113 ,Offensive weapons offences (n.e.c.)</th>\n",
              "      <th>114 ,Fireworks offences</th>\n",
              "      <th>12 ,Damage to property and to the environment</th>\n",
              "      <th>1211 ,Arson</th>\n",
              "      <th>1212 ,Criminal damage (not arson)</th>\n",
              "      <th>1221 ,Litter offences</th>\n",
              "      <th>13 ,Public order and other social code offences</th>\n",
              "      <th>131 ,Disorderly conduct</th>\n",
              "      <th>132 ,Trespass offences</th>\n",
              "      <th>133 ,Liquor licensing offences</th>\n",
              "      <th>134 ,Prostitution offences</th>\n",
              "      <th>135 ,Regulated betting/money, collection/trading offences</th>\n",
              "      <th>136 ,Social code offences (n.e.c.)</th>\n",
              "      <th>15 ,Offences against government, justice procedures and organisation of crime</th>\n",
              "      <th>151 ,Offences against government and its agents</th>\n",
              "      <th>152 ,Organisation of crime and conspiracy to commit crime</th>\n",
              "      <th>153 ,Perverting the course of justice</th>\n",
              "      <th>157 ,Offences while in custody, breach of court orders</th>\n",
              "    </tr>\n",
              "  </thead>\n",
              "  <tbody>\n",
              "    <tr>\n",
              "      <th>0</th>\n",
              "      <td>2003Q1</td>\n",
              "      <td>NaN</td>\n",
              "      <td>NaN</td>\n",
              "      <td>NaN</td>\n",
              "      <td>NaN</td>\n",
              "      <td>NaN</td>\n",
              "      <td>NaN</td>\n",
              "      <td>NaN</td>\n",
              "      <td>NaN</td>\n",
              "      <td>NaN</td>\n",
              "      <td>NaN</td>\n",
              "      <td>NaN</td>\n",
              "      <td>NaN</td>\n",
              "      <td>NaN</td>\n",
              "      <td>NaN</td>\n",
              "      <td>NaN</td>\n",
              "      <td>NaN</td>\n",
              "      <td>NaN</td>\n",
              "      <td>NaN</td>\n",
              "      <td>NaN</td>\n",
              "      <td>NaN</td>\n",
              "      <td>NaN</td>\n",
              "      <td>NaN</td>\n",
              "      <td>NaN</td>\n",
              "      <td>NaN</td>\n",
              "      <td>NaN</td>\n",
              "      <td>NaN</td>\n",
              "      <td>NaN</td>\n",
              "      <td>NaN</td>\n",
              "      <td>NaN</td>\n",
              "      <td>NaN</td>\n",
              "      <td>NaN</td>\n",
              "      <td>NaN</td>\n",
              "      <td>NaN</td>\n",
              "      <td>NaN</td>\n",
              "      <td>NaN</td>\n",
              "      <td>NaN</td>\n",
              "      <td>NaN</td>\n",
              "      <td>NaN</td>\n",
              "      <td>NaN</td>\n",
              "      <td>NaN</td>\n",
              "      <td>NaN</td>\n",
              "      <td>NaN</td>\n",
              "      <td>NaN</td>\n",
              "      <td>NaN</td>\n",
              "      <td>NaN</td>\n",
              "      <td>NaN</td>\n",
              "      <td>NaN</td>\n",
              "      <td>NaN</td>\n",
              "      <td>NaN</td>\n",
              "      <td>NaN</td>\n",
              "      <td>NaN</td>\n",
              "      <td>NaN</td>\n",
              "      <td>NaN</td>\n",
              "      <td>NaN</td>\n",
              "      <td>NaN</td>\n",
              "      <td>NaN</td>\n",
              "      <td>NaN</td>\n",
              "      <td>NaN</td>\n",
              "      <td>NaN</td>\n",
              "      <td>NaN</td>\n",
              "      <td>NaN</td>\n",
              "      <td>NaN</td>\n",
              "      <td>NaN</td>\n",
              "      <td>NaN</td>\n",
              "      <td>NaN</td>\n",
              "      <td>NaN</td>\n",
              "      <td>NaN</td>\n",
              "      <td>NaN</td>\n",
              "      <td>NaN</td>\n",
              "      <td>NaN</td>\n",
              "      <td>NaN</td>\n",
              "      <td>NaN</td>\n",
              "    </tr>\n",
              "    <tr>\n",
              "      <th>1</th>\n",
              "      <td></td>\n",
              "      <td>11 ,Cavan/Monaghan Garda Division</td>\n",
              "      <td>1.0</td>\n",
              "      <td>0.0</td>\n",
              "      <td>0.0</td>\n",
              "      <td>0.0</td>\n",
              "      <td>1.0</td>\n",
              "      <td>24.0</td>\n",
              "      <td>24.0</td>\n",
              "      <td>0.0</td>\n",
              "      <td>128.0</td>\n",
              "      <td>0.0</td>\n",
              "      <td>0.0</td>\n",
              "      <td>13.0</td>\n",
              "      <td>21.0</td>\n",
              "      <td>94.0</td>\n",
              "      <td>125.0</td>\n",
              "      <td>1.0</td>\n",
              "      <td>119.0</td>\n",
              "      <td>1.0</td>\n",
              "      <td>0.0</td>\n",
              "      <td>2.0</td>\n",
              "      <td>0.0</td>\n",
              "      <td>0.0</td>\n",
              "      <td>2.0</td>\n",
              "      <td>1.0</td>\n",
              "      <td>1.0</td>\n",
              "      <td>0.0</td>\n",
              "      <td>0.0</td>\n",
              "      <td>2.0</td>\n",
              "      <td>1.0</td>\n",
              "      <td>0.0</td>\n",
              "      <td>1.0</td>\n",
              "      <td>0.0</td>\n",
              "      <td>0.0</td>\n",
              "      <td>136.0</td>\n",
              "      <td>0.0</td>\n",
              "      <td>136.0</td>\n",
              "      <td>0.0</td>\n",
              "      <td>248.0</td>\n",
              "      <td>42.0</td>\n",
              "      <td>20.0</td>\n",
              "      <td>45.0</td>\n",
              "      <td>141.0</td>\n",
              "      <td>33.0</td>\n",
              "      <td>26.0</td>\n",
              "      <td>0.0</td>\n",
              "      <td>0.0</td>\n",
              "      <td>11.0</td>\n",
              "      <td>15.0</td>\n",
              "      <td>0.0</td>\n",
              "      <td>6.0</td>\n",
              "      <td>0.0</td>\n",
              "      <td>0.0</td>\n",
              "      <td>1.0</td>\n",
              "      <td>5.0</td>\n",
              "      <td>0.0</td>\n",
              "      <td>145.0</td>\n",
              "      <td>5.0</td>\n",
              "      <td>139.0</td>\n",
              "      <td>1.0</td>\n",
              "      <td>243.0</td>\n",
              "      <td>199.0</td>\n",
              "      <td>6.0</td>\n",
              "      <td>34.0</td>\n",
              "      <td>0.0</td>\n",
              "      <td>0.0</td>\n",
              "      <td>4.0</td>\n",
              "      <td>32.0</td>\n",
              "      <td>1.0</td>\n",
              "      <td>0.0</td>\n",
              "      <td>1.0</td>\n",
              "      <td>30.0</td>\n",
              "    </tr>\n",
              "    <tr>\n",
              "      <th>2</th>\n",
              "      <td></td>\n",
              "      <td>12 ,Donegal Garda Division</td>\n",
              "      <td>1.0</td>\n",
              "      <td>0.0</td>\n",
              "      <td>0.0</td>\n",
              "      <td>0.0</td>\n",
              "      <td>1.0</td>\n",
              "      <td>34.0</td>\n",
              "      <td>33.0</td>\n",
              "      <td>1.0</td>\n",
              "      <td>215.0</td>\n",
              "      <td>0.0</td>\n",
              "      <td>1.0</td>\n",
              "      <td>38.0</td>\n",
              "      <td>49.0</td>\n",
              "      <td>127.0</td>\n",
              "      <td>87.0</td>\n",
              "      <td>0.0</td>\n",
              "      <td>83.0</td>\n",
              "      <td>1.0</td>\n",
              "      <td>0.0</td>\n",
              "      <td>1.0</td>\n",
              "      <td>0.0</td>\n",
              "      <td>0.0</td>\n",
              "      <td>2.0</td>\n",
              "      <td>0.0</td>\n",
              "      <td>0.0</td>\n",
              "      <td>0.0</td>\n",
              "      <td>0.0</td>\n",
              "      <td>6.0</td>\n",
              "      <td>3.0</td>\n",
              "      <td>0.0</td>\n",
              "      <td>3.0</td>\n",
              "      <td>0.0</td>\n",
              "      <td>0.0</td>\n",
              "      <td>112.0</td>\n",
              "      <td>0.0</td>\n",
              "      <td>112.0</td>\n",
              "      <td>0.0</td>\n",
              "      <td>287.0</td>\n",
              "      <td>43.0</td>\n",
              "      <td>16.0</td>\n",
              "      <td>41.0</td>\n",
              "      <td>187.0</td>\n",
              "      <td>19.0</td>\n",
              "      <td>78.0</td>\n",
              "      <td>0.0</td>\n",
              "      <td>1.0</td>\n",
              "      <td>11.0</td>\n",
              "      <td>58.0</td>\n",
              "      <td>8.0</td>\n",
              "      <td>8.0</td>\n",
              "      <td>0.0</td>\n",
              "      <td>2.0</td>\n",
              "      <td>3.0</td>\n",
              "      <td>3.0</td>\n",
              "      <td>0.0</td>\n",
              "      <td>298.0</td>\n",
              "      <td>13.0</td>\n",
              "      <td>285.0</td>\n",
              "      <td>0.0</td>\n",
              "      <td>352.0</td>\n",
              "      <td>287.0</td>\n",
              "      <td>7.0</td>\n",
              "      <td>46.0</td>\n",
              "      <td>0.0</td>\n",
              "      <td>0.0</td>\n",
              "      <td>12.0</td>\n",
              "      <td>19.0</td>\n",
              "      <td>4.0</td>\n",
              "      <td>0.0</td>\n",
              "      <td>4.0</td>\n",
              "      <td>11.0</td>\n",
              "    </tr>\n",
              "    <tr>\n",
              "      <th>3</th>\n",
              "      <td></td>\n",
              "      <td>13 ,Sligo/Leitrim Garda Division</td>\n",
              "      <td>1.0</td>\n",
              "      <td>1.0</td>\n",
              "      <td>0.0</td>\n",
              "      <td>0.0</td>\n",
              "      <td>0.0</td>\n",
              "      <td>15.0</td>\n",
              "      <td>14.0</td>\n",
              "      <td>1.0</td>\n",
              "      <td>68.0</td>\n",
              "      <td>0.0</td>\n",
              "      <td>0.0</td>\n",
              "      <td>9.0</td>\n",
              "      <td>22.0</td>\n",
              "      <td>37.0</td>\n",
              "      <td>52.0</td>\n",
              "      <td>0.0</td>\n",
              "      <td>50.0</td>\n",
              "      <td>0.0</td>\n",
              "      <td>0.0</td>\n",
              "      <td>1.0</td>\n",
              "      <td>0.0</td>\n",
              "      <td>0.0</td>\n",
              "      <td>1.0</td>\n",
              "      <td>0.0</td>\n",
              "      <td>0.0</td>\n",
              "      <td>0.0</td>\n",
              "      <td>0.0</td>\n",
              "      <td>2.0</td>\n",
              "      <td>2.0</td>\n",
              "      <td>0.0</td>\n",
              "      <td>0.0</td>\n",
              "      <td>0.0</td>\n",
              "      <td>0.0</td>\n",
              "      <td>72.0</td>\n",
              "      <td>0.0</td>\n",
              "      <td>72.0</td>\n",
              "      <td>0.0</td>\n",
              "      <td>174.0</td>\n",
              "      <td>30.0</td>\n",
              "      <td>2.0</td>\n",
              "      <td>31.0</td>\n",
              "      <td>111.0</td>\n",
              "      <td>10.0</td>\n",
              "      <td>27.0</td>\n",
              "      <td>0.0</td>\n",
              "      <td>0.0</td>\n",
              "      <td>5.0</td>\n",
              "      <td>21.0</td>\n",
              "      <td>1.0</td>\n",
              "      <td>7.0</td>\n",
              "      <td>0.0</td>\n",
              "      <td>1.0</td>\n",
              "      <td>4.0</td>\n",
              "      <td>2.0</td>\n",
              "      <td>0.0</td>\n",
              "      <td>238.0</td>\n",
              "      <td>10.0</td>\n",
              "      <td>228.0</td>\n",
              "      <td>0.0</td>\n",
              "      <td>120.0</td>\n",
              "      <td>107.0</td>\n",
              "      <td>2.0</td>\n",
              "      <td>10.0</td>\n",
              "      <td>0.0</td>\n",
              "      <td>0.0</td>\n",
              "      <td>1.0</td>\n",
              "      <td>5.0</td>\n",
              "      <td>2.0</td>\n",
              "      <td>0.0</td>\n",
              "      <td>0.0</td>\n",
              "      <td>3.0</td>\n",
              "    </tr>\n",
              "    <tr>\n",
              "      <th>4</th>\n",
              "      <td></td>\n",
              "      <td>14 ,Louth  Garda Division</td>\n",
              "      <td>1.0</td>\n",
              "      <td>0.0</td>\n",
              "      <td>1.0</td>\n",
              "      <td>0.0</td>\n",
              "      <td>0.0</td>\n",
              "      <td>10.0</td>\n",
              "      <td>9.0</td>\n",
              "      <td>1.0</td>\n",
              "      <td>122.0</td>\n",
              "      <td>0.0</td>\n",
              "      <td>0.0</td>\n",
              "      <td>7.0</td>\n",
              "      <td>37.0</td>\n",
              "      <td>78.0</td>\n",
              "      <td>125.0</td>\n",
              "      <td>0.0</td>\n",
              "      <td>124.0</td>\n",
              "      <td>0.0</td>\n",
              "      <td>1.0</td>\n",
              "      <td>0.0</td>\n",
              "      <td>0.0</td>\n",
              "      <td>0.0</td>\n",
              "      <td>0.0</td>\n",
              "      <td>0.0</td>\n",
              "      <td>0.0</td>\n",
              "      <td>0.0</td>\n",
              "      <td>0.0</td>\n",
              "      <td>16.0</td>\n",
              "      <td>2.0</td>\n",
              "      <td>0.0</td>\n",
              "      <td>14.0</td>\n",
              "      <td>0.0</td>\n",
              "      <td>0.0</td>\n",
              "      <td>190.0</td>\n",
              "      <td>1.0</td>\n",
              "      <td>189.0</td>\n",
              "      <td>0.0</td>\n",
              "      <td>483.0</td>\n",
              "      <td>153.0</td>\n",
              "      <td>30.0</td>\n",
              "      <td>86.0</td>\n",
              "      <td>214.0</td>\n",
              "      <td>23.0</td>\n",
              "      <td>29.0</td>\n",
              "      <td>0.0</td>\n",
              "      <td>1.0</td>\n",
              "      <td>9.0</td>\n",
              "      <td>19.0</td>\n",
              "      <td>0.0</td>\n",
              "      <td>10.0</td>\n",
              "      <td>0.0</td>\n",
              "      <td>2.0</td>\n",
              "      <td>3.0</td>\n",
              "      <td>5.0</td>\n",
              "      <td>0.0</td>\n",
              "      <td>305.0</td>\n",
              "      <td>20.0</td>\n",
              "      <td>283.0</td>\n",
              "      <td>2.0</td>\n",
              "      <td>258.0</td>\n",
              "      <td>239.0</td>\n",
              "      <td>5.0</td>\n",
              "      <td>7.0</td>\n",
              "      <td>0.0</td>\n",
              "      <td>1.0</td>\n",
              "      <td>6.0</td>\n",
              "      <td>45.0</td>\n",
              "      <td>0.0</td>\n",
              "      <td>1.0</td>\n",
              "      <td>2.0</td>\n",
              "      <td>42.0</td>\n",
              "    </tr>\n",
              "  </tbody>\n",
              "</table>\n",
              "</div>"
            ],
            "text/plain": [
              "           ... 157 ,Offences while in custody, breach of court orders\n",
              "0  2003Q1  ...                                                NaN    \n",
              "1          ...                                               30.0    \n",
              "2          ...                                               11.0    \n",
              "3          ...                                                3.0    \n",
              "4          ...                                               42.0    \n",
              "\n",
              "[5 rows x 73 columns]"
            ]
          },
          "metadata": {
            "tags": []
          },
          "execution_count": 12
        }
      ]
    },
    {
      "cell_type": "markdown",
      "metadata": {
        "id": "pz_7To0EJdXw",
        "colab_type": "text"
      },
      "source": [
        "O cabeçalho do conjunto de dados tem alguns problemas, precisaremos redefinir os nomes dos campos. Podemos observar que o ano e quadrimestre estão num mesmo campo e só aparece numa primeira linha antes de todos os dados de cada área. Os demais campos do registro em que aparece o ano e oquadrimestre são nulos. Os nomes das divisões não estão conforme estão no arquivo de geometria verificado anteriormente.Vamos verificar melhor os cabeçalhos e verificar também se tem mais registros com campos nulos."
      ]
    },
    {
      "cell_type": "code",
      "metadata": {
        "id": "afJJvp4YaEj7",
        "colab_type": "code",
        "colab": {
          "base_uri": "https://localhost:8080/",
          "height": 1000
        },
        "outputId": "50dad1e1-f9ff-432a-93e6-ee28074c36f4"
      },
      "source": [
        "# verificando os nomes dos campos e suas informações, inclusive se tem valores nulos\n",
        "df.info()"
      ],
      "execution_count": 15,
      "outputs": [
        {
          "output_type": "stream",
          "text": [
            "<class 'pandas.core.frame.DataFrame'>\n",
            "RangeIndex: 2001 entries, 0 to 2000\n",
            "Data columns (total 73 columns):\n",
            " #   Column                                                                         Non-Null Count  Dtype  \n",
            "---  ------                                                                         --------------  -----  \n",
            " 0                                                                                  2001 non-null   object \n",
            " 1    .1                                                                            1932 non-null   object \n",
            " 2   01 ,Homicide offences                                                          1932 non-null   float64\n",
            " 3   0111 ,Murder                                                                   1932 non-null   float64\n",
            " 4   0112 ,Manslaughter                                                             1932 non-null   float64\n",
            " 5   0113 ,Infanticide                                                              1932 non-null   float64\n",
            " 6   012 ,Dangerous driving leading to death                                        1932 non-null   float64\n",
            " 7   02 ,Sexual offences                                                            1932 non-null   float64\n",
            " 8   021 ,Rape and sexual assault                                                   1932 non-null   float64\n",
            " 9   022 ,Other sexual offences                                                     1932 non-null   float64\n",
            " 10  03 ,Attempts/threats to murder, assaults, harassments and related offences     1932 non-null   float64\n",
            " 11  0311 ,Murder-attempt                                                           1932 non-null   float64\n",
            " 12  0312 ,Murder-threat                                                            1932 non-null   float64\n",
            " 13  033 ,Harassment and related offences                                           1932 non-null   float64\n",
            " 14  034 ,Assault causing harm, poisoning                                           1932 non-null   float64\n",
            " 15  035 ,Other assault                                                             1932 non-null   float64\n",
            " 16  04 ,Dangerous or negligent acts                                                1932 non-null   float64\n",
            " 17  0411 ,Dangerous driving causing serious bodily harm                            1932 non-null   float64\n",
            " 18  0412 ,Driving/in charge of a vehicle while over legal alcohol limit            1932 non-null   float64\n",
            " 19  0413 ,Driving/in charge of a vehicle under the influence of drugs              1932 non-null   float64\n",
            " 20  0421 ,Endangerment with potential for serious harm/death                       1932 non-null   float64\n",
            " 21  0422 ,Abandoning a child, child neglect and cruelty                            1932 non-null   float64\n",
            " 22  0423 ,Unseaworthy/dangerous use of boat or ship                                1932 non-null   float64\n",
            " 23  0424 ,False alarm/interference with aircraft or air transport facilities       1932 non-null   float64\n",
            " 24  0425 ,Endangering traffic offences                                             1932 non-null   float64\n",
            " 25  05 ,Kidnapping and related offences                                            1932 non-null   float64\n",
            " 26  0511 ,False imprisonment                                                       1932 non-null   float64\n",
            " 27  0512 ,Abduction of person under 16 years of age                                1932 non-null   float64\n",
            " 28  0513 ,Human trafficking offences                                               1932 non-null   float64\n",
            " 29  06 ,Robbery, extortion and hijacking offences                                  1932 non-null   float64\n",
            " 30  0611 ,Robbery of an establishment or institution                               1932 non-null   float64\n",
            " 31  0612 ,Robbery of cash or goods in transit                                      1932 non-null   float64\n",
            " 32  0613 ,Robbery from the person                                                  1932 non-null   float64\n",
            " 33  0621 ,Blackmail or extortion                                                   1932 non-null   float64\n",
            " 34  0631 ,Carjacking, hijacking/unlawful seizure of aircraft/vessel                1932 non-null   float64\n",
            " 35  07 ,Burglary and related offences                                              1932 non-null   float64\n",
            " 36  0711 ,Aggravated burglary                                                      1932 non-null   float64\n",
            " 37  0712 ,Burglary (not aggravated)                                                1932 non-null   float64\n",
            " 38  0713 ,Possession of an article (with intent to burgle, steal, demand)          1932 non-null   float64\n",
            " 39  08 ,Theft and related offences                                                 1932 non-null   float64\n",
            " 40  081 ,Theft/taking of vehicle and related offences                              1932 non-null   float64\n",
            " 41  0821 ,Theft from person                                                        1932 non-null   float64\n",
            " 42  0822 ,Theft from shop                                                          1932 non-null   float64\n",
            " 43  084 ,Other thefts, handling stolen property                                    1932 non-null   float64\n",
            " 44  09 ,Fraud, deception and related offences                                      1932 non-null   float64\n",
            " 45  10 ,Controlled drug offences                                                   1932 non-null   float64\n",
            " 46  1011 ,Importation of drugs                                                     1932 non-null   float64\n",
            " 47  1012 ,Cultivation or manufacture of drugs                                      1932 non-null   float64\n",
            " 48  1021 ,Possession of drugs for sale or supply                                   1932 non-null   float64\n",
            " 49  1022 ,Possession of drugs for personal use                                     1932 non-null   float64\n",
            " 50  103 ,Other drug offences                                                       1932 non-null   float64\n",
            " 51  11 ,Weapons and Explosives Offences                                            1932 non-null   float64\n",
            " 52  111 ,Explosives, chemical weapons offences                                     1932 non-null   float64\n",
            " 53  1121 ,Discharging a firearm                                                    1932 non-null   float64\n",
            " 54  1122 ,Possession of a firearm                                                  1932 non-null   float64\n",
            " 55  113 ,Offensive weapons offences (n.e.c.)                                       1932 non-null   float64\n",
            " 56  114 ,Fireworks offences                                                        1932 non-null   float64\n",
            " 57  12 ,Damage to property and to the environment                                  1932 non-null   float64\n",
            " 58  1211 ,Arson                                                                    1932 non-null   float64\n",
            " 59  1212 ,Criminal damage (not arson)                                              1932 non-null   float64\n",
            " 60  1221 ,Litter offences                                                          1932 non-null   float64\n",
            " 61  13 ,Public order and other social code offences                                1932 non-null   float64\n",
            " 62  131 ,Disorderly conduct                                                        1932 non-null   float64\n",
            " 63  132 ,Trespass offences                                                         1932 non-null   float64\n",
            " 64  133 ,Liquor licensing offences                                                 1932 non-null   float64\n",
            " 65  134 ,Prostitution offences                                                     1932 non-null   float64\n",
            " 66  135 ,Regulated betting/money, collection/trading offences                      1932 non-null   float64\n",
            " 67  136 ,Social code offences (n.e.c.)                                             1932 non-null   float64\n",
            " 68  15 ,Offences against government, justice procedures and organisation of crime  1932 non-null   float64\n",
            " 69  151 ,Offences against government and its agents                                1932 non-null   float64\n",
            " 70  152 ,Organisation of crime and conspiracy to commit crime                      1932 non-null   float64\n",
            " 71  153 ,Perverting the course of justice                                          1932 non-null   float64\n",
            " 72  157 ,Offences while in custody, breach of court orders                         1932 non-null   float64\n",
            "dtypes: float64(71), object(2)\n",
            "memory usage: 1.1+ MB\n"
          ],
          "name": "stdout"
        }
      ]
    },
    {
      "cell_type": "markdown",
      "metadata": {
        "id": "qNe2sEIcM1Kj",
        "colab_type": "text"
      },
      "source": [
        "O que precisamos fazer com esses dados:\n",
        "* corrigir os cabeçalhos - colocar o nome do campo quadrimestre, o nome do campo divisião e corrigir os nomes dos demais campos de, por exemplo, **\"11 ,Weapons and Explosives Offences\"** para **\"11_weapons_and_explosives_offences\"**;\n",
        "* preencher os campos dos quadrimestres que estão vazios;\n",
        "* dividir a coluna quadrimestre, após prenchida, em duas, um com o ano e outra como o quadrimestre;\n",
        "* apagar as linhas que estão somente com o quadrimestre preenchido e os demais valores nulos;\n",
        "* alterar os nomes das divisões para ficarem coerentes com os dados de geometria, por exemplo: alterar **\"11 ,Cavan/Monaghan Garda Division\"** para **\"Cavan/Monaghan\"*;\n",
        "* incluir o código da divisão no conjunto de dados;\n",
        "* juntar os dados de crimes com os dados de geometria."
      ]
    },
    {
      "cell_type": "markdown",
      "metadata": {
        "id": "G9D1Zc4_RUBB",
        "colab_type": "text"
      },
      "source": [
        "Iniciando as tarefas:\n",
        "* Corrigindo os cabeçalhos."
      ]
    },
    {
      "cell_type": "code",
      "metadata": {
        "id": "BX0JFjqKaGjT",
        "colab_type": "code",
        "colab": {}
      },
      "source": [
        "# criando um novo dataframe\n",
        "new_df = df.copy()\n",
        "\n",
        "# alterando os nomes dos dois primeiros campos\n",
        "new_df.rename(columns={' ': 'quarter', ' .1': 'division'}, inplace=True)\n",
        "\n",
        "# alterando os nomes dos demais campos\n",
        "new_names_column = []\n",
        "for name_column in new_df.columns.values.tolist():\n",
        "    if name_column == ' ':\n",
        "        new_names_column.append('quarter')\n",
        "    elif name_column == ' .1':\n",
        "        new_names_column.append('division')\n",
        "    else:\n",
        "        new_name = name_column.lower().replace(' ,', '_').replace(' ', '_')\n",
        "        new_names_column.append(new_name)\n",
        "\n",
        "new_df.columns=new_names_column\n"
      ],
      "execution_count": 57,
      "outputs": []
    },
    {
      "cell_type": "code",
      "metadata": {
        "id": "iYkvb5wzT_U3",
        "colab_type": "code",
        "colab": {
          "base_uri": "https://localhost:8080/",
          "height": 54
        },
        "outputId": "73c450bf-53a3-484f-89cc-67a7ce2990fe"
      },
      "source": [
        "print(f'Antes:  {df.columns.values.tolist()[:6]} ...')\n",
        "print(f'Depois: {new_df.columns.values.tolist()[:6]} ...')"
      ],
      "execution_count": 58,
      "outputs": [
        {
          "output_type": "stream",
          "text": [
            "Antes:  [' ', ' .1', '01 ,Homicide offences', '0111 ,Murder', '0112 ,Manslaughter', '0113 ,Infanticide'] ...\n",
            "Depois: ['quarter', 'division', '01_homicide_offences', '0111_murder', '0112_manslaughter', '0113_infanticide'] ...\n"
          ],
          "name": "stdout"
        }
      ]
    },
    {
      "cell_type": "markdown",
      "metadata": {
        "id": "q4FNKztrVXbJ",
        "colab_type": "text"
      },
      "source": [
        "* Preenchendo campos de quadrimestres."
      ]
    },
    {
      "cell_type": "code",
      "metadata": {
        "id": "CIDaiF7wbNc0",
        "colab_type": "code",
        "colab": {
          "base_uri": "https://localhost:8080/",
          "height": 72
        },
        "outputId": "dc6b0948-029c-4b92-8757-4520205343b4"
      },
      "source": [
        "# preenchendo os campos de quadrimestres\n",
        "count = count_no_alt = count_alt = 0\n",
        "for index, row in new_df.iterrows():\n",
        "    count += 1\n",
        "    if pd.isnull(row['division']):\n",
        "        count_no_alt += 1\n",
        "        quarter = row['quarter']\n",
        "    else:\n",
        "        count_alt += 1\n",
        "        new_df.loc[index, 'quarter']=quarter\n",
        "        \n",
        "\n",
        "print(f'Alterados:{count_alt}\\nNão alterados:{count_no_alt}\\nTotal:{count}')"
      ],
      "execution_count": 59,
      "outputs": [
        {
          "output_type": "stream",
          "text": [
            "Alterados:1932\n",
            "Não alterados:69\n",
            "Total:2001\n"
          ],
          "name": "stdout"
        }
      ]
    },
    {
      "cell_type": "markdown",
      "metadata": {
        "id": "ZLBUeo5waLVu",
        "colab_type": "text"
      },
      "source": [
        "* Dividindo a coluna quadrimestre."
      ]
    },
    {
      "cell_type": "code",
      "metadata": {
        "id": "Avx-lga-bTRK",
        "colab_type": "code",
        "colab": {
          "base_uri": "https://localhost:8080/",
          "height": 407
        },
        "outputId": "e02c916d-02c5-4515-bd54-cea81c74ea72"
      },
      "source": [
        "new_df['ano']=0\n",
        "\n",
        "for index, row in new_df.iterrows():\n",
        "    quarter = row['quarter']\n",
        "    new_df.loc[index, 'ano'] = quarter[:4]\n",
        "    new_df.loc[index, 'quarter'] = quarter[4:]\n",
        "new_df['ano'].astype(int)\n",
        "new_df[['ano', 'quarter']]"
      ],
      "execution_count": 60,
      "outputs": [
        {
          "output_type": "execute_result",
          "data": {
            "text/html": [
              "<div>\n",
              "<style scoped>\n",
              "    .dataframe tbody tr th:only-of-type {\n",
              "        vertical-align: middle;\n",
              "    }\n",
              "\n",
              "    .dataframe tbody tr th {\n",
              "        vertical-align: top;\n",
              "    }\n",
              "\n",
              "    .dataframe thead th {\n",
              "        text-align: right;\n",
              "    }\n",
              "</style>\n",
              "<table border=\"1\" class=\"dataframe\">\n",
              "  <thead>\n",
              "    <tr style=\"text-align: right;\">\n",
              "      <th></th>\n",
              "      <th>ano</th>\n",
              "      <th>quarter</th>\n",
              "    </tr>\n",
              "  </thead>\n",
              "  <tbody>\n",
              "    <tr>\n",
              "      <th>0</th>\n",
              "      <td>2003</td>\n",
              "      <td>Q1</td>\n",
              "    </tr>\n",
              "    <tr>\n",
              "      <th>1</th>\n",
              "      <td>2003</td>\n",
              "      <td>Q1</td>\n",
              "    </tr>\n",
              "    <tr>\n",
              "      <th>2</th>\n",
              "      <td>2003</td>\n",
              "      <td>Q1</td>\n",
              "    </tr>\n",
              "    <tr>\n",
              "      <th>3</th>\n",
              "      <td>2003</td>\n",
              "      <td>Q1</td>\n",
              "    </tr>\n",
              "    <tr>\n",
              "      <th>4</th>\n",
              "      <td>2003</td>\n",
              "      <td>Q1</td>\n",
              "    </tr>\n",
              "    <tr>\n",
              "      <th>...</th>\n",
              "      <td>...</td>\n",
              "      <td>...</td>\n",
              "    </tr>\n",
              "    <tr>\n",
              "      <th>1996</th>\n",
              "      <td>2020</td>\n",
              "      <td>Q1</td>\n",
              "    </tr>\n",
              "    <tr>\n",
              "      <th>1997</th>\n",
              "      <td>2020</td>\n",
              "      <td>Q1</td>\n",
              "    </tr>\n",
              "    <tr>\n",
              "      <th>1998</th>\n",
              "      <td>2020</td>\n",
              "      <td>Q1</td>\n",
              "    </tr>\n",
              "    <tr>\n",
              "      <th>1999</th>\n",
              "      <td>2020</td>\n",
              "      <td>Q1</td>\n",
              "    </tr>\n",
              "    <tr>\n",
              "      <th>2000</th>\n",
              "      <td>2020</td>\n",
              "      <td>Q1</td>\n",
              "    </tr>\n",
              "  </tbody>\n",
              "</table>\n",
              "<p>2001 rows × 2 columns</p>\n",
              "</div>"
            ],
            "text/plain": [
              "       ano quarter\n",
              "0     2003      Q1\n",
              "1     2003      Q1\n",
              "2     2003      Q1\n",
              "3     2003      Q1\n",
              "4     2003      Q1\n",
              "...    ...     ...\n",
              "1996  2020      Q1\n",
              "1997  2020      Q1\n",
              "1998  2020      Q1\n",
              "1999  2020      Q1\n",
              "2000  2020      Q1\n",
              "\n",
              "[2001 rows x 2 columns]"
            ]
          },
          "metadata": {
            "tags": []
          },
          "execution_count": 60
        }
      ]
    },
    {
      "cell_type": "markdown",
      "metadata": {
        "id": "rFWNFplSbgrs",
        "colab_type": "text"
      },
      "source": [
        "* Apagando as linhas com valores nulos.\n"
      ]
    },
    {
      "cell_type": "code",
      "metadata": {
        "id": "WQQcRxMgboWR",
        "colab_type": "code",
        "colab": {
          "base_uri": "https://localhost:8080/",
          "height": 35
        },
        "outputId": "e79492c7-1751-4027-84e5-63f52856adb8"
      },
      "source": [
        "new_df.dropna().shape[0]"
      ],
      "execution_count": 61,
      "outputs": [
        {
          "output_type": "execute_result",
          "data": {
            "text/plain": [
              "1932"
            ]
          },
          "metadata": {
            "tags": []
          },
          "execution_count": 61
        }
      ]
    },
    {
      "cell_type": "markdown",
      "metadata": {
        "id": "_dAn3VHrbf5Y",
        "colab_type": "text"
      },
      "source": [
        "* Alterando os nomes das divisões.\n"
      ]
    },
    {
      "cell_type": "markdown",
      "metadata": {
        "id": "7aYu0eSbbfTe",
        "colab_type": "text"
      },
      "source": [
        "* incluindo o código da divisão no conjunto de dados."
      ]
    },
    {
      "cell_type": "markdown",
      "metadata": {
        "id": "4B1R1MctcURc",
        "colab_type": "text"
      },
      "source": [
        "* Juntando os dados de crimes com os dados de geometria."
      ]
    },
    {
      "cell_type": "code",
      "metadata": {
        "id": "-cXGUatTbfe_",
        "colab_type": "code",
        "colab": {
          "base_uri": "https://localhost:8080/",
          "height": 34
        },
        "outputId": "457ef5e9-4b18-4829-fda3-0216477c4c6f"
      },
      "source": [
        "new_df.division.isna().sum()"
      ],
      "execution_count": null,
      "outputs": [
        {
          "output_type": "execute_result",
          "data": {
            "text/plain": [
              "69"
            ]
          },
          "metadata": {
            "tags": []
          },
          "execution_count": 36
        }
      ]
    },
    {
      "cell_type": "code",
      "metadata": {
        "id": "5PQqzIJQbi7S",
        "colab_type": "code",
        "colab": {
          "base_uri": "https://localhost:8080/",
          "height": 34
        },
        "outputId": "988e340a-bf74-40eb-ca11-53706ade5462"
      },
      "source": [
        "new_df.division.count()"
      ],
      "execution_count": null,
      "outputs": [
        {
          "output_type": "execute_result",
          "data": {
            "text/plain": [
              "1932"
            ]
          },
          "metadata": {
            "tags": []
          },
          "execution_count": 37
        }
      ]
    },
    {
      "cell_type": "code",
      "metadata": {
        "id": "zKa5DomebkLJ",
        "colab_type": "code",
        "colab": {
          "base_uri": "https://localhost:8080/",
          "height": 34
        },
        "outputId": "5f75c07e-54ad-4822-d8fa-fb954d3f0b26"
      },
      "source": [
        "new_df.shape[0]"
      ],
      "execution_count": null,
      "outputs": [
        {
          "output_type": "execute_result",
          "data": {
            "text/plain": [
              "2001"
            ]
          },
          "metadata": {
            "tags": []
          },
          "execution_count": 38
        }
      ]
    },
    {
      "cell_type": "code",
      "metadata": {
        "id": "_adN1JyvbrgR",
        "colab_type": "code",
        "colab": {}
      },
      "source": [
        ""
      ],
      "execution_count": null,
      "outputs": []
    },
    {
      "cell_type": "markdown",
      "metadata": {
        "id": "hsjIMT-3fT1G",
        "colab_type": "text"
      },
      "source": [
        "## Referências\n",
        "* Irlanda. Wikipedia. Disponível em: <https://pt.wikipedia.org/wiki/Irlanda>. Acesso em: 28 jun. 2020.\n",
        "\n",
        "* Ávany França. A Irlanda já não é mais a mesma.  Disponível em: <https://www.e-dublin.com.br/a-irlanda-ja-nao-e-mais-a-mesma/>. Acesso em: 28 jun. 2020.\n",
        "\n",
        "* Garda Síochána. Wikipedia. Disponível em: <https://en.wikipedia.org/wiki/Garda_S%C3%ADoch%C3%A1na>. Acesso em: 29 jun. 2020.\n",
        "\n",
        "* 2011 Census Boundaries. Central Statistics Office (CSO). Disponível em: <http://census.cso.ie/censusasp/saps/boundaries/ED_SA%20Disclaimer1.htm>. Acesso em: 29 jun. 2020.\n",
        "\n",
        "* Ireland's Open Data Portal. Disponível em: <https://data.gov.ie/>. Acesso em: 29 jun. 2020.\n",
        "\n",
        "* Central Statistics Office (CSO). Disponível em: <https://www.cso.ie/en/>. Acesso em: 29 jun. 2020.\n",
        "\n",
        "* Recorded Crime Offences Under Reservation by Garda Region, Type of Offence and Quarter. Central Statistics Office (CSO). Disponível em: <https://statbank.cso.ie/px/pxeirestat/Statire/SelectVarVal/Define.asp?MainTable=CJQ05&TabStrip=Select&PLanguage=0&FF=1>. Acesso em: 29 jun. 2020.\n",
        "\n",
        "* GIS at UCD and on the Web: Find Spatial Data & Other Datasets for Ireland. UCD Library. Disponível em: <https://libguides.ucd.ie/gisguide/FindSpatialData>. Acesso em: 29 jun. 2020.\n",
        "\n",
        "\n",
        "* Reading Spatial Data. Geopandas Documentation. Disponível em: <https://geopandas.org/io.html?highlight=shapefile>. Acesso em: 29 jun. 2020.\n",
        "\n",
        "* Mobasshir Bhuiyan. Stack Exchange Network. How to read a shapefile in Python?. Disponível em: <https://gis.stackexchange.com/questions/113799/how-to-read-a-shapefile-in-python>. Acesso em: 29 jun. 2020.\n",
        "\n",
        "* Irish Crime Classification System (ICCS). Central Statistcs Office (CSO). Disponível em: <https://www.cso.ie/en/media/csoie/releasespublications/documents/crimejustice/current/crimeclassification.pdf>. Acesso em: 04 jul. 2020.\n",
        "* Census 2011 Boundary Files. Central Statistcs Office (CSO).. Disponível em: <https://www.cso.ie/en/census/census2011boundaryfiles/>. Acesso em: 03 jul. 2020.\n",
        "\n",
        "\n"
      ]
    },
    {
      "cell_type": "markdown",
      "metadata": {
        "id": "-1jclEEDrX_9",
        "colab_type": "text"
      },
      "source": [
        "https://www.datacamp.com/community/tutorials/pandas-read-csv?utm_source=adwords_ppc&utm_campaignid=10267161064&utm_adgroupid=102842301792&utm_device=c&utm_keyword=&utm_matchtype=b&utm_network=g&utm_adpostion=&utm_creative=278443377095&utm_targetid=aud-743261776262:dsa-429603003980&utm_loc_interest_ms=&utm_loc_physical_ms=1001541&gclid=CjwKCAjwrvv3BRAJEiwAhwOdMzOoIb_CZHeran7hsni740l3cWr3xwVBfYk4tgskR8u16kLnfRmjfRoC3xEQAvD_BwE <br>\n",
        "https://www.delftstack.com/pt/howto/python-pandas/how-to-get-pandas-dataframe-column-headers-as-a-list/<br>\n",
        "https://pt.stackoverflow.com/questions/428164/como-alterar-o-nome-da-coluna-do-dataframe-do-pandas <br>\n",
        "https://www.cso.ie/en/census/census2011boundaryfiles/<br>\n",
        "https://colab.research.google.com/github/la-counts/data-adventures/blob/master/Instructable_7_How_to_Analyze_Geographic_Data_in_Shapefiles.ipynb#scrollTo=eIA9aX_q3DQo"
      ]
    },
    {
      "cell_type": "code",
      "metadata": {
        "id": "rGuYjx5kh83V",
        "colab_type": "code",
        "colab": {}
      },
      "source": [
        ""
      ],
      "execution_count": null,
      "outputs": []
    }
  ]
}