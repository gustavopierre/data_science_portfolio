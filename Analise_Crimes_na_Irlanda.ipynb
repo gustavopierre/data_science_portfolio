{
  "nbformat": 4,
  "nbformat_minor": 0,
  "metadata": {
    "colab": {
      "name": "Analise_Crimes_na_Irlanda.ipynb",
      "provenance": [],
      "collapsed_sections": [],
      "authorship_tag": "ABX9TyMphws246edWOQ8fM3WyD9t",
      "include_colab_link": true
    },
    "kernelspec": {
      "name": "python3",
      "display_name": "Python 3"
    }
  },
  "cells": [
    {
      "cell_type": "markdown",
      "metadata": {
        "id": "view-in-github",
        "colab_type": "text"
      },
      "source": [
        "<a href=\"https://colab.research.google.com/github/gustavopierre/data_science_portfolio/blob/master/Analise_Crimes_na_Irlanda.ipynb\" target=\"_parent\"><img src=\"https://colab.research.google.com/assets/colab-badge.svg\" alt=\"Open In Colab\"/></a>"
      ]
    },
    {
      "cell_type": "markdown",
      "metadata": {
        "id": "pPoFfWLeehc-",
        "colab_type": "text"
      },
      "source": [
        "# Análise dos Crimes na Irlanda\n",
        "## Introdução\n",
        "A República da Irlanda é um estado soberano da Europa, cuja capital é Dublin. Considerado um país desenvolvido, tem o terceiro Índice de Desenvolvimento Humano (IDH) do mundo e ótimas classificações em índices que medem o grau de democracia e liberdades como a de imprensa, econômica e política. <br>\n",
        "No entanto, a Irlanda já foi um dos países mais pobres da Europa. Apresentou uma rápida expansão da economia a partir do final da década de 80, principalmente de 1995 a 2007. A partir de 2008 sofreu uma crise financeira sem precedentes. No entanto, a economia irlandesa voltou a crescer a partir de 2012 e, em 2017, cresceu três vezes mais que qualquer outro país europeu.<br>\n",
        "Este projeto tem como tema apresentar informações relativas aos crimes ocorridos na Irlanda com base em dados obtidos na internet. <br>\n",
        "O policiamento na Irlanda é provido pela Garda Síochána (Guarda da Paz da Irlanda), que é a força policial civil da República da Irlanda, com atribuições de polícia judiciária e polícia preventiva uniformizada. Tem a sua Central de Polícia localizada em Dublin, em Phoenix Park. Sua atuação operacional divide o país em quatro regiões policiais: Dublin, a região metropolitana e mais, Leste, Norte/Oeste e Sul.<br>\n",
        "Como segundo trabalho do Curso de Ciência de Dados, vamos analisar os crimes na Irlanda abrangendo as etapas de obtenção dos dados, análise exploratória dos mesmos e exibição das informações relativas à eles."
      ]
    },
    {
      "cell_type": "markdown",
      "metadata": {
        "id": "ldTs7sXLFVha",
        "colab_type": "text"
      },
      "source": [
        "## Obtenção dos Dados\n",
        "Tendo a tarefa definida de analisar os crimes na Irlanda, iniciamos a busca pelos dados.Esta é uma parte importante neste processo. Os primeiros sites procurados foram os [Escritório Central de Estatísticas (Central Statistics Office - CSO)](https://www.cso.ie/en/index.html) e [Portal de Dados Abertos da Irlanda](https://data.gov.ie/), que possuem uma séries de conjunto de dados sobre diversos temas referentes à Irlanda. Devido ao pouco tempo disponível, à busca por outros sites na internet foi realizada, mas nada relevante foi encontrado. No site do CSO, haviam vários dados de crimes. Optamos por usar os dados da *Garda Síochána* por quadrimestre de 2003 até o primeiro quadrimestre de 2020, divididos por regiões operacionais. Para possibilitar a visualização espacial e geograficamente distribuída dos dados, buscamos dados que delimitam as regiões operacionais, que foram encontradas no site dos [Limites do Censo de 2011](http://census.cso.ie/censusasp/saps/boundaries/ED_SA%20Disclaimer1.htm), via consulta ao site da [biblioteca da University College Dublin (UCD)](https://libguides.ucd.ie/gisguide/FindSpatialData). \n",
        "Foram obtidos seis arquivos de dados de crimes, um para cada região operacional da *Garda* e um conjunto de arquivos com os limites geográficos das referidas regiões."
      ]
    },
    {
      "cell_type": "markdown",
      "metadata": {
        "id": "2bTA7fYsqqF8",
        "colab_type": "text"
      },
      "source": [
        "## Configuração do Ambiente\n",
        "Para a carregamento, análise e exploração dos dados, usaremos Python. Para seu uso, serão necessárias as seguintes bibliotecas de funções que serão importadas para o ambiente:\n",
        "\n",
        "* Pandas - uma biblioteca de uso fácil, que permite ao usuário explorar, manipular e visualizar os dados de um modo bastante eficiente.\n",
        "* Numpy - uma biblioteca usada, principalmente, para realizar cálculos em vetores multidimensionais.\n",
        "* Matplotlib - uma biblioteca para visualização de dados.\n",
        "* Seaborn - uma biblioteca de visualização baseada na Matplotlib.\n",
        "* Folium - uma biblioteca que permite vizualização de dados manipulados em Python em um mapa interativo.\n",
        "* Geopandas - ..."
      ]
    },
    {
      "cell_type": "code",
      "metadata": {
        "id": "VJpzs0SXgGPY",
        "colab_type": "code",
        "colab": {}
      },
      "source": [
        "!pip install --upgrade geopandas"
      ],
      "execution_count": null,
      "outputs": []
    },
    {
      "cell_type": "code",
      "metadata": {
        "id": "Fv2MMY3ueGHR",
        "colab_type": "code",
        "colab": {}
      },
      "source": [
        "import geopandas as gpd"
      ],
      "execution_count": 5,
      "outputs": []
    },
    {
      "cell_type": "code",
      "metadata": {
        "id": "9ajS6iOcgX0y",
        "colab_type": "code",
        "colab": {
          "base_uri": "https://localhost:8080/",
          "height": 122
        },
        "outputId": "daea9320-ad4c-42be-9241-d84b02a62e07"
      },
      "source": [
        "from google.colab import drive\n",
        "drive.mount('/content/drive')"
      ],
      "execution_count": 1,
      "outputs": [
        {
          "output_type": "stream",
          "text": [
            "Go to this URL in a browser: https://accounts.google.com/o/oauth2/auth?client_id=947318989803-6bn6qk8qdgf4n4g3pfee6491hc0brc4i.apps.googleusercontent.com&redirect_uri=urn%3aietf%3awg%3aoauth%3a2.0%3aoob&response_type=code&scope=email%20https%3a%2f%2fwww.googleapis.com%2fauth%2fdocs.test%20https%3a%2f%2fwww.googleapis.com%2fauth%2fdrive%20https%3a%2f%2fwww.googleapis.com%2fauth%2fdrive.photos.readonly%20https%3a%2f%2fwww.googleapis.com%2fauth%2fpeopleapi.readonly\n",
            "\n",
            "Enter your authorization code:\n",
            "··········\n",
            "Mounted at /content/drive\n"
          ],
          "name": "stdout"
        }
      ]
    },
    {
      "cell_type": "code",
      "metadata": {
        "id": "4p356JgpFU3S",
        "colab_type": "code",
        "colab": {
          "base_uri": "https://localhost:8080/",
          "height": 170
        },
        "outputId": "7adb646f-db1a-4b70-b005-4a3170e1d5ac"
      },
      "source": [
        "shapefile = gpd.read_file(\"/content/drive/My Drive/dados/Census2011_Garda_Regions_Nov2013.shp\")\n",
        "print(shapefile)"
      ],
      "execution_count": 6,
      "outputs": [
        {
          "output_type": "stream",
          "text": [
            "                       REGION  ...                                           geometry\n",
            "0              Western Region  ...  POLYGON ((83947.836 345517.925, 83958.344 3455...\n",
            "1  Dublin Metropolitan Region  ...  POLYGON ((316466.866 266374.324, 316474.719 26...\n",
            "2              Eastern Region  ...  POLYGON ((283555.645 296997.202, 283560.767 29...\n",
            "3             Northern Region  ...  POLYGON ((239700.975 459754.938, 239744.468 45...\n",
            "4        South Eastern Region  ...  POLYGON ((195303.901 212291.734, 195309.015 21...\n",
            "5             Southern Region  ...  POLYGON ((167918.851 166945.098, 167921.837 16...\n",
            "\n",
            "[6 rows x 13 columns]\n"
          ],
          "name": "stdout"
        }
      ]
    },
    {
      "cell_type": "code",
      "metadata": {
        "id": "qznvF09Jhk81",
        "colab_type": "code",
        "colab": {
          "base_uri": "https://localhost:8080/",
          "height": 235
        },
        "outputId": "6044fe3a-b1d2-4d4b-d0f0-522785487317"
      },
      "source": [
        "shapefile"
      ],
      "execution_count": 7,
      "outputs": [
        {
          "output_type": "execute_result",
          "data": {
            "text/html": [
              "<div>\n",
              "<style scoped>\n",
              "    .dataframe tbody tr th:only-of-type {\n",
              "        vertical-align: middle;\n",
              "    }\n",
              "\n",
              "    .dataframe tbody tr th {\n",
              "        vertical-align: top;\n",
              "    }\n",
              "\n",
              "    .dataframe thead th {\n",
              "        text-align: right;\n",
              "    }\n",
              "</style>\n",
              "<table border=\"1\" class=\"dataframe\">\n",
              "  <thead>\n",
              "    <tr style=\"text-align: right;\">\n",
              "      <th></th>\n",
              "      <th>REGION</th>\n",
              "      <th>REG_CODE</th>\n",
              "      <th>GEOGID</th>\n",
              "      <th>Male2011</th>\n",
              "      <th>Female2011</th>\n",
              "      <th>Total2011</th>\n",
              "      <th>PPOcc2011</th>\n",
              "      <th>Unocc2011</th>\n",
              "      <th>Vacant2011</th>\n",
              "      <th>HS2011</th>\n",
              "      <th>PCVac2011</th>\n",
              "      <th>CREATEDBY</th>\n",
              "      <th>geometry</th>\n",
              "    </tr>\n",
              "  </thead>\n",
              "  <tbody>\n",
              "    <tr>\n",
              "      <th>0</th>\n",
              "      <td>Western Region</td>\n",
              "      <td>02</td>\n",
              "      <td>J02</td>\n",
              "      <td>293149.0</td>\n",
              "      <td>293530.0</td>\n",
              "      <td>586679.0</td>\n",
              "      <td>213518.0</td>\n",
              "      <td>63911.0</td>\n",
              "      <td>57868.0</td>\n",
              "      <td>277429.0</td>\n",
              "      <td>20.9</td>\n",
              "      <td>Paul Creaner</td>\n",
              "      <td>POLYGON ((83947.836 345517.925, 83958.344 3455...</td>\n",
              "    </tr>\n",
              "    <tr>\n",
              "      <th>1</th>\n",
              "      <td>Dublin Metropolitan Region</td>\n",
              "      <td>06</td>\n",
              "      <td>J06</td>\n",
              "      <td>619892.0</td>\n",
              "      <td>653149.0</td>\n",
              "      <td>1273041.0</td>\n",
              "      <td>469432.0</td>\n",
              "      <td>58222.0</td>\n",
              "      <td>43707.0</td>\n",
              "      <td>527654.0</td>\n",
              "      <td>8.3</td>\n",
              "      <td>Paul Creaner</td>\n",
              "      <td>POLYGON ((316466.866 266374.324, 316474.719 26...</td>\n",
              "    </tr>\n",
              "    <tr>\n",
              "      <th>2</th>\n",
              "      <td>Eastern Region</td>\n",
              "      <td>04</td>\n",
              "      <td>J04</td>\n",
              "      <td>384474.0</td>\n",
              "      <td>387106.0</td>\n",
              "      <td>771580.0</td>\n",
              "      <td>265183.0</td>\n",
              "      <td>36762.0</td>\n",
              "      <td>30403.0</td>\n",
              "      <td>301945.0</td>\n",
              "      <td>10.1</td>\n",
              "      <td>Paul Creaner</td>\n",
              "      <td>POLYGON ((283555.645 296997.202, 283560.767 29...</td>\n",
              "    </tr>\n",
              "    <tr>\n",
              "      <th>3</th>\n",
              "      <td>Northern Region</td>\n",
              "      <td>01</td>\n",
              "      <td>J01</td>\n",
              "      <td>259089.0</td>\n",
              "      <td>259417.0</td>\n",
              "      <td>518506.0</td>\n",
              "      <td>187755.0</td>\n",
              "      <td>58729.0</td>\n",
              "      <td>53927.0</td>\n",
              "      <td>246484.0</td>\n",
              "      <td>21.9</td>\n",
              "      <td>Paul Creaner</td>\n",
              "      <td>POLYGON ((239700.975 459754.938, 239744.468 45...</td>\n",
              "    </tr>\n",
              "    <tr>\n",
              "      <th>4</th>\n",
              "      <td>South Eastern Region</td>\n",
              "      <td>05</td>\n",
              "      <td>J05</td>\n",
              "      <td>284478.0</td>\n",
              "      <td>286093.0</td>\n",
              "      <td>570571.0</td>\n",
              "      <td>207741.0</td>\n",
              "      <td>44923.0</td>\n",
              "      <td>40138.0</td>\n",
              "      <td>252664.0</td>\n",
              "      <td>15.9</td>\n",
              "      <td>Paul Creaner</td>\n",
              "      <td>POLYGON ((195303.901 212291.734, 195309.015 21...</td>\n",
              "    </tr>\n",
              "    <tr>\n",
              "      <th>5</th>\n",
              "      <td>Southern Region</td>\n",
              "      <td>03</td>\n",
              "      <td>J03</td>\n",
              "      <td>431617.0</td>\n",
              "      <td>436258.0</td>\n",
              "      <td>867875.0</td>\n",
              "      <td>316482.0</td>\n",
              "      <td>72187.0</td>\n",
              "      <td>63408.0</td>\n",
              "      <td>388669.0</td>\n",
              "      <td>16.3</td>\n",
              "      <td>Paul Creaner</td>\n",
              "      <td>POLYGON ((167918.851 166945.098, 167921.837 16...</td>\n",
              "    </tr>\n",
              "  </tbody>\n",
              "</table>\n",
              "</div>"
            ],
            "text/plain": [
              "                       REGION  ...                                           geometry\n",
              "0              Western Region  ...  POLYGON ((83947.836 345517.925, 83958.344 3455...\n",
              "1  Dublin Metropolitan Region  ...  POLYGON ((316466.866 266374.324, 316474.719 26...\n",
              "2              Eastern Region  ...  POLYGON ((283555.645 296997.202, 283560.767 29...\n",
              "3             Northern Region  ...  POLYGON ((239700.975 459754.938, 239744.468 45...\n",
              "4        South Eastern Region  ...  POLYGON ((195303.901 212291.734, 195309.015 21...\n",
              "5             Southern Region  ...  POLYGON ((167918.851 166945.098, 167921.837 16...\n",
              "\n",
              "[6 rows x 13 columns]"
            ]
          },
          "metadata": {
            "tags": []
          },
          "execution_count": 7
        }
      ]
    },
    {
      "cell_type": "code",
      "metadata": {
        "id": "-m5h7qo1tGpP",
        "colab_type": "code",
        "colab": {}
      },
      "source": [
        "import pandas as pd"
      ],
      "execution_count": 8,
      "outputs": []
    },
    {
      "cell_type": "code",
      "metadata": {
        "id": "IZcZJPnEtM2s",
        "colab_type": "code",
        "colab": {}
      },
      "source": [
        ""
      ],
      "execution_count": null,
      "outputs": []
    },
    {
      "cell_type": "markdown",
      "metadata": {
        "id": "hsjIMT-3fT1G",
        "colab_type": "text"
      },
      "source": [
        "## Referências\n",
        "* Irlanda. Wikipedia. Disponível em: <https://pt.wikipedia.org/wiki/Irlanda>. Acesso em: 28 jun. 2020.\n",
        "\n",
        "* Ávany França. A Irlanda já não é mais a mesma.  Disponível em: <https://www.e-dublin.com.br/a-irlanda-ja-nao-e-mais-a-mesma/>. Acesso em: 28 jun. 2020.\n",
        "\n",
        "* Garda Síochána. Wikipedia. Disponível em: <https://en.wikipedia.org/wiki/Garda_S%C3%ADoch%C3%A1na>. Acesso em: 29 jun. 2020.\n",
        "\n",
        "* 2011 Census Boundaries. Central Statistics Office (CSO). Disponível em: <http://census.cso.ie/censusasp/saps/boundaries/ED_SA%20Disclaimer1.htm>. Acesso em: 29 jun. 2020.\n",
        "\n",
        "* Ireland's Open Data Portal. Disponível em: <https://data.gov.ie/>. Acesso em: 29 jun. 2020.\n",
        "\n",
        "* Central Statistics Office (CSO). Disponível em: <https://www.cso.ie/en/>. Acesso em: 29 jun. 2020.\n",
        "\n",
        "* Recorded Crime Offences Under Reservation by Garda Region, Type of Offence and Quarter. Central Statistics Office (CSO). Disponível em: <https://statbank.cso.ie/px/pxeirestat/Statire/SelectVarVal/Define.asp?MainTable=CJQ05&TabStrip=Select&PLanguage=0&FF=1>. Acesso em: 29 jun. 2020.\n",
        "\n",
        "* GIS at UCD and on the Web: Find Spatial Data & Other Datasets for Ireland. UCD Library. Disponível em: <https://libguides.ucd.ie/gisguide/FindSpatialData>. Acesso em: 29 jun. 2020.\n",
        "\n",
        "\n",
        "* Reading Spatial Data. Geopandas Documentation. Disponível em: <https://geopandas.org/io.html?highlight=shapefile>. Acesso em: 29 jun. 2020.\n",
        "\n",
        "* Mobasshir Bhuiyan. Stack Exchange Network. How to read a shapefile in Python?. Disponível em: <https://gis.stackexchange.com/questions/113799/how-to-read-a-shapefile-in-python>. Acesso em: 29 jun. 2020.\n"
      ]
    }
  ]
}